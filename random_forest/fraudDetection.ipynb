{
 "cells": [
  {
   "cell_type": "markdown",
   "metadata": {
    "nbgrader": {
     "grade": false,
     "locked": false,
     "solution": false
    }
   },
   "source": [
    "# Fraud detection through ensemble methods"
   ]
  },
  {
   "cell_type": "markdown",
   "metadata": {
    "nbgrader": {
     "grade": false,
     "locked": false,
     "solution": false
    }
   },
  {
   "cell_type": "code",
   "execution_count": 1,
   "metadata": {},
   "outputs": [],
   "source": [
    "import pandas as pd\n",
    "import numpy as np\n",
    "import math\n",
    "import matplotlib.pyplot as plt\n",
    "import seaborn as sns\n",
    "%matplotlib inline\n",
    "import warnings\n",
    "warnings.filterwarnings('ignore')"
   ]
  },
  {
   "cell_type": "markdown",
   "metadata": {},
   "source": [
    "## Data loading"
   ]
  },
  {
   "cell_type": "markdown",
   "metadata": {},
   "source": [
    "The data for this problem is included in the *data* folder, with separate files for training and test data. Each file includes several unidentified explanatory features, together with an \"Amount\" feature and the target \"Class\". Fraudulent operations are marked as Class == 1."
   ]
  },
  {
   "cell_type": "code",
   "execution_count": 2,
   "metadata": {},
   "outputs": [],
   "source": [
    "data = pd.read_csv('./data/fraud_train.csv',header=0, sep=',')"
   ]
  },
  {
   "cell_type": "markdown",
   "metadata": {},
   "source": [
    "Vemos el tamaño del dataset"
   ]
  },
  {
   "cell_type": "code",
   "execution_count": 3,
   "metadata": {},
   "outputs": [
    {
     "data": {
      "text/plain": [
       "(5246, 30)"
      ]
     },
     "execution_count": 3,
     "metadata": {},
     "output_type": "execute_result"
    }
   ],
   "source": [
    "data.shape"
   ]
  },
  {
   "cell_type": "markdown",
   "metadata": {},
   "source": [
    "Vemos las primeras líneas para hacernos una idea"
   ]
  },
  {
   "cell_type": "code",
   "execution_count": 4,
   "metadata": {},
   "outputs": [
    {
     "data": {
      "text/html": [
       "<div>\n",
       "<style scoped>\n",
       "    .dataframe tbody tr th:only-of-type {\n",
       "        vertical-align: middle;\n",
       "    }\n",
       "\n",
       "    .dataframe tbody tr th {\n",
       "        vertical-align: top;\n",
       "    }\n",
       "\n",
       "    .dataframe thead th {\n",
       "        text-align: right;\n",
       "    }\n",
       "</style>\n",
       "<table border=\"1\" class=\"dataframe\">\n",
       "  <thead>\n",
       "    <tr style=\"text-align: right;\">\n",
       "      <th></th>\n",
       "      <th>V1</th>\n",
       "      <th>V2</th>\n",
       "      <th>V3</th>\n",
       "      <th>V4</th>\n",
       "      <th>V5</th>\n",
       "      <th>V6</th>\n",
       "      <th>V7</th>\n",
       "      <th>V8</th>\n",
       "      <th>V9</th>\n",
       "      <th>V10</th>\n",
       "      <th>...</th>\n",
       "      <th>V21</th>\n",
       "      <th>V22</th>\n",
       "      <th>V23</th>\n",
       "      <th>V24</th>\n",
       "      <th>V25</th>\n",
       "      <th>V26</th>\n",
       "      <th>V27</th>\n",
       "      <th>V28</th>\n",
       "      <th>Amount</th>\n",
       "      <th>Class</th>\n",
       "    </tr>\n",
       "  </thead>\n",
       "  <tbody>\n",
       "    <tr>\n",
       "      <th>0</th>\n",
       "      <td>-2.312227</td>\n",
       "      <td>1.951992</td>\n",
       "      <td>-1.609851</td>\n",
       "      <td>3.997906</td>\n",
       "      <td>-0.522188</td>\n",
       "      <td>-1.426545</td>\n",
       "      <td>-2.537387</td>\n",
       "      <td>1.391657</td>\n",
       "      <td>-2.770089</td>\n",
       "      <td>-2.772272</td>\n",
       "      <td>...</td>\n",
       "      <td>0.517232</td>\n",
       "      <td>-0.035049</td>\n",
       "      <td>-0.465211</td>\n",
       "      <td>0.320198</td>\n",
       "      <td>0.044519</td>\n",
       "      <td>0.177840</td>\n",
       "      <td>0.261145</td>\n",
       "      <td>-0.143276</td>\n",
       "      <td>0.00</td>\n",
       "      <td>1</td>\n",
       "    </tr>\n",
       "    <tr>\n",
       "      <th>1</th>\n",
       "      <td>-3.043541</td>\n",
       "      <td>-3.157307</td>\n",
       "      <td>1.088463</td>\n",
       "      <td>2.288644</td>\n",
       "      <td>1.359805</td>\n",
       "      <td>-1.064823</td>\n",
       "      <td>0.325574</td>\n",
       "      <td>-0.067794</td>\n",
       "      <td>-0.270953</td>\n",
       "      <td>-0.838587</td>\n",
       "      <td>...</td>\n",
       "      <td>0.661696</td>\n",
       "      <td>0.435477</td>\n",
       "      <td>1.375966</td>\n",
       "      <td>-0.293803</td>\n",
       "      <td>0.279798</td>\n",
       "      <td>-0.145362</td>\n",
       "      <td>-0.252773</td>\n",
       "      <td>0.035764</td>\n",
       "      <td>529.00</td>\n",
       "      <td>1</td>\n",
       "    </tr>\n",
       "    <tr>\n",
       "      <th>2</th>\n",
       "      <td>-2.303350</td>\n",
       "      <td>1.759247</td>\n",
       "      <td>-0.359745</td>\n",
       "      <td>2.330243</td>\n",
       "      <td>-0.821628</td>\n",
       "      <td>-0.075788</td>\n",
       "      <td>0.562320</td>\n",
       "      <td>-0.399147</td>\n",
       "      <td>-0.238253</td>\n",
       "      <td>-1.525412</td>\n",
       "      <td>...</td>\n",
       "      <td>-0.294166</td>\n",
       "      <td>-0.932391</td>\n",
       "      <td>0.172726</td>\n",
       "      <td>-0.087330</td>\n",
       "      <td>-0.156114</td>\n",
       "      <td>-0.542628</td>\n",
       "      <td>0.039566</td>\n",
       "      <td>-0.153029</td>\n",
       "      <td>239.93</td>\n",
       "      <td>1</td>\n",
       "    </tr>\n",
       "    <tr>\n",
       "      <th>3</th>\n",
       "      <td>-4.397974</td>\n",
       "      <td>1.358367</td>\n",
       "      <td>-2.592844</td>\n",
       "      <td>2.679787</td>\n",
       "      <td>-1.128131</td>\n",
       "      <td>-1.706536</td>\n",
       "      <td>-3.496197</td>\n",
       "      <td>-0.248778</td>\n",
       "      <td>-0.247768</td>\n",
       "      <td>-4.801637</td>\n",
       "      <td>...</td>\n",
       "      <td>0.573574</td>\n",
       "      <td>0.176968</td>\n",
       "      <td>-0.436207</td>\n",
       "      <td>-0.053502</td>\n",
       "      <td>0.252405</td>\n",
       "      <td>-0.657488</td>\n",
       "      <td>-0.827136</td>\n",
       "      <td>0.849573</td>\n",
       "      <td>59.00</td>\n",
       "      <td>1</td>\n",
       "    </tr>\n",
       "    <tr>\n",
       "      <th>4</th>\n",
       "      <td>1.234235</td>\n",
       "      <td>3.019740</td>\n",
       "      <td>-4.304597</td>\n",
       "      <td>4.732795</td>\n",
       "      <td>3.624201</td>\n",
       "      <td>-1.357746</td>\n",
       "      <td>1.713445</td>\n",
       "      <td>-0.496358</td>\n",
       "      <td>-1.282858</td>\n",
       "      <td>-2.447469</td>\n",
       "      <td>...</td>\n",
       "      <td>-0.379068</td>\n",
       "      <td>-0.704181</td>\n",
       "      <td>-0.656805</td>\n",
       "      <td>-1.632653</td>\n",
       "      <td>1.488901</td>\n",
       "      <td>0.566797</td>\n",
       "      <td>-0.010016</td>\n",
       "      <td>0.146793</td>\n",
       "      <td>1.00</td>\n",
       "      <td>1</td>\n",
       "    </tr>\n",
       "  </tbody>\n",
       "</table>\n",
       "<p>5 rows × 30 columns</p>\n",
       "</div>"
      ],
      "text/plain": [
       "         V1        V2        V3        V4        V5        V6        V7  \\\n",
       "0 -2.312227  1.951992 -1.609851  3.997906 -0.522188 -1.426545 -2.537387   \n",
       "1 -3.043541 -3.157307  1.088463  2.288644  1.359805 -1.064823  0.325574   \n",
       "2 -2.303350  1.759247 -0.359745  2.330243 -0.821628 -0.075788  0.562320   \n",
       "3 -4.397974  1.358367 -2.592844  2.679787 -1.128131 -1.706536 -3.496197   \n",
       "4  1.234235  3.019740 -4.304597  4.732795  3.624201 -1.357746  1.713445   \n",
       "\n",
       "         V8        V9       V10  ...         V21       V22       V23  \\\n",
       "0  1.391657 -2.770089 -2.772272  ...    0.517232 -0.035049 -0.465211   \n",
       "1 -0.067794 -0.270953 -0.838587  ...    0.661696  0.435477  1.375966   \n",
       "2 -0.399147 -0.238253 -1.525412  ...   -0.294166 -0.932391  0.172726   \n",
       "3 -0.248778 -0.247768 -4.801637  ...    0.573574  0.176968 -0.436207   \n",
       "4 -0.496358 -1.282858 -2.447469  ...   -0.379068 -0.704181 -0.656805   \n",
       "\n",
       "        V24       V25       V26       V27       V28  Amount  Class  \n",
       "0  0.320198  0.044519  0.177840  0.261145 -0.143276    0.00      1  \n",
       "1 -0.293803  0.279798 -0.145362 -0.252773  0.035764  529.00      1  \n",
       "2 -0.087330 -0.156114 -0.542628  0.039566 -0.153029  239.93      1  \n",
       "3 -0.053502  0.252405 -0.657488 -0.827136  0.849573   59.00      1  \n",
       "4 -1.632653  1.488901  0.566797 -0.010016  0.146793    1.00      1  \n",
       "\n",
       "[5 rows x 30 columns]"
      ]
     },
     "execution_count": 4,
     "metadata": {},
     "output_type": "execute_result"
    }
   ],
   "source": [
    "data.head()"
   ]
  },
  {
   "cell_type": "markdown",
   "metadata": {},
   "source": [
    "### Variable objetivo"
   ]
  },
  {
   "cell_type": "markdown",
   "metadata": {},
   "source": [
    "Cambiamos de nombre a la variable objetivo, *Class*, por *target* y obtenemos sus valores."
   ]
  },
  {
   "cell_type": "code",
   "execution_count": 5,
   "metadata": {},
   "outputs": [],
   "source": [
    "data.columns= list(data.columns.str.replace('Class','target'))"
   ]
  },
  {
   "cell_type": "code",
   "execution_count": 6,
   "metadata": {},
   "outputs": [
    {
     "data": {
      "text/plain": [
       "array([1, 0], dtype=int64)"
      ]
     },
     "execution_count": 6,
     "metadata": {},
     "output_type": "execute_result"
    }
   ],
   "source": [
    "data.target.unique()"
   ]
  },
  {
   "cell_type": "markdown",
   "metadata": {},
   "source": [
    "Cambiamos los valores:<br>\n",
    "<li>anomalos: 1 por -1</li>\n",
    "<li>no-anomalos: 0 por 1</li>\n",
    "ya que es cómo el modelo <i>isolation</i> define a los valores."
   ]
  },
  {
   "cell_type": "code",
   "execution_count": 7,
   "metadata": {},
   "outputs": [],
   "source": [
    "data.replace({'target': {1:-1}}, inplace=True)\n",
    "data.replace({'target': {0: 1}}, inplace=True)"
   ]
  },
  {
   "cell_type": "markdown",
   "metadata": {},
   "source": [
    "Chequeamos la distribución de valores de target."
   ]
  },
  {
   "cell_type": "code",
   "execution_count": 8,
   "metadata": {},
   "outputs": [
    {
     "data": {
      "image/png": "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\n",
      "text/plain": [
       "<Figure size 432x288 with 1 Axes>"
      ]
     },
     "metadata": {},
     "output_type": "display_data"
    }
   ],
   "source": [
    "sns.set(style=\"white\")\n",
    "sns.set(style=\"whitegrid\", color_codes=True)\n",
    " \n",
    "#draw histogram plot\n",
    "sns.countplot(x = 'target', data = data, palette = 'hls')\n",
    "plt.show()"
   ]
  },
  {
   "cell_type": "markdown",
   "metadata": {},
   "source": [
    "Calculamos el porcentage de valores anomalos (contaminación)."
   ]
  },
  {
   "cell_type": "code",
   "execution_count": 9,
   "metadata": {},
   "outputs": [
    {
     "data": {
      "text/plain": [
       "246"
      ]
     },
     "execution_count": 9,
     "metadata": {},
     "output_type": "execute_result"
    }
   ],
   "source": [
    "len(data[data.target==-1])"
   ]
  },
  {
   "cell_type": "code",
   "execution_count": 10,
   "metadata": {},
   "outputs": [
    {
     "name": "stdout",
     "output_type": "stream",
     "text": [
      "Porcentage de contaminación: 4.7%\n"
     ]
    }
   ],
   "source": [
    "contamination= len(data[data.target==-1])/len(data)\n",
    "print('Porcentage de contaminación: {}%'.format(round(contamination*100,1)))"
   ]
  },
  {
   "cell_type": "markdown",
   "metadata": {},
   "source": [
    "### Variables explicativas"
   ]
  },
  {
   "cell_type": "markdown",
   "metadata": {},
   "source": [
    "#### Missing Values\n",
    "Comprobamos si hay NAs<br>\n",
    "No los hay"
   ]
  },
  {
   "cell_type": "code",
   "execution_count": 11,
   "metadata": {},
   "outputs": [],
   "source": [
    "assert(data.drop(['target'], axis=1).isna().sum().sum() == 0)"
   ]
  },
  {
   "cell_type": "markdown",
   "metadata": {},
   "source": [
    "#### Estadísticos básicos"
   ]
  },
  {
   "cell_type": "code",
   "execution_count": 12,
   "metadata": {},
   "outputs": [],
   "source": [
    "data['target']=data['target'].astype('category')"
   ]
  },
  {
   "cell_type": "code",
   "execution_count": 13,
   "metadata": {},
   "outputs": [
    {
     "data": {
      "text/plain": [
       "[CategoricalDtype(categories=[-1, 1], ordered=False), dtype('float64')]"
      ]
     },
     "execution_count": 13,
     "metadata": {},
     "output_type": "execute_result"
    }
   ],
   "source": [
    "list(set(data.dtypes.tolist()))"
   ]
  },
  {
   "cell_type": "code",
   "execution_count": 14,
   "metadata": {},
   "outputs": [],
   "source": [
    "data_numeric = data.select_dtypes(exclude = ['category'])"
   ]
  },
  {
   "cell_type": "markdown",
   "metadata": {},
   "source": [
    "Observando los estadísticos básicos vemos que en alguna variable podría haber outliers. Se comprueba después."
   ]
  },
  {
   "cell_type": "code",
   "execution_count": 15,
   "metadata": {},
   "outputs": [
    {
     "data": {
      "text/html": [
       "<div>\n",
       "<style scoped>\n",
       "    .dataframe tbody tr th:only-of-type {\n",
       "        vertical-align: middle;\n",
       "    }\n",
       "\n",
       "    .dataframe tbody tr th {\n",
       "        vertical-align: top;\n",
       "    }\n",
       "\n",
       "    .dataframe thead th {\n",
       "        text-align: right;\n",
       "    }\n",
       "</style>\n",
       "<table border=\"1\" class=\"dataframe\">\n",
       "  <thead>\n",
       "    <tr style=\"text-align: right;\">\n",
       "      <th></th>\n",
       "      <th>V1</th>\n",
       "      <th>V2</th>\n",
       "      <th>V3</th>\n",
       "      <th>V4</th>\n",
       "      <th>V5</th>\n",
       "      <th>V6</th>\n",
       "      <th>V7</th>\n",
       "      <th>V8</th>\n",
       "      <th>V9</th>\n",
       "      <th>V10</th>\n",
       "      <th>...</th>\n",
       "      <th>V20</th>\n",
       "      <th>V21</th>\n",
       "      <th>V22</th>\n",
       "      <th>V23</th>\n",
       "      <th>V24</th>\n",
       "      <th>V25</th>\n",
       "      <th>V26</th>\n",
       "      <th>V27</th>\n",
       "      <th>V28</th>\n",
       "      <th>Amount</th>\n",
       "    </tr>\n",
       "  </thead>\n",
       "  <tbody>\n",
       "    <tr>\n",
       "      <th>count</th>\n",
       "      <td>5246.000000</td>\n",
       "      <td>5246.000000</td>\n",
       "      <td>5246.000000</td>\n",
       "      <td>5246.000000</td>\n",
       "      <td>5246.000000</td>\n",
       "      <td>5246.000000</td>\n",
       "      <td>5246.000000</td>\n",
       "      <td>5246.000000</td>\n",
       "      <td>5246.000000</td>\n",
       "      <td>5246.000000</td>\n",
       "      <td>...</td>\n",
       "      <td>5246.000000</td>\n",
       "      <td>5246.000000</td>\n",
       "      <td>5246.000000</td>\n",
       "      <td>5246.000000</td>\n",
       "      <td>5246.000000</td>\n",
       "      <td>5246.000000</td>\n",
       "      <td>5246.000000</td>\n",
       "      <td>5246.000000</td>\n",
       "      <td>5246.000000</td>\n",
       "      <td>5246.000000</td>\n",
       "    </tr>\n",
       "    <tr>\n",
       "      <th>mean</th>\n",
       "      <td>-0.539993</td>\n",
       "      <td>0.182329</td>\n",
       "      <td>0.302563</td>\n",
       "      <td>0.308565</td>\n",
       "      <td>-0.470484</td>\n",
       "      <td>-0.037538</td>\n",
       "      <td>-0.397722</td>\n",
       "      <td>0.131348</td>\n",
       "      <td>-0.212005</td>\n",
       "      <td>-0.269800</td>\n",
       "      <td>...</td>\n",
       "      <td>0.054128</td>\n",
       "      <td>0.010017</td>\n",
       "      <td>-0.132105</td>\n",
       "      <td>-0.051927</td>\n",
       "      <td>0.010908</td>\n",
       "      <td>0.133937</td>\n",
       "      <td>0.019680</td>\n",
       "      <td>0.023637</td>\n",
       "      <td>-0.001524</td>\n",
       "      <td>93.582991</td>\n",
       "    </tr>\n",
       "    <tr>\n",
       "      <th>std</th>\n",
       "      <td>2.700370</td>\n",
       "      <td>2.111652</td>\n",
       "      <td>2.698561</td>\n",
       "      <td>1.715353</td>\n",
       "      <td>2.036673</td>\n",
       "      <td>1.411958</td>\n",
       "      <td>2.273415</td>\n",
       "      <td>2.027100</td>\n",
       "      <td>1.322918</td>\n",
       "      <td>1.863553</td>\n",
       "      <td>...</td>\n",
       "      <td>0.712131</td>\n",
       "      <td>1.154418</td>\n",
       "      <td>0.696071</td>\n",
       "      <td>0.748970</td>\n",
       "      <td>0.583605</td>\n",
       "      <td>0.470548</td>\n",
       "      <td>0.491799</td>\n",
       "      <td>0.460188</td>\n",
       "      <td>0.350230</td>\n",
       "      <td>250.696936</td>\n",
       "    </tr>\n",
       "    <tr>\n",
       "      <th>min</th>\n",
       "      <td>-34.591213</td>\n",
       "      <td>-44.639245</td>\n",
       "      <td>-31.103685</td>\n",
       "      <td>-5.519697</td>\n",
       "      <td>-32.092129</td>\n",
       "      <td>-21.248752</td>\n",
       "      <td>-21.922811</td>\n",
       "      <td>-37.353443</td>\n",
       "      <td>-9.283925</td>\n",
       "      <td>-18.271168</td>\n",
       "      <td>...</td>\n",
       "      <td>-11.748689</td>\n",
       "      <td>-12.815353</td>\n",
       "      <td>-8.887017</td>\n",
       "      <td>-26.751119</td>\n",
       "      <td>-2.185457</td>\n",
       "      <td>-7.495741</td>\n",
       "      <td>-1.345640</td>\n",
       "      <td>-7.144717</td>\n",
       "      <td>-8.364853</td>\n",
       "      <td>0.000000</td>\n",
       "    </tr>\n",
       "    <tr>\n",
       "      <th>25%</th>\n",
       "      <td>-1.160978</td>\n",
       "      <td>-0.556885</td>\n",
       "      <td>0.070103</td>\n",
       "      <td>-0.719923</td>\n",
       "      <td>-0.999000</td>\n",
       "      <td>-0.734639</td>\n",
       "      <td>-0.673759</td>\n",
       "      <td>-0.137595</td>\n",
       "      <td>-0.803361</td>\n",
       "      <td>-0.566849</td>\n",
       "      <td>...</td>\n",
       "      <td>-0.167872</td>\n",
       "      <td>-0.227437</td>\n",
       "      <td>-0.549349</td>\n",
       "      <td>-0.178857</td>\n",
       "      <td>-0.332102</td>\n",
       "      <td>-0.136150</td>\n",
       "      <td>-0.328017</td>\n",
       "      <td>-0.061094</td>\n",
       "      <td>-0.007941</td>\n",
       "      <td>5.102500</td>\n",
       "    </tr>\n",
       "    <tr>\n",
       "      <th>50%</th>\n",
       "      <td>-0.341215</td>\n",
       "      <td>0.142323</td>\n",
       "      <td>0.692239</td>\n",
       "      <td>0.214909</td>\n",
       "      <td>-0.360585</td>\n",
       "      <td>-0.226545</td>\n",
       "      <td>-0.100690</td>\n",
       "      <td>0.079762</td>\n",
       "      <td>-0.173325</td>\n",
       "      <td>-0.116838</td>\n",
       "      <td>...</td>\n",
       "      <td>-0.023263</td>\n",
       "      <td>-0.053649</td>\n",
       "      <td>-0.103794</td>\n",
       "      <td>-0.045147</td>\n",
       "      <td>0.068361</td>\n",
       "      <td>0.168982</td>\n",
       "      <td>-0.080875</td>\n",
       "      <td>0.015344</td>\n",
       "      <td>0.023243</td>\n",
       "      <td>22.190000</td>\n",
       "    </tr>\n",
       "    <tr>\n",
       "      <th>75%</th>\n",
       "      <td>1.157161</td>\n",
       "      <td>0.867764</td>\n",
       "      <td>1.357493</td>\n",
       "      <td>1.089141</td>\n",
       "      <td>0.211143</td>\n",
       "      <td>0.400486</td>\n",
       "      <td>0.395594</td>\n",
       "      <td>0.401846</td>\n",
       "      <td>0.454970</td>\n",
       "      <td>0.422938</td>\n",
       "      <td>...</td>\n",
       "      <td>0.179043</td>\n",
       "      <td>0.126478</td>\n",
       "      <td>0.299756</td>\n",
       "      <td>0.087792</td>\n",
       "      <td>0.402059</td>\n",
       "      <td>0.434307</td>\n",
       "      <td>0.289032</td>\n",
       "      <td>0.102887</td>\n",
       "      <td>0.083911</td>\n",
       "      <td>81.665000</td>\n",
       "    </tr>\n",
       "    <tr>\n",
       "      <th>max</th>\n",
       "      <td>1.618082</td>\n",
       "      <td>16.713389</td>\n",
       "      <td>3.971381</td>\n",
       "      <td>11.927512</td>\n",
       "      <td>31.457046</td>\n",
       "      <td>21.393069</td>\n",
       "      <td>34.303177</td>\n",
       "      <td>20.007208</td>\n",
       "      <td>7.938980</td>\n",
       "      <td>11.519106</td>\n",
       "      <td>...</td>\n",
       "      <td>6.993759</td>\n",
       "      <td>27.202839</td>\n",
       "      <td>4.534454</td>\n",
       "      <td>5.303607</td>\n",
       "      <td>3.979637</td>\n",
       "      <td>2.208209</td>\n",
       "      <td>2.964300</td>\n",
       "      <td>4.444505</td>\n",
       "      <td>5.414028</td>\n",
       "      <td>7712.430000</td>\n",
       "    </tr>\n",
       "  </tbody>\n",
       "</table>\n",
       "<p>8 rows × 29 columns</p>\n",
       "</div>"
      ],
      "text/plain": [
       "                V1           V2           V3           V4           V5  \\\n",
       "count  5246.000000  5246.000000  5246.000000  5246.000000  5246.000000   \n",
       "mean     -0.539993     0.182329     0.302563     0.308565    -0.470484   \n",
       "std       2.700370     2.111652     2.698561     1.715353     2.036673   \n",
       "min     -34.591213   -44.639245   -31.103685    -5.519697   -32.092129   \n",
       "25%      -1.160978    -0.556885     0.070103    -0.719923    -0.999000   \n",
       "50%      -0.341215     0.142323     0.692239     0.214909    -0.360585   \n",
       "75%       1.157161     0.867764     1.357493     1.089141     0.211143   \n",
       "max       1.618082    16.713389     3.971381    11.927512    31.457046   \n",
       "\n",
       "                V6           V7           V8           V9          V10  \\\n",
       "count  5246.000000  5246.000000  5246.000000  5246.000000  5246.000000   \n",
       "mean     -0.037538    -0.397722     0.131348    -0.212005    -0.269800   \n",
       "std       1.411958     2.273415     2.027100     1.322918     1.863553   \n",
       "min     -21.248752   -21.922811   -37.353443    -9.283925   -18.271168   \n",
       "25%      -0.734639    -0.673759    -0.137595    -0.803361    -0.566849   \n",
       "50%      -0.226545    -0.100690     0.079762    -0.173325    -0.116838   \n",
       "75%       0.400486     0.395594     0.401846     0.454970     0.422938   \n",
       "max      21.393069    34.303177    20.007208     7.938980    11.519106   \n",
       "\n",
       "          ...               V20          V21          V22          V23  \\\n",
       "count     ...       5246.000000  5246.000000  5246.000000  5246.000000   \n",
       "mean      ...          0.054128     0.010017    -0.132105    -0.051927   \n",
       "std       ...          0.712131     1.154418     0.696071     0.748970   \n",
       "min       ...        -11.748689   -12.815353    -8.887017   -26.751119   \n",
       "25%       ...         -0.167872    -0.227437    -0.549349    -0.178857   \n",
       "50%       ...         -0.023263    -0.053649    -0.103794    -0.045147   \n",
       "75%       ...          0.179043     0.126478     0.299756     0.087792   \n",
       "max       ...          6.993759    27.202839     4.534454     5.303607   \n",
       "\n",
       "               V24          V25          V26          V27          V28  \\\n",
       "count  5246.000000  5246.000000  5246.000000  5246.000000  5246.000000   \n",
       "mean      0.010908     0.133937     0.019680     0.023637    -0.001524   \n",
       "std       0.583605     0.470548     0.491799     0.460188     0.350230   \n",
       "min      -2.185457    -7.495741    -1.345640    -7.144717    -8.364853   \n",
       "25%      -0.332102    -0.136150    -0.328017    -0.061094    -0.007941   \n",
       "50%       0.068361     0.168982    -0.080875     0.015344     0.023243   \n",
       "75%       0.402059     0.434307     0.289032     0.102887     0.083911   \n",
       "max       3.979637     2.208209     2.964300     4.444505     5.414028   \n",
       "\n",
       "            Amount  \n",
       "count  5246.000000  \n",
       "mean     93.582991  \n",
       "std     250.696936  \n",
       "min       0.000000  \n",
       "25%       5.102500  \n",
       "50%      22.190000  \n",
       "75%      81.665000  \n",
       "max    7712.430000  \n",
       "\n",
       "[8 rows x 29 columns]"
      ]
     },
     "execution_count": 15,
     "metadata": {},
     "output_type": "execute_result"
    }
   ],
   "source": [
    "data.describe()"
   ]
  },
  {
   "cell_type": "markdown",
   "metadata": {},
   "source": [
    "#### Distribuciones"
   ]
  },
  {
   "cell_type": "markdown",
   "metadata": {},
   "source": [
    "Echamos un vistazo a las distribuciones:<br>Observamos que son casi todas simétricas y centradas en cero."
   ]
  },
  {
   "cell_type": "code",
   "execution_count": 16,
   "metadata": {},
   "outputs": [
    {
     "data": {
      "image/png": "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\n",
      "text/plain": [
       "<Figure size 1152x1440 with 30 Axes>"
      ]
     },
     "metadata": {},
     "output_type": "display_data"
    }
   ],
   "source": [
    "data_numeric.hist(figsize=(16, 20), bins=50, xlabelsize=8, ylabelsize=8);"
   ]
  },
  {
   "cell_type": "markdown",
   "metadata": {},
   "source": [
    "#### Outliers"
   ]
  },
  {
   "cell_type": "markdown",
   "metadata": {},
   "source": [
    "Ploteamos el boxplot para cada variable<br>\n",
    "Observamos que hay outliers. Más adelante comprobaremos su comporotamiento en relaciones n-dim y si realmente son valores anomalos."
   ]
  },
  {
   "cell_type": "markdown",
   "metadata": {},
   "source": [
    "<li>Variables 1 a 10</li>"
   ]
  },
  {
   "cell_type": "code",
   "execution_count": 17,
   "metadata": {},
   "outputs": [
    {
     "data": {
      "image/png": "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\n",
      "text/plain": [
       "<Figure size 1440x720 with 1 Axes>"
      ]
     },
     "metadata": {},
     "output_type": "display_data"
    }
   ],
   "source": [
    "sns.set(rc={'figure.figsize':(20, 10)})\n",
    "sns.set_style(\"whitegrid\")\n",
    "sns.boxplot(data=data_numeric.drop('Amount', axis=1).iloc[:,0:10], palette=\"deep\")\n",
    "sns.despine(left=True)"
   ]
  },
  {
   "cell_type": "markdown",
   "metadata": {},
   "source": [
    "<li>Variables 11 a 20</li>"
   ]
  },
  {
   "cell_type": "code",
   "execution_count": 18,
   "metadata": {},
   "outputs": [
    {
     "data": {
      "image/png": "iVBORw0KGgoAAAANSUhEUgAABIIAAAI+CAYAAADATaFYAAAABHNCSVQICAgIfAhkiAAAAAlwSFlzAAALEgAACxIB0t1+/AAAADl0RVh0U29mdHdhcmUAbWF0cGxvdGxpYiB2ZXJzaW9uIDIuMi4yLCBodHRwOi8vbWF0cGxvdGxpYi5vcmcvhp/UCwAAIABJREFUeJzs3XuMXOddP/5n9mI7u+tbLuuES7Cln5AgcyCKW2IpQURKQF+qGiNaQ9lfLcDF/lGBGnFpJSIBBaKkQso/UARsSKsoYQqkldgvCArURUiNugVSUs4YqIS6i4nSeGPXbrP3tXd+f2Q9WZvHTmrPnJnznNdLQnrbSXceNJnZmff5nOeptVqtVgAAAAAgeQO9XgAAAAAAxVAEAQAAAFSEIggAAACgIhRBAAAAABWhCAIAAACoCEUQAAAAQEUoggAAAAAqQhEEAAAAUBGKIAAAAICKUAQBAAAAVIQiCAAAAKAiFEEAAAAAFaEIAgAAAKgIRRAAAABARSiCAAAAACpCEQQAAABQEYogAAAAgIpQBAEAAABUhCIIAAAAoCIUQQAAAAAVoQgCAAAAqAhFEAAAAEBFKIIAAAAAKkIRBAAAAFARiiAAAACAilAEAQAAAFSEIggAAACgIhRBAB2S53nI87zXywAAALgqRRBAhzQajdBoNHq9DAAAgKtSBAF0QJ7nodlshmazaSoIAADoW4oggA7YPAlkKggAAHrP1g1xiiAAAAAgObZuiFMEAXTAxMRENAMAAMWzdcPVKYIAOiDLslCv10O9Xg9ZlvV6OQAAUGm2bri6oV4vACAVBw4c6PUSAOiAS1eOFfsApMhEEECHTE9Ph+np6V4vA4AbZE8JgPKzdcPVmQgC6IBL9yBfyq4iA5ST93OANFzauuFS5g0mggA6wD3IAGnwfg6QjgMHDti+IUIRBAAAG+bn56MZgPI5ceJEOHHiRK+X0XcUQQAd4B5kgDQsLy9HMwDlkud5mJmZCTMzM46Pv4IiCKADHB8PkIZz585FMwDl8uSTT0YzNosG6BiTQAAA0B9Onz4dzZgIAuiYLMtMAwGU3Ld8y7dEMwDlMj4+Hs0oggAAoO3BBx+MZgDK5fjx49GMIggAANqmp6ejGYByybIs7N27N+zdu9fU/hXsEQQAAAAkxyRQnIkgAADYsHnjf4cAAJSbPTzjTAQBAMCGLMtCvV5vZwDKK8/zEIL38yspggAAYBOTQABpmJycDCGE8Hu/93s9Xkl/UQQBAMAmrhwDlF+e52F2dradvbe/wR5BAB2S53l7/BSA8vJ+DlB+l6aBrswoggA6ptFohEaj0etlAHCDvJ8DlN/c3Fw0owgC6Ig8z0Oz2QzNZtNVZIAS834OkIY9e/ZEM4oggI7YfOXYVWSA8vJ+DpCGY8eORTM2iwYAAAASk2VZ2LdvXzvzBhNBAB1w4MCBaAagXDYfHe8YeYBye/DBB8ODDz7Y62X0HUUQQAdMT09HMwDlkmVZqNfroV6vu4IMUHLT09M+m0e4NQygA+bn56MZgPIxCQTpurQJvKI3fZc2/7+UPedvMBEE0AG1Wi2aASifLMt8YYBENRoNG8FXhM3/r04RBNABo6Oj0QwAQH+4NCHSbDbbk0FQRYoggA6wuSgAQH8zIVItPp9fXcf3CPrRH/3RsH379hBCCN/2bd8WHn/88U4/BEDfubS56KUMAAD0js/nV9fRImhlZSWEEMIzzzzTyR8LUAquNACkwWaykKaJiYnwyCOPtDPpO3DgQK+X0Jc6WgT953/+Z1haWgpHjx4NFy5cCL/0S78U7r777k4+BEDf8oWhWnxRhHRdumXEZDukxYRI9Vw6Ov7QoUM9Xkl/6WgRtG3btvC+970vHD58OMzOzoZjx46FT3/602FoKP4wJ0+eDMvLy51cAgAU4uMf/3gIIYSf+Zmf6fFKgE6amZlpHzf8yU9+Muzbt6/HKwI6af/+/SGEEF544YUer4Ruq/r7+aX/1mM6WgTt27cvfMd3fEeo1Wph3759YdeuXeHVV18Nd9xxR/Tfv+uuuzr58AA9ZUKkOvI8D//93/8dQghhy5YtnnNIyCc/+cl2fuGFF8K73/3uHq4G6LRrfTkmLd7Pr66jp4Z98pOfDB/5yEdCCCGcPn06zM/Ph9tuu62TDwHQtxqNhhMoKsKpI5Cu+fn5aAaAVHS0CHr3u98dXnvttfCTP/mT4Rd/8RfDY489dtXbwgBSkud5aDabodlstieDACifr3/969EMQLls3ijaptGX62gRtGXLlvDEE0+ET3ziE6HRaIR77rmnkz8eoG+ZEKmWzSeNOHUE0qIIAkjDpY2ir8x0eI8gAKgCp45AuoaHh8PKyko7A1BObvW9uo5OBAFUldHT6pmYmDANBAk6cuRINANQLrVaLZpRBAF0hNHT6smyzDQQJOjQoUPRDEC5jI6ORjOKIAAAaJuamopmAMrFno5XpwgqWJ7nThSCBLk1DCANNv8HSEOWZWFkZCSMjIyY4r6CIqhgjUbDhwpIkFvDIG0u5FTH2tpaNANQLnmeh8XFxbC4uOh3+BUUQQXK8zw0m83QbDb9hwgAJeJCDkAaFPvVYcLz6hRBBfIfIqTLrWGQLhdyqqXVakUzkAbFfnUsLCxEM4oggI5waxiky4Wcarlw4UI0A+Wn2K8Wxf7VKYIKZGIAAKC/DQwMRDNQfop9eJ3fbgUyMQDpcjwlpMvru1re/va3RzMA5bK8vBzNKIIAOiLLsrB3796wd+9ex1MClNjp06ejGSg/d2hUy7lz56IZRVChXFGEtNVqtVCr1Xq9DAri1JHqcCtBtXz1q1+NZqD8PvOZz0Qzadr8udxn9MspgqCLpqamwtTUVK+XQQHyPA8zMzNhZmZGOVARTh2BNPniAOmam5uLZtK0a9euaEYRVChXFKvHF8Xq8PquFqeOVIuJ3mpZW1uLZqD8nAoIr1MEQZdMTU2FxcXFsLi4aCoIEqP4q5Ysy0K9Xg/1et0eYBVw8eLFaAbKb3V1NZpJkwmwq1MEFcgVxWrxRbFavL4hbRMTE17bAFAi6+vr0YwiqFCuKFaLK4rVkmVZGBkZCSMjI17fFaD4q54sy7y2K2JgYCCagfLbunVrNEPVDPV6AVXjC0N1jIyMhJWVlXYmbXmeh8XFxXb2hTFtWZaFffv2tTOQDleQIV2Dg4PRDFXjMkfBXFGsjvn5+WgmTW4FrJ5WqxVarVavlwEAvEUmguB1iiDoEqcSQLryPA+zs7NhdnbWqWEAUBIu1FaLCbCrUwQVbGpqyglSkKA777wzmkmTCTBIly8O1ZPnuVK/ItbW1qKZNLnV9+oUQQV75plnwjPPPNPrZVCAXbt2RTNpOnHiRDQDAP1tcnIyTE5O9noZQIdtvoXf7fyXUwQVaGpqKqysrISVlRVTQRVg9LRaVldXo5k0OTUM0uXUz2pxqy9QRYqgAm2eBDIVlD6jp9UyNDQUzaTpK1/5SjSTLreOVEetVotm0rR5EshUEFAViqACKQYgXWNjY9FMmhT71dNoNOwHVRFOFaqWubm5aAZImSKoQKOjo9EMlJ9bAatFsV8teZ6HZrMZms2mqaAKWF5ejmbStGfPnmgGSJkiqED2EIF0XbhwIZpJ0/j4eDSTJqfEQbqOHTsWzQApUwQVyD3nkC57BFXLBz7wgWgGAIB+pwgq0M6dO6MZKD97BFVLlmXh9ttvD7fffnvIsqzXy6HLnBIH6TLxB1SRy9YFuu2228Lp06fbmd762Mc+Fp5//vnCHu9973tf1372fffdF44ePdq1n8+bW1paimbSZRKoOq48JU75B+k4c+ZMNAOkTBFUoDvvvDM0m812Jm3btm1rbzK5bdu2Hq+Gbmu1WtFMbxRR9F7aFLzbE2CK3t67cmLg0KFDPVwN0Elnz56NZoCUKYIK9NnPfvay/P73v7+Hq+Ho0aNd/3J18ODBEEIIzz33XFcfh96zWXT1XCp63QqYPqfEQbr8/gaqSBFUoJWVlWgmXSaBquPixYvRTG8UUfReut3zqaee6urj0Hsm/iBdXt9AFSmCCjQwMND+gjgwYJ/uKtixY0evlwDADVpfX49mAIAy0kYUaHP5owgCgHIYGRmJZgCAMjIRtEm3Nxe9co8Bp0gBQP+7tDH4lRkAoIyMpRRocHAwmgEAAACKYCJok25vLprneXjkkUdCCCH89m//dsiyrGuPBQBV0e2J3iuZ6AUAysxEUIGyLAuDg4NhcHBQCQQAJWGiFwBIiYmggm3fvr3XSwCApHR7ojeEEA4ePBhCCOEv/uIvuvo4AFVmwhOKoQgq2JYtW3q9BADgm2QSCABIhSIIAOBN3HLLLb1eAlSSCZFq6faE55EjR8L58+dDCCHs2rUrPPXUU117LOhn9ggCAAAgec8880w0Q9WYCAIAoDRMiFRLtydEpqamwh//8R+HEEL42Z/92XDo0KGuPRZAvzARBAAAVNLm4kcJVA3j4+NhfHy818uAnjIRBFSCK8gAaej2hMjP//zPh1OnToUQQrjzzjvD7//+73ftsegPo6OjvV4CQKFMBAEAwIbNxY8SqBpGR0eVQUClmAgCKsEeAwC8VQMDrpUCkC6/5QA6wB4DAOm49dZbw6233trrZQBAV5gIAugQY+UAAEC/UwQBdIgiCAAA6HduDQMAAACoCEUQAAAAQEUoggAAAAAqQhEEAAAAUBGKIAAAAICKcGoYAIX70Ic+FM6ePdvrZdyQM2fOhBBCeN/73tfjldy4W265JfzO7/xOr5cBAEABFEEAFO7s2bNhbu7VsHV4pNdLuW61MBhCCOHr5xZ6vJIbs7K22OslAABQIEUQAD2xdXgk3PNd7+r1Mirvi//xqV4vAQCAAimCAAAAgEJ97GMfC88//3xhj9fN2/nvu+++cPTo0a79/E4rVRFkT4n+0u09JTzf/cUeIgAAAOVXqiLo0p4SteGber2U69baOKjt1XPzPV7JjWmtLXX9Mc6ePRvmXp0LAzeV6j/Ty6wPtEIIIZyZ/1qPV3Jj1pcu9HoJAABAQo4ePdrVKZqDBw9e9uennnqqa49VNqX7hl0bvimM/T8/0utlVN78f/3fQh5n4KahsPv/3FnIY3F15z59qtdLAErMhGd/MeEJXC/v5/3F+/m1/eVf/mW7DPrLv/zLHq+mv5SuCALS5INFf/HBgk46e/ZsePXVubB9dEuvl3Ldhl4/JC4sL57v7UJu0GsLq11/DO/n/cX7OZ1kYr9/mNjnRpT3FQwk5ezZs+HVubkwNjDQ66Vct8H19RBCCEsbXyDKan7j/w/opO2jW8L/9/9mvV5G5f3Rn+Rdf4zXvyi+GoZGt3f9sbqlNfj6R+SvLS73eCU35sLCa11/DMVffymi+DOx3x9M7L814+PjvV5CX1IEAX1jbGAgvHfnzb1eRuU9+/XuXyGbn58PK2tLji7vAytri2F+vtXrZZCYodHtYd+PH+/1Mipv5s8nu/4Y9vDsH0Xs4QmkQREEAABcN3t49oei9vAEyq+jRdD6+nr48Ic/HL785S+HLVu2hEcffTR8x3d8RycfAoAEjI2NhYtrtXDPd72r10upvC/+x6fC2Nhor5cBAPQZt372l07e+tnRIugzn/lMWF1dDX/2Z38WXnzxxfCRj3wk/MEf/EHHfv78/HxorS1pu/tAa20pzJd7ehYAAICrsIdn/+j0Hp4dLYJeeOGF8P3f//0hhBDuvvvu0Gw2O/njAYASmp+fD0tLq4VsVMy1vbawGi6su5IDwFtjD8/+0Ok9PDtaBM3Pz4exsbH2nwcHB8OFCxfC0FBnHmZsbCwsrQX3IPeB+f/6v5c91115jPn5sL50wY74fWB96UKYD9394jA/Px+W1tcL2aiYa5tfXw8XjfwB12l+fj5cWFoqZKNiru3Cwmthft0R03SOz+f9w+fzaun05/OOFkFjY2NhYWGh/ef19fVrlkAnT54My8tv/VjOlZWVG1ofnbWyshJeeOGFrv38Cxd8cOknFy5c8HxXSLefb+/n/aXb7+fDw8NhaMDx8f3gj/4kD7XBYe/nFdLt9/Pz58+H1tqarRv6QGttKZw/7/Nalfh8Xi3f7PO9f//+q/6zjhZB99xzT/iHf/iH8I53vCO8+OKL4Tu/8zuv+e/fdddd39TP37p1awiLazeyRDpo69at1/yP60bt2rUrnJn/Wtj9f+7s2mPw1pz79Kmwa2xX15/vpTNnjJ72gWe//rVw067uPt9bt24Ny4s+XPSLbr+fv/58O9a4XxTx+/tri8uOj+8DM38+GXaNbOvq8z00NBRWV30+7xdDQ0M+n1dEUZ/PX52b69rPL8Lyxt4620q8z9Eluzr4+byjRdAP/uAPhueffz685z3vCa1WKzz22GOd/PEAAEAfsXVD/yhi6waq5ZZbbun1Em7YwsYm0TfdemuPV3JjbgqdfT46WgQNDAyE3/qt3+rkjwQgUStri+GL//GpXi/jul24uBpCCGFocEuPV3JjVtYWQwiOjwcALtepo8p76dKx8U899VSPV9JfOloEAcBbkcIVpjNnXr/Vaefuspcoo0k8HwAAvDWKIKBvzJf8VIJU7kGeX18PN3X5MVxhgrRdWHit1KeGXVx5/TCTwa3berySG3Nh4bUQRsr9/wMAnVe6Iqi1tlTqUwlaG7cS1Ep+K0FrbSmE4B5kOieFiQT3IAOk8f5xZvH1I3pvLnuJMrItieeD/lL24+PXVy+GEEIY2DLY45XcmPWlC76OvQVzJd/sultKVQSl8IvszMYXxVt3l/1VO5bE80H/MCECkAbv55CuFD7/t7+PjZX8pNqxNJ4PeqNURZAPFgBQTq8trIY/+pO818u4bssrF0IIIWzbWqqPTv/LawurYdtIr1dBakzs94ciJvZ9H6NMDh8+fFl+7rnneria/lLuTzMkz+hpfzB6CtyIFK5Yzi++fgV528iuHq/kxmwbSeP5oH+k8N+TiX3ojY997GPh+eef79rPX15evixfKgG74b777gtHjx7t2s/vNEUQfSuFX2RGTwFcQYaUeX0DlI8iiL7lgwUAAECajh492tUpmoMHD172Z9/J3lDuM44BAAAAeMsUQQAAAAAVoQgCAAAAqAhFEAAAAEBFKIIAAAAAKkIRBAAAAFARiiAAAACAilAEAQAAAFSEIggAAACgIoZ6vQCAVMzNzfV6CQAAANdkIggAAACgIhRBAB1w5MiRaAYAAOgnbg0DKuFjH/tYeP7557v288+fP39Zft/73te1x7rvvvvC0aNHu/bzAapudXW110sAgK5RBAEAUBrdLvZDeKPc72apH4JiH4DeUAQBlXD06NGuftg+ePDgZX9+6qmnuvZYAHTP5mmg1dXVsGXLlh6uBui0M2fO9HoJ0HOKIAAASqPbxf6v/uqvtieCvu3bvi08/vjjXXssoHjr6+u9XgL0nM2iAeA6zM3Nhbm5uV4vA4AbtLq6al+oivj5n//5aIaqMRFUMF8aAAD618TERHjkkUfamfRtPvCB3ur2HmCbv4udOnXK4R5UlokgAPgm/diP/Vg0k66zZ8+Gs2fP9noZQIfleR7NACkzEbRJkQ30wYMHw/j4eNceSwMNVFm338/X1tYuy64opu/ixYu9XgIFaTQal2V7BPVWkZ/PH3nkEZ/Pe8zhHlAME0EAANfwoQ99KJpJ0/z8fDQDQCpMBG2igQZIg/fzailyYuA//uM/TIAlrlarRTO94f0coPNMBAEAwIalpaVoBqBcBgYGohkTQQBAyZkYoJM2bwpug3CA8hoeHg4rKyvtzBvUYgAAsGHzxuA2CQcor927d0cziiDoqtXV1bC6utrrZQAAb9Ftt90WzQCUy7Zt26IZRRB01WuvvRZee+21Xi+DAthcFCANDz/8cDQDQCrsEURldfuUmdXV1fZI+ZEjR8KWLVu69lhOmQGAzsiyLJoBKBcXaq/ORBB0yeZJIFNB6Wu1WtEMQLlMTU1FMwDl4vP51ZkIorK6fcrM4cOH2xNBw8PDTpkBgBJ4+umnL8uHDh3q4WoAuF4mgq7ORBB0iVNHqsUvGoA0rK2tRTMA5TI6OhrNKIIAOsLoKUAahoeHoxmAcjlw4EA0owgCAIC2n/qpn4pmAMrlxIkT0YwiCLpmfX09mgGA/nXo0KEwMDAQBgYG7A9UASMjI9FMmnbv3h3NpOn06dPRjCIIukYRBADlNDg4GAYHB3u9DAqwuLgYzaTpXe96VzSTpvHx8WhGEQRds2XLlmgGAPrX1NRUWFtbC2tra46Ph8RMT09HM2k6fvx4NKMIgq558MEHoxkA6F+NRiOagfKbnZ2NZqgaRRB0yb//+79HM1B+Q0ND0QxAuTglrlrm5+ejmTQp9q9OEQRd8sorr0QzUH4//dM/Hc1A+U1MTEQzadq8F5R9oYCqUARBl7RarWgGym/zSUJOFUpfrVaLZtLk1LBqWV1djWbSdO+990YzaXrppZeiGUUQdM0dd9wRzUD55XkezaRJsV8teZ6H9fX1sL6+7vVdAU55rRYXcqrl/Pnz0YwiCLrmoYceimag/NxzDuny+oZ0Pfnkk9EMVaMIgi5xPCUAlI/NZCFdp0+fjmbSND4+Hs0oggDgm2YzWUjX8vJyNJOm3bt3RzNpUgxUy1NPPRXNKIKga3xRhHRlWRbq9Xqo1+shy7JeLwfooHPnzkUzadq5c2c0k6bjx49HM+kaHx9X+kUM9XoBkKosy8K+ffvaGUiLgrc6arVae5Nop4alz+bB1eJUwGrJsizs3bu3nUmfSaA4RRB0kdNlIF0+QFbHwMBAuHjxYjuTNqfEVYvnu3pMAoEiCLomz/MwOzvbzr40ps3EAKTLxEC1XCr9rsykaWxsLJpJl8/k1ZLneQjB834ll7WgSxw/Wy2uKEK6FAPVsmXLlmgmTQcOHIhmIA2Tk5NhcnKy18voO4qgAg0NDUUzANC/FL3VcuTIkWgmTX/1V38VzUD5XbpDY3Z2tj0ZxOsUQQXav39/NJMmp4YBpGHzvkD2CErfyy+/HM2k6fTp09EMlN/mSSBTQZfzaaZAL774YjSTJsdLV4s9RCBdJoKq5W/+5m+iGYBymZubi2ZsFl2otbW1aCZdJoGqwxdFSJfXd7V4vqvF8w3p2rNnT5iZmWln3mAiqEBbt26NZtKVZZlpIAAokeHh4WgGoFyOHTsWzZgIKtTy8nI0A+U3ODjYPk1ocHCwx6sBOqlWq7UnBdz6mT4T3ABpyLIs7Nu3r515gyIIoAMcLw3pGh0dDfPz8+0MAJSDSaA4RVCB3IMMAOWzvr4ezUD5DQwMtF/XTgWE9JgEivNuBwBwDdu2bYtm0mSPoGpR9AJVpAgCALiGc+fORTNpskcQAKlTBAEAXINbuwGAlCiCCrRnz55oBgAAAChCx4qgVqsVvv/7vz8cOXIkHDlyJDzxxBOd+tHJePjhh6MZAOhfmzeQtZksAFB2HTs17NSpU+Guu+4Kf/iHf9ipH5mcr3zlK5dlO5gDQP8bHh4OKysr7QwAUGYdu6x18uTJcPr06XDkyJFw7Nixy0oPXvfss89GM1B+27dvj2ag/EZGRqIZAKCMrmsi6LnnngtPP/30ZX/367/+6+H48ePhh3/4h8O//Mu/hA9+8IPhU5/61DV/zsmTJ8Py8vL1LKGULl1NvJRfeOGFHq4G6KShoaHLstc3pGN+fv6y7PVdLZ7vavF8A6nYv3//Vf/ZdRVBhw8fDocPH77s75aWlsLg4GAIIYS3ve1t4fTp06HVaoVarXbVn3PXXXddz8OX1sDAQLh48WI7X+uJAcrl/Pnzl2Wvb0jHlXsEeX1Xi+e7WjzfQBV07Nawj370o+0pof/8z/8M3/It33LNEqiKNu8rYI8BSIvjpSFdu3fvjmYAoL/leR7yPO/1MvpOxzaLPn78ePjgBz8Y/vEf/zEMDg6Gxx9/vFM/OhnDw8PtW+EUQQBQDtu2bYtmAKC/NRqNEELQT1yhY0XQzp07w+TkZKd+XJKu3GMAAOh/m/czrNLehgBQZnmeh2az2c5O7X5Dx24NAwBI0blz56IZKL89e/ZEM1B+l6aBrswoggq1ec8k+ydBWi5tln9lBsrP7+9q2bp1azSTpoMHD0YzQMoUQQWymSykyxcHSNdNN90UzaTp7rvvjmbSND09Hc1A+U1MTEQzHdwjCKDKFhcXoxkov5WVlWgmTV/84hejGYByybIs7N27t515g4mgApkIAoDyGR8fj2bStLa2Fs2kycQApK1Wq7mtO0IRBNAB3/Vd3xXNQPkdP348mknT8PBwNANQLnmeh5mZmTAzMxPyPO/1cvqKIqhA9hiAdDlVCCAN99xzTzSTJqcKQbq8vq9OEVQgewxAuubm5qIZKD8fJKtl81VjV5ABSJEiqECOn4V0uZUA0rWwsBDNQPnZIwjS5fV9dYoggA5w3DCky2EP1fLAAw9EM2nKsizU6/VQr9edKgSJ8fq+OsfHF+jixYvRDJTfl770pWgGys9Eb7X8+7//ezSTLpMCkC6v7zhFUIFqtVr7SqIPkpCW5eXlaAbKb3FxMZpJ01e/+tVoJl0mBSBdXt9xbg0r0NDQUDQDAP3r9OnT0UyaHO4BQOoUQQUaGxuLZgAAAIAiKIIK5AoTAAAA0EuKoALt2LEjmgEAAACKoAgq0Pz8fDQDAP1rz5490Uyabr755mgGoHzyPA95nvd6GX1HEVQgRRAAlM/q6mo0k6Yf+7Efi2YAyqfRaIRGo9HrZfQdRRAAwDWcO3cumknTiRMnopl0mRiANOV5HprNZmg2m17jV1AEAQDAhpdffjmaSdeTTz4ZnnzyyV4vA+iwzZNApoIupwgq0NDQUDQDAADFy/M8zMzMhJmZGRMDQGUoggq0ffv2aAYAoD+MjIxEM2naPAlkKgjSMjExEc0oggpls2gAgP62uLgYzaTppZdeimaAlCmCCnThwoVoBspvcHAwmgEoF+/n1eLzOaTLHkFXpwgqUKvVimag/G666aZoBspveHg4mknTAw88EM2kacuWLdEMkDJFEEAHuPUT0nXLLbdEM2k6depUNJOmI0eORDNQfvYIujpFEAAAbDhz5kw0k6ZDhw6FrVu3hq1bt4ZDhw71ejlAB2VZFur1eqjX6yHLsl5rE7miAAAgAElEQVQvp684wxwA4BrOnTsXzaTJ8109JoEgXSaB4hRBAADXsL6+Hs2kyWbR1WMSCKgat4YBAMCGzbcPuJUAoNwajYYTwyIUQQAA12AiqFryPI9m0vXoo4+GRx99tNfLADosz/PQbDZDs9n0fn4FRVCBarVaNAPlNzAwEM1A+V28eDGaSZPnu3q+8IUvhC984Qu9XgbQYZsngUwFXc63lQIpgiBdJgYA0rB79+5oJk2bJ4FMBQFVoQgqkC+KAAD97dZbb41m0rR5EshUEKTlwIED0YwiCAAA2nxxAEjD9PR0NKMIKpRbwwAA+psvDgCkThFUoFarFc1A+Q0NDUUzANC/tm3bFs1A+U1MTEQziiCAjlD0AqTBF4dqWV1djWag/LIsCyMjI2FkZCRkWdbr5fQVl60BOkARBJCGLMtCvV5vZ9I2PDwcVlZW2hlIR57nYXFxsZ29p7/BRFCBNv9y8YsG0jIyMhLNAJTPxMSEaaCKuPvuu6MZKL9GoxHNmAgq1ODgYFhbW2tnIB3Ly8vRDJTfwMBAWF9fb2fS56pxdXzxi1+MZoCU+TRTIF8UIV0XLlyIZqD8du7cGc1A+V26SHtlBsrPnm9XZyIIAOAaLu0fcmUGyq9Wq7X39qvVaj1eDdBJ9ny7OkVQgYyWA0D57Nixo73Z5I4dO3q8GqCT9uzZE1555ZV2BtJiEihOG1GgSyXQlRkAACjeBz7wgWgG0pBlmWmgCEUQQAds3gDeZvCQlrNnz0YzUH5f+cpXohkgZYqgAt15553RDJTf0NBQNAPlZzP46snzPOR53utlUICnn346mgFSpggq0NzcXDQD5TcyMhLNQPkpequn0WiERqPR62VQAKeGAVWkCCqQU0cgXd/4xjeiGSi/m2++OZpJU57nodlshmazaSqoAjafFObUMKAqFEEFunQ05ZUZKL+LFy9GM1B+Jv6qZfMkkKmg9G0+KcypYUBVKIIAAK7BhRxIl1PDgCpSBAF0gD1EANLgcI9qybIs1Gq1UKvVHDENVIYiqEDuQYZ0/dAP/VA0A+Xn93e1nDhxIppJ09TUVGi1WqHVaoWpqaleLwegEIqgAg0MDEQzUH6nTp2KZqD8RkdHo5k0OUWqWuwJBVSRNqJA6+vr0QwA9K+JiYloJk3j4+PRDACpUAQVaMuWLdEMlN9LL70UzUD5ZVkW6vV6qNfr9hCpgHe+853RTJoeeOCBaAbSkOd5yPO818voO4qgAj344IPRDJTf+fPnoxlIw8TEhGmgirBHULW4tRvS1mg03PYZoQgqkF80AAD97fTp09FMmubn56MZKL88z0Oz2QzNZtNU0BUUQQXyiwYAyskVxerYsWNHNJMmpwJCumwGf3WKoAL5RQPp2rp1azQD5eeKYrVs27YtmknT4uJiNAOkTBEE0AHDw8PRDJSfK4rVMjY2Fs2k6etf/3o0A+Xn1M+rUwQVaGlpKZqB8nPrJ0AafHGoloGBgWgGys+pn1c31OsFVMk3vvGNaAYA+tfo6Gg0A+X3wAMPhL/+679uZyAtCv04tXeBtm/fHs1A+dkDDNL1z//8z9FMmtwKWC1O9YW0ZVlmGihCEVQgXxQhXa1WK5oBAAD6iSKoQG4NA4Dyefvb3x7NpOnAgQPRTJrsCQVUkSKoQHv27IlmoPxsNgnpWlhYiGbS9Fd/9VfRTJpsJgtUkW8rBXrwwQejGSg/m8kCpOH06dPRTLomJiZMAwGVckNF0N///d+HX/7lX27/+cUXXwyHDx8O73nPe8JHP/rRG15caj7zmc9EM1B+jo+HdLlVqFrs+VY9NpMFqua6i6BHH300PPHEE2F9fb39d7/xG78RnnjiifCJT3wifOlLXwonT57syCJT8dWvfjWagfLzxQHSNT09Hc0AAGV03UXQPffcEz784Q+3/zw/Px9WV1fDnXfeGWq1Wrj//vvD5z//+U6sMRlODYN02SMI0mWPoGrZunVrNANAKobe7F947rnnwtNPP33Z3z322GPhHe94R/jCF77Q/rv5+fkwNjbW/vPo6Gj4n//5n2v+7JMnT4bl5eVvds2ltXPnzvb/vzt37gwvvPBCj1cEdMqVE0Fe35COV1999bLs9Z227/me7wn//M//3M6ebwDKaP/+/Vf9Z29aBB0+fDgcPnz4TR9kbGzsf10x27FjxzX/N3fdddeb/tyUPPzww+GRRx5pZ/ciQzqGhobC2tpaO1/rjRcol8XFxcuy13faPvnJT7bz0tKS5xuA5HTs/oWxsbEwPDwcTp06FVqtVvjc5z4X3va2t3Xqxychy7IwPDwchoeHlUCQmJtvvjmagfIbHByMZtLkVkAAUvemE0HfjN/8zd8Mv/IrvxIuXrwY7r///vC93/u9nfzxpZfneXtiIM9zZRAk5KabbopmoPwGBwfbv78VQemz+T8AqbuhIujee+8N9957b/vPd999d/jzP//zG15UqiYnJy/Lv/d7v9fD1QCdtHm/syrtfQZV4PVdLZv3vNycASAVjrYp0NzcXDQD5feNb3wjmoHyc+pntRw4cCCaASAViqACbd48+8020gbKZfv27dEMlN8P//APRzNpmp6ejmYASIUiqEDbtm2LZqD8RkZGohkov/e///3RDABQRoqgArnnHNI1OjoazUD5TU1NRTNpmpiYiGYASIUiqEA+WEC67rzzzmgGyu+ZZ56JZtKUZVmo1+uhXq874RWAJCmCADrg05/+dDQD5Xfp6PgrM+mamJhw0Q6AZCmCCvS7v/u70QyU3/r6ejQD5Tc+Ph7NAABlpAgq0OnTp6MZAOhfH/jAB6KZdE1OTobJycleLwMAukIRBABwDZ/73OeimTTleR5mZ2fD7OxsyPO818sBgI5TBBXIaDkAlM/f/M3fRDNp2jwJZCoIgBQpggp08ODBaAbKb2xsLJqB8mu1WtFMmubm5qIZAFKhCCrQiRMnohkov9tuuy2agfLbvn17NJOmHTt2RDMApEIRVCCbRQNA+dxyyy3RTJq2bdsWzQCQCkVQgewRBOly6wikq1arRTNp8nwDkDpFUIEeeuihaAbKzx5BkK7FxcVoJk1LS0vRDACpUAQVaHp6OpqB8puYmIhmoPzOnz8fzaTp3Llz0QwAqVAEAQBcg1uFqmV9fT2aASAViqACmRiAdD355JPRDJTfHXfcEc2kaWBgIJoBIBV+uwF0wEsvvRTNQPkdO3YsmknTrl27ohmA8snzPOR53utl9B1FUIEmJyejGSi/CxcuRDNQflmWhdtvvz3cfvvtIcuyXi+HLnMrIEA6Go1GaDQavV5G31EEFWhubi6agfIbGhqKZgDKxWbRAGnI8zw0m83QbDZNBV1BEVSgHTt2RDNQfjfffHM0A+WX53l45ZVXwiuvvOKDZAXYLBogDZsngUwFXU4RBNABN910UzQD5Wcz+GqxWTQAqfPbrUDnz5+PZqD87CkB6frqV78azaRp9+7d0QxAuTi1++psZFGgVqsVzUD5jY6ORjNQfn5/V8u2bduiGYByybIs1Ov1duYNJoIKdMcdd0QzUH6uOEC6/P6ulqWlpWgGoHwmJiZ8No9QBBXooYceimag/C5dcajX6644QGL8/q6WM2fORDMA5ZNlmc/mEYqgAk1PT0czkAZXHCBNJ06ciGbSdPHixWgGgFQoggAAruH06dPRDABQRoqgAtlDBNLWaDRCo9Ho9TKADtu+fXs0k6bh4eFoBoBUKIIAOiDP89BsNkOz2Qx5nvd6OUAHra2tRTNpuvnmm6MZAFKhCCrQ5kkBUwOQFq9vSNe5c+eimTStrq5GMwCkQhEEAAAbzp8/H80AkApFUIEOHDgQzUD52QMM0rVnz55oJk2tViuaASAViqACOT4eAMrnne98ZzQDAJSRIgigA+wRBOlyIQcASIkiqEBuHYF0LSwsRDMA5TIwMBDNAJAKv90KlGVZqNfroV6vhyzLer0coIPsKQHpciGnWtbX16MZAFIx1OsFVI1NoiFNY2Nj0QyU36ULOZcyAECZmQgq2IkTJ8KJEyd6vQygw0wMQNomJia8titicHAwmgEgFYqgAuV5HmZmZsLMzEzI87zXywE66HOf+1w0A2nIssw0UEXceuut0QwAqVAEFejJJ5+MZqD8Pv3pT0czkIapqakwNTXV62VQgNtuuy2aASAViqACvfzyy9EMAPS3RqMRGo1Gr5dBATbv52hvRwBSpAgqkFMoIF1vf/vboxkov6mpqbC4uBgWFxdNBVXA9PR0NANAKhRBAB2wsLAQzUD5bZ4EMhWUvjNnzkQzAKRCEVSgixcvRjMAAP3h7Nmz0QwAqVAEFcitYZAue0pAujYfG+8I+fS5cAdA6hRBBarVatEMlN+JEyeiGSi/Q4cOhYGBgTAwMBAOHTrU6+XQZSMjI9EMAKlQBBXo27/926MZKD+nAkK68jwP6+vrYX19PeR53uvl0GUrKyvRDACpUAQV6KWXXopmAKB/2Sy6Wi5cuBDNAJAKRVCBWq1WNAPlt3v37mgGoFx8XgMgdYqgAtkjCNK1uroazUD52SwaAEjJUK8XAJCC8+fPRzNQflmWhXq93s4AAGWmCCrQrl27wte+9rV2BtJh4g/SZhKoOmq1WvuWMO/nAKRIEVSgHTt2tIugHTt29Hg1QCcNDAyEixcvtjOQFpNA1bFr165w7ty5dgaA1Pi2UiATA5CuzeWPIgigvHbu3BnNAJAK31YK5BQKSNfIyEg0A1AuS0tL0QwAqVAEFcgHC0jXyspKNANQLl//+tejGQBSoQgq0KX9ga7MQPlt3vfLHmAA5eVWXwBS57dbgS5cuBDNQPlt27YtmgEol80bg9skHIAUKYIKZI8gSNfY2Fg0A1AuL774YjQDQCoUQQUaHh6OZqD8JiYmohmAclldXY1mAEiFIqhAJgYAAPrb0NBQNANAKhRBBXJqGKRrcnIymgEol5tvvjmaASAViqAC2SMI0jU3NxfNAJTLyMhINANAKhRBBbrjjjuiGSg/p4YBpGF0dDSaASAViqACHT9+PJqB8ltYWIhmAMrlwIED0QwAqVAEFSjLsrB3796wd+/ekGVZr5cDdNDg4GA0A1Au09PT0QwAqbihIujv//7vwy//8i+3//x3f/d34aGHHgpHjhwJR44cCf/0T/90wwtMzXd/93eH7/7u7+71MoAOc3w8AABQBtddBD366KPhiSeeCOvr6+2/O3nyZPjgBz8YnnnmmfDMM8+E7/u+7+vIIlPy2c9+Nnz2s5/t9TKADjt06FCo1WqhVquFQ4cO9Xo5AFwnxT4AqbvuIuiee+4JH/7why/7u5MnT4ZPfepTYWJiInzkIx8JFy5cuNH1JWVqaiosLy+H5eXlMDU11evlAB2U53lotVqh1WqFPM97vRwArlOWZWFkZCSMjIy4lR+AJL1pEfTcc8+Fd77znZf937/927+Fd7zjHaFWq1327953333h137t18Kf/MmfhMXFxfCnf/qnXVt4GT377LPRDJTfk08+Gc0AlEue52FxcTEsLi4q9gFI0tCb/QuHDx8Ohw8ffks/7F3velfYsWNHCCGEBx98MPzt3/7tNf/9kydPhuXl5bf0s1OwsrJyWX7hhRd6uBqgk15++eXLstc3QDl9/OMfb+c/+qM/Cj/zMz/Tw9UAwPXZv3//Vf/ZmxZBb1Wr1Qo/8iM/Ev70T/803H777eHzn/98uOuuu675v3mzf56a8fHxcPr06Xa+1hMDlMsdd9wRZmdn29nrG6Ccnn766XYeGBjwfg5Acjp2fHytVguPPvpo+IVf+IXw3ve+NywtLYUf//Ef79SPT8LDDz8czUD5HT9+PJoBKJdWqxXNAJCKG5oIuvfee8O9997b/vP9998f7r///hteVKqyLAu7d+9uZyAdWZaFPXv2tDMA5TQ2NhbNAJCKjk0E8dbs3Lkz7Ny5s9fLALrg0ikzAJSX4+MBSJ0iqEB5nofZ2dkwOzvrFApITJ7nYWZmJszMzHh9A5SY4+MBSJ0iqECNRiOagfLz+gZIg+PjAUidIggAADYo9gFInSKoQO45h3R5fQMAAGWgCCpQlmWhXq+Her3unnNIjNc3QBoU+wCk7oaOj+eb5wMFpMvrG6D8LhX7lzIApEYRBNAhvjAApEGxD0DKaq1Wq9XrRVTJr/7qr4YQQnj88cd7vBIAAACgauwRVKA8z0Oz2QzNZtNxpAAAAEDhFEEFchwpAAAA0EuKIAAAAICKUAQVyHGkkLY8z932CQAA9DWnhhUoy7Kwd+/edgbScumWT5vBAwAA/cpEUMFqtVqo1Wq9XgbQYTaDBwAAykARVKA8z8PMzEyYmZnxRRESYzN4AACgDBRBBfJFEQAAAOglRRBAB9gMHgAAKANFUIEOHDgQzUD5ZVkW6vV6qNfrNoMHAAD6llPDCjQ9PX1ZPnToUA9XA3SaSSAAAKDfKYIKtLCwEM1AGkwCAQAA/c6tYQVqtVrRDAAAAFAERVCBxsbGohkAAACgCIqgAjlVCAAAAOglewQVKMuysG/fvnYGAAAAKJIiqGD2BgIAAAB6xa1hBcrzPMzOzobZ2dmQ53mvlwN0WJ7nXtsAAEBfUwQVqNFoRDOQhkaj4bUNAAD0NUVQgRYWFqIZKL88z0Oz2QzNZtNUEAAA0LcUQQXavD+QvYIgLSb+AACAMlAEFWhsbCyaAQDoH/Z8AyBliqACTUxMRDNQfl7fAOmYnJwMk5OTvV4GAHSF4+MLlGVZ2LdvXzsDANBfLp3yein7zAZAakwEFazVatkfCBJkjyCANGyeBDIVBECKFEEFunSFaXZ21n3nkJj5+floBqBc5ubmohkAUqEIKpCJAUjX8vJyNANQLnv27IlmAEiFIqhACwsL0QyU3ze+8Y1oBqBcjh07Fs0AkAqbRRdo895A9gmCtIyPj7c3Fx0fH+/tYgC4bg73ACB1JoIKNDY2Fs1A+R0/fjyaASifY8eOmQYCIFmKoAJNTExEM1B+WZaFrVu3hq1bt7qCDAAA9C1FUIGyLAv1ej3U63VfFCExeZ6HlZWVsLKy4lRAgJJrNBoO9gAgWYqggk1MTJgGggQ5FRAgDXmeh2azGZrNpmIfgCQpggqWZZlpIACAPqXYByB1iiCADrAHGAAAUAaKIIAOsAcYQBoU+wCkbqjXCwBIxYEDB3q9BABu0KVTIC9lAEiNiSCADpmeng7T09O9XgYAN8ApkACkThEE0AFOmQFIw+TkZDQDQCoUQQAd4JQZgDTMzc1FMwCkQhEEAAAbduzYEc0AkApFEEAHOGUGIA3btm2LZgBIhVPDADogy7IwMjLSzgAAAP3IRBBAB+R5HhYXF8Pi4qLNogFKrFarRTMApEIRBNABNosGSMPo6Gg0A0AqFEEAALDBnm8ApE4RBNABvjgApCHLslCv10O9XrfnGwBJslk0QAdkWRb27dvXzgCUl0IfgJQpggA6pNVq9XoJAAAA1+TWMIAOyPM8zM7OhtnZWaeGAZRco9Gw8T8AyVIEAXSAU8MA0pDneWg2m6HZbCr2AUiSIggAADYo9gFInSIIoAOcGgYAAJSBIgigAxw3DJAGxT4AqXNqGECH+MIAUH5ZloV9+/a1MwCkRhEE0CG+MACkYWlpqddLAICucWsYAABsyPM8vPLKK+GVV15xahgASVIEAQDAhieffDKaASAViiAAANhw+vTpaAaAVCiCAABgw/j4eDQDQCquqwh67bXXws/93M+F9773veEnfuInwr/+67+GEEJ48cUXw+HDh8N73vOe8NGPfrSjCwUAgG576KGHohkAUnFdRdDHP/7xcODAgfDss8+Gxx9/PPzWb/1WCCGE3/iN3whPPPFE+MQnPhG+9KUvhZMnT3Z0sQAA0E3T09PRDACpuK7j43/6p386bNmyJYQQwsWLF8PWrVvD/Px8WF1dDXfeeWcIIYT7778/fP7znw933XVX51YLAAAAwHV70yLoueeeC08//fRlf/fYY4+F7/me7wmvvvpq+OAHPxgeeeSRMD8/H8bGxtr/zujoaPif//mfa/7skydPhuXl5etcOgAAdNb+/ftDs9ls5xdeeKHHKwKAb97+/fuv+s/etAg6fPhwOHz48P/6+y9/+cvhl37pl8KHPvSh8H3f931hfn4+LCwstP/5wsJC2LFjxzV/tmkhAAD6yf79+8Of/dmfhRBCePe7393j1QBA513XHkH/9V//FR5++OHwxBNPhB/4gR8IIYQwNjYWhoeHw6lTp0Kr1Qqf+9znwtve9raOLhYAALopz/OwvLwclpeXQ57nvV4OAHRcrdVqtb7Z/9H73//+8OUvfzl867d+awjh9RLoD/7gD8KLL74YHnvssXDx4sVw//33h1/8xV/s+IIBAKBbPvCBD4SZmZkQQgj79u0Lv/u7v9vjFQFAZ11XEQQAACn6iZ/4ibC4uBhCCGFkZKR9mxgApOK6bg0DAIAUjY+PRzMApEIRBAAAG44fPx7NAJAKRRAAAGz4yle+Es0AkApFEAAAbGg0GtEMAKlQBAEAAABUhCIIAAA2PPDAA9EMAKlQBAEAwIZTp05FMwCkQhEEAAAAUBGKIAAA2DAxMRHNAJAKRRAAAGxwfDwAqVMEAQDAhmeffTaaASAViiAAANiwuroazQCQCkUQAABsuO2226IZAFKhCAIAgA0PP/xwNANAKoZ6vQAAAOgXWZaFPXv2tDMApEYRBAAAmxw8eLDXSwCArnFrGAAAbDI9PR2mp6d7vQwA6ApFEAAAbMjzPDSbzdBsNkOe571eDgB0nCIIAAA2NBqNaAaAVCiCAABgw8svvxzNAJAKRRAAAGw4d+5cNANAKhRBAACwoVarRTMApEIRBAAAG97+9rdHMwCkQhEEAAAbFhYWohkAUqEIAgAAAKgIRRAAAGyYmJiIZgBIxVCvFwAAAP0iy7JQr9fbGQBSowgCAIBNTAIBkLJaq9Vq9XoRAAAAAHSfPYIAAAAAKkIRBAAAm+R5HvI87/UyAKArFEEAALDJ5ORkmJyc7PUyAKArFEEAALAhz/MwOzsbZmdnTQUBkCRFEAAAbNg8CWQqCIAUKYIAAGDD3NxcNANAKhRBAACwYc+ePdEMAKlQBAEAwIZjx45FMwCkQhEEAAAAUBGKIAAA2NBoNKIZAFKhCAIAAACoCEUQAABsmJiYiGYASMVQrxcAAAD9IsuysHfv3nYGgNQoggAAYJNardbrJQBA17g1DAAANuR5HmZmZsLMzEzI87zXywGAjlMEAQDABqeGAZA6RRAAAABARSiCAABgg1PDAEidzaIBAGBDlmWhXq+3MwCkRhEEAACbmAQCIGW1VqvV6vUiAAAAAOg+ewQBAMAmeZ47Oh6AZCmCAABgk0aj4eh4AJKlCAIAgA15nodmsxmazaapIACSpAgCAIANmyeBTAUBkCJFEAAAAEBFKIIAAGDDgQMHohkAUqEIAgDg/2/v/mOiLBw4jn9AjoMJlLdqkrNmlPiD05HGWqz6o5VulUxOjnZ4yhb90yQXIms5szVkI1Y5a7MpOOgQL2AZ5Vw/NFNbaoUuHSNciq22ZjpYcECewn3/+PZlua/UPcdxT/C8X5vbyd1xH/fZwfHxngf86cSJEze9DADAVMEQBAAAAAAAYBEMQQAAAMCfPB7PTS8DADBVJJgdAAAAAPi3cDqdysrKGr0MAMBUwxAEAAAA/AXvBAIATGVxoVAoZHYIAAAAAAAATDzOEQQAAAAAAGARDEEAAAAAAAAWwRAEAAAAAABgEQxBAAAAAAAAFsEQBAAAAAAAYBEMQQAAAAAAABaREMmd+vv7tXHjRgUCAV27dk0vvfSSsrOz9dlnn+n1119Xenq6JKm0tFQ5OTlRDQwAAAAAAIDIxIVCoZDRO23fvl1paWkqLi7WhQsXtGHDBu3bt09vvfWWFixYoGXLlk1EVgAAAAAAAIxDRO8IKi4uVmJioiRpeHhYdrtdktTR0aHOzk41NDRo0aJFKi8vV0JCRA8BAAAAmOLs2bOSJKfTaXISAACi7x/PEdTS0qKnnnrqhj8XL15UUlKSLl++rI0bN6qsrEySlJubq82bN2vPnj0aHByU3++f8H8AAAAAEE1NTU1qamoyOwYAABMiokPDJKmrq0tlZWWqqKjQo48+Kknq6+tTWlqaJOnIkSP69NNPVVVVNebn6Ojo0B9//BHJwwMAAABR193drYaGBknS2rVrNWfOHJMTAQBg3JIlS8a8LqLjtn788UetX79e27Zt07x58yRJoVBIK1askN/v18yZM3X8+HEtXLjwbz/PP10PAAAAxFJra+vo5fb2dq1atcrENAAARF9EQ9Abb7yhYDCorVu3SpJSUlK0Y8cOVVZWat26dUpKSlJGRobcbndUwwIAAAAAACByER8aBgAAAEw1Z8+e1csvvyxJqqqq4oTRAIAph1/pBQAAAPzJ6XQqKytr9DIAAFMNQxAAAADwFx6Px+wIAABMGA4NAwAAAAAAsIh4swMAAAAAAAAgNhiCAAAAAAAALIIhCAAAAAAAwCIYggAAAAAAACyCIQgAAAAAAMAiGIIAAAAAAAAsgiEIAAAAAADAIhiCAAAAAAAALIIhCAAAAAAAwCIYggAAAAAAACyCIQgAAAAAAMAiGIIAAAAAAAAsgiEIAAAAAADAIhiCAAAAAAAALIIhCAAAAAAAwCIYggAAAAAAACyCIQgAAAAAAMAiGIIAAAAAAAAsgiEIAAAAAADAIhiCAAAAAAAALCLBzAdvb2838+EBAAAAAACmpCVLltz043GhUCgU4ywAAAAAAAAwAYeGAQAAAAAAWARDEAAAAAAAgEUwBAEAAAAAAFgEQxAAAAAAAIBFMAQBAAAAAABYBENQlBUVFen48eM3fKyyslItLS2SpKqqKu3du3f0uvr6ehUUFKigoEDvvPNOTLNi/Iz2vWfPHrlcLq1atUqHDx+OaVaMn9G+JWlkZEQlJSX/96zzu1QAAAbESURBVHH8+xntu7KyUvn5+fJ6vfJ6verv749pXoyP0b6PHDkit9stt9utV199VfwS1snFSN+dnZ2jz2uv1yun06mjR4/GPDMiZ/T5XVdXp/z8fLlcLn3++ecxzYrxM9r3zp07lZeXp6KiIl6fT0Jj9V1XVyePxyOv16tnn31WV65ckSQ1NzcrPz9fbrfb0n0zBEWZ2+1WW1vb6N+DwaAOHz6shx56SCUlJfriiy9Gr/v555/10Ucfye/36/3339dXX32lH374wYzYiJCRvnt6etTU1CS/36/6+np+cJiEjPT9P9u2bdPvv/8ey5iIEqN9d3R0qLa2Vj6fTz6fT6mpqbGOjHEw0ncgEFBNTY3effddNTc3a9asWert7TUjNiJkpO/58+ePPq89Ho+eeOIJPfLII2bERoSM9N3X1yefzye/36/du3erqqrKjMgYByN9d3V1af/+/Wpubtbu3bu1fft2DQ0NmREbERqr7wMHDmjz5s3y+Xx6/PHHtWvXLl2+fHn0+V1XV6c333xTwWDQxPTmYQiKsuXLl+vkyZOjX0AOHTqk3NxcjYyMqLS0VHl5eaO3nTlzpmprazVt2jTFx8fr+vXrstvtZkVHBIz07XA41NbWJpvNpitXrigtLU1xcXFmRUcEjPQtSZ988oni4uL4gWGSMtL3yMiIfvrpJ73yyit65pln1NraalZsRMhI36dPn9bcuXNVXV0tj8ej2267TQ6Hw6zoiIDRr+eSNDg4qLffflubNm2KdVyMk5G+k5OTdeedd2poaEhDQ0O8VpuEjPR9/vx55eTkyG63y2636+6771ZXV5dZ0RGBsfresWOH5s+fL0kaHh6W3W7XmTNnlJ2drcTERKWmpuquu+6y7BsxGIKizG6367HHHht9G+kHH3ygwsJCzZ49W4sXL77htjabTQ6HQ6FQSNXV1VqwYIHmzJljRmxEyEjfkpSQkKDGxkYVFhZq2bJlsY6LcTLS97lz57R//36tX7/ejKiIAiN9Dw4OavXq1aqpqVFtba2ampos+8JisjLSd29vr06ePKny8nLt2rVLDQ0N6u7uNiM2ImT0+7cktba2avny5Yx+k5DRvtPT0/Xkk09q5cqVWrNmTazjYpyM9J2ZmanvvvtOgUBAvb29On36NO8ImmTG6vuOO+6QJJ06dUqNjY0qLi5WIBC44R3b06dPVyAQMCW32RiCJkBBQYHa2tp06dIl9fX1aeHChWPe9urVqyovL9fAwIC2bNkSw5SIFiN9S9Lq1at17Ngxffvttzpx4kSMUiJawu37ww8/1KVLl7R27Vrt27dP9fX1nFNiEgq37+TkZK1Zs0bJyclKSUnRgw8+yBA0CYXb96233iqn06nbb79d06dP19KlS9XZ2RnjtBgvo9+/P/74YxUUFMQoHaIt3L6PHj2q3377TYcOHdKXX36pgwcP6syZMzFOi/EKt++MjAwVFRXpueeeU3V1tRYvXqwZM2bEOC3Ga6y+Dxw4oC1btmjnzp1yOBxKSUnRwMDA6P0GBgYseyg/Q9AEyMzM1MDAgN577z25XK4xbxcKhfT8888rMzNTr732mqZNmxbDlIiWcPu+cOGC1q1bp1AoJJvNpsTERMXH8xScbMLtu6KiQi0tLfL5fFq5cqWKi4s5RGwSCrfvixcvyuPxaHh4WNeuXdOpU6f+8YdK/PuE23dWVpbOnTunnp4eXb9+Xd9//73uvffeGCZFNITbtyT19/crGAwqPT09RukQbeH2fcsttygpKUmJiYmy2+1KTU1VX19fDJMiGsLtu6enR729vdq7d682bdqkX3/9Vffdd18MkyIabtZ3W1ubGhsb5fP5NHv2bEnSokWL1N7erqtXr6q/v1/nz5/X3LlzzYxumgSzA0xVLpdLNTU1f3sm8oMHD+qbb75RMBjUsWPHJEllZWXKzs6OVUxESTh933PPPZo3b54KCwsVFxenhx9+WDk5OTFMiWgJp29MHeH0nZGRoaefflput1s2m015eXm8kJykwunb4XBow4YNKikpkfTf8xNY9YXkZBfu1/Pu7m7NmjUrRqkwUcLpe+nSpfr666/ldrsVHx+v+++/X7m5uTFMiWgJp+8ZM2bol19+kcvlks1mU0VFBf85P0n9te/h4WFt3bpV6enpKi0tlSQ98MADeuGFF+T1euXxeBQKhfTiiy9a9hy9cSF+bREAAAAAAIAlcFwKAAAAAACARTAEAQAAAAAAWARDEAAAAAAAgEUwBAEAAAAAAFgEQxAAAAAAAIBFMAQBAAAAAABYBEMQAAAAAACARTAEAQAAAAAAWMR/ABo3ZUHCE2SAAAAAAElFTkSuQmCC\n",
      "text/plain": [
       "<Figure size 1440x720 with 1 Axes>"
      ]
     },
     "metadata": {},
     "output_type": "display_data"
    }
   ],
   "source": [
    "sns.set(rc={'figure.figsize':(20, 10)})\n",
    "sns.set_style(\"whitegrid\")\n",
    "sns.boxplot(data=data_numeric.drop('Amount', axis=1).iloc[:,11:20], palette=\"deep\")\n",
    "sns.despine(left=True)"
   ]
  },
  {
   "cell_type": "markdown",
   "metadata": {},
   "source": [
    "<li>Variables 21 a 28</li>"
   ]
  },
  {
   "cell_type": "code",
   "execution_count": 19,
   "metadata": {},
   "outputs": [
    {
     "data": {
      "image/png": "iVBORw0KGgoAAAANSUhEUgAABIIAAAI+CAYAAADATaFYAAAABHNCSVQICAgIfAhkiAAAAAlwSFlzAAALEgAACxIB0t1+/AAAADl0RVh0U29mdHdhcmUAbWF0cGxvdGxpYiB2ZXJzaW9uIDIuMi4yLCBodHRwOi8vbWF0cGxvdGxpYi5vcmcvhp/UCwAAIABJREFUeJzs3X2QnXV5P/7rJLtJ2CwBEUhQGs3wGzuQPVaJD3FAoVWLYmVrNUq3RBkc+JVCdURChVKwNk18mLQdFfELYqXgUSc+7VdkUKE+AENohUbvkyKOQ2JsOyYx8pDN5nnv3x+a8wv0AGc355x77/N5vWacubJhz7mEe8+e876vz+dTyfM8DwAAAAB63oyiGwAAAACgOwRBAAAAAIkQBAEAAAAkQhAEAAAAkAhBEAAAAEAiBEEAAAAAiRAEAQAAACRCEAQAAACQCEEQAAAAQCIEQQAAAACJEAQBAAAAJEIQBAAAAJAIQRAAAABAIgRBAAAAAIkQBAEAAAAkQhAEAAAAkAhBEAAAAEAiBEEAAAAAiRAEAQAAACRCEAQAAACQCEEQAAAAQCIEQQAAAACJEAQBAAAAJEIQBAAAAJAIQRAAAABAIgRBAAAAAIkQBAEAAAAkQhAEAAAATBtZlkWWZUW30bMEQQAAAMC0UavVolarFd1GzxIEAZNyySWXxCWXXFJ0GwAAQA/Ksizq9XrU63VTQR0iCAImZfPmzbF58+ai2wAAAHrQoZNApoI6QxAEtOzQSSBTQQAAAOUjCAJadugkkKkgAACg3UZGRprWtE9f0Q0AAAAARERUq9UYGhpq1LRf24OgP/7jP44jjzwyIiJOPPHEWL16dbufAijIwoULG5NACxcuLLgbAACgF5kE6qy2BkF79uyJiIhbbrmlnQ8LTBN/+Id/GJ/5zGcaNQAAQLuZBOqstu4R9JOf/CR27doVF1xwQbzzne+M9evXt/PhgYLZwR8AAKDc2joRNGfOnHj3u98dy5Yti02bNsWFF14Yd9xxR/T1NX+aDRs2xO7du9vZAtBBBw4ceFL9wAMPFNgNAAAAzSxZsuRp/66tQdCiRYviBS94QVQqlVi0aFEcffTRsW3btjjhhBOa/vOLFy9u59MDHbZ8+fLG0rDly5c/44sLAAAA009bl4Z9+ctfjg9/+MMREbFly5YYGxuL4447rp1PARRoeHg4BgYGYmBgIIaHh4tuBwAAgEmq5Hmet+vB9u7dG1deeWX8z//8T1Qqlbj88svj1FNPbdfDc4gsyyLCJlp03+joaESEIAgAAKCE2hoE0T1XXnllRESsXr264E5IjRASAACgvNq6NIzuyLIs6vV61Ov1xody6JZarebEMACABGRZ5vMGhXDtdZYgqIQc4U1RhJAAAOlwA5CiuPY6SxAEtEwICQCQBjcAKYprr/MEQSU0MjLStAYAAGgHNwApimuv8wRBJVStVmNoaCiGhoZs2EtXCSEBAADKTRBUUiMjIz6I03XVajUWLVoUixYtEkICAPSwpUuXNq2h09x87jxBUElVq1UfxCnE+Ph4jI+PF90GAAAdtG7duqY1UH6CIKBlWZbFli1bYsuWLTZuoxCOEgUA6G32COo8QRDQshtuuKFpDd3iKFEA6A7Lc6B3CYKAlv33f/930xq6wVGiANA91Wo1FixYEAsWLLAlBV0lhOw8QRDQsv379zetoRuMCQNAdz366KPx6KOPFt0GiXFKduf1Fd0AUB55njetAQDoLaOjo7Fnz55GPTw8XHBHpMQkUGeZCAJa1t/f37SGbjAmDADdYxKXIjklu7MEQUDLnv/85zetoRuq1WoMDAzEwMCANwYAADBFgqCScoQyRbjoooua1tANWZbF+Ph4jI+Pe/0DgA4ziQu9SxBUUo5QpgjVajXmz58f8+fPN5FB1xlRB4DuGR4ebkzi2h8IeovNokvo4BHKB2sfyOmmgYGBolsgUWNjY01rAKAzzjzzzKJbADrARFAJuStOUbIsi40bN8bGjRstzaHrKpVK0xoA6IzNmzfH5s2bi24DaDNBENAyISRFmjt3btMaAGi/g6sQ6vW6G4B0nT1xO0sQVEI2bgNS5LUPALrHDUCKZE/czhIElZAjlCmKD+IAAEAnmUbrPEFQCTlCmaJUq9VYtGhRLFq0SAhJ17kzCQDds3Tp0qY1dJr3fJ0nCCohPxgUKc/zyPO86DYAAOigdevWNa2B8hMEAS3Lsiw2bdoUmzZtMo1G11maCKTKpqkUYefOnU1r6DTv+TpPEFRCxjQpimk0ilStVmNoaCiGhoYsTQSSYtNUinDoBLhpcLrJe77O6yu6ASbvqWOaw8PDBXYD0D3uCgGpObhp6sHahyK6ZXBwsGkN3eA9X2eZCAJatnDhwqY1dEu1WvUhCEiKaVyKYnkORfKer7MEQSXkRZmi3HHHHU1rAAB6S7Vajfnz58f8+fN9IIceIwgqIWsmKcrExETTGgDoDDcAKdLjjz8ejz/+eNFtAG1mj6CS8kYAAKD3VavVGBgYaNTQLaOjo7F79+5GbV9S6B0mgkrKmkkAgN6XZVmMj4/H+Pi4I+TpKvtTQe8SBAEtq1QqTWsAoDN8GKcoBw4caFoD5ScIAlqW53nTGgCA3nJwSeJTa+iGLMtMQXaQIKik/GAAAPQ+m0VTlD179jStoRtqtZopyA4SBJWUHwyKcMQRRzStAXqdGzAUxWmxFGXevHlNa+i0LMuiXq9HvV73u7dDBEEl5AeDouzfv79pDdDrbrzxxrjxxhuLboNEjYyMmAai6x577LGmNXSavdE6TxBUQn4wKMq+ffua1gC9LMuy2LhxY2zcuNENGArhtFiKcPDo+KfWQPkJggAAnsGhk0CmggCgs+yN1nmCoBLygwEA3fNf//VfTWsAoP3sjdZ5fUU3wOQd/ME4WEO3VCqVxrHxlUql4G4AusOyWADorqVLlxbdQk8TBJWUHwyK0NfX1/gQ1Nfn5QMAAGi/O++8MyIihoeHC+6kN1kaVlK33XZb3HbbbUW3QWKOPPLIpjV0y+joaIyOjhbdBgAAHZJlWWzatCk2bdrkkIYOEQSVUJZl8ctf/jJ++ctf+sGgq3bs2NG0hm6p1WpOS6TrBgYGmtYAQPvdcMMNTWvaRxBUQh//+Meb1tBp+/fvb1pDN4yOjsb4+HiMj4+bCqKr7BEEAN2zdevWpjXtIwgqoS1btjStodMObhT91Bq64dBJIFNBdJMgCAC6Z/78+U1r2kcQVEI+jAMApGPlypWxcuXKotsA6IoLL7ywaU37CIIAKIUzzzyzaQ3Q6+6///64//77i24DoCseeeSRpjXt4/znKfrsZz8b9957b9FtRETEu9/97kKe97TTTosLLrigkOcG0rN58+amNUAvO3QSaOXKlXH11VcX2A1A591yyy1Pqh0h334mgkpo5syZTWsAAHrLoZNApoKAFOzdu7dpTfuYCJqiCy64oLBpmCzL4qqrroqIiL/7u7+LarVaSB8A3TQyMtJ47RsZGSm4GwAAOqGvr69xOENfn8iiE/xbLaFqtdqYBBICAamoVqsxNDTUqAEA6D3HHHNM43TsY445puBuepMgqKSOPPLIolsA6DqTQOmyN5+9+QBIw8DAQNOa9hEEldSsWbOKbgGg60wCAUUQRAoige6ZO3du05r2EQQBANNekXvzrVy5srFJ7ytf+UqnNgFABy1cuDDq9Xqjpv0EQQC0rOi74mNjYxERMTg4WFgP7oqn5+qrr443v/nNjZr0FBlELlu2LHbv3h0REXPmzImbbrqpkD4AuuWuu+56Un3xxRcX2E1vcnw8AKWxe/fuxgci6Kb+/v7o7+8vug0StHbt2qY1QK/as2dP05r2MREEQMuKvCse8f/vjeGOON32nOc8p+gWAADaQhAEAADT2PHHH190CwD0EEvDAAAAABIhCAIAAABIhCAIAAAAIBGCIAAAAIBECIIAAAAAEiEIAgAAAEiE4+OhZD772c/GvffeW3QbERHx7ne/u5DnPe200+KCCy4o5LkhVVdccUVs37696DYK86tf/Soiinvdmw6e+9znxkc/+tGi2wAADpMgCKBEfBj3YbyoD+Pbt2+PrVu3xez+ga4/93RQiZkREfH4ozsL7qQYe/aNF90CANAmpQ2CfBjyYSjVO5MXXHBBYdMwl1xySWzevDkiIhYuXBjXXXddIX2kbPv27bFt69YYnJHmyt6ZExMREbHrt6+BqRn77f//oszuH4hTT35roT1QjAcf+krRLUCSTIKbBIdOKG0QdPDOZKX/iKJbKUT+2+2dtj06VnAnxcj37Sq6hSRdd9118eY3v7lRU4zBGTPivKOOKboNCnDr478uugUohBuAad8ATPXmH0CnlDYIioio9B8Rg//POUW3QQHGfvZ/i24hWTMSnUSB1I2NjcWefbtMhiRqz77xGBvLC3v+7du3x7ZtW+PIubMK66FIfb9ZmRi7xx8rtpEC7Ni5t+gWClXkJPjBm38H3XTTTYX0QXGmy0SaabT2a2sQNDExER/84Afj4YcfjlmzZsXKlSvjBS94QTufAijYscceW3QLACToyLmz4v/9s2rRbdBl/+fzWdEtJOsb3/hGIwz6xje+UXA3QDu1NQi68847Y+/evfGlL30p1q9fHx/+8Ifj+uuvb+dTwLSQ8oh66uPpEcWOqI+NjcWuiQlLhBI1NjERB8aKWRI8ODgYB/ZV7BGUqAcf+koMDs4tug3oupTf8x3K+75i3ve5/op17733FjoR1clrr61B0AMPPBCvfvWrIyLiJS95SdTr9XY+PEwb27dvj63btsaMI0q9unJKJmb8ZmnAr8bSDCImdu0vugUAoEt+/vOfx/j4eESlUnQrhdq6bVvRLRQjz2OsoBswEYdcf4nbunVr0S0UopPXXls/xY6NjcXg4GDjzzNnzoz9+/dHX1/zp9mwYUPs3r17Ss+1Z8+eKX0fvWPPnj3xwAMPFPLcjz2W3hr9g2bMmll0C4V77LHHCrv2+vv7Y6bNopN16+O/jhn9/YVcf37vUvTv3X379lomlKAdO/fG7r3F/d7dv98NoNTt37+/sOtv5syZUUkwhMzzJ+9Jl+K/g4jf/Pc/nGtvyZIlT/t3bQ2CBgcHY+fOnY0/T0xMPG0IFBGxePHiKT/Xvn37It+3y6bBicr37Yp9+5754u6kvr6+2Lsv7c0LU9bX11fYtTd79uzYtWNHIc/N9DB79uxCrr/Zs2fH448/kexm0fsP/OY1v29mmpsV79k3HkfNPq7Q37v7/N5NVpG/d0866aSkl+YcnMQ4/rjjCu6kOM997nMLu/5qtVohz3tQUZtFP3UC6LiCrj+bRbfo1FNPje9+97tx9tlnx/r16+NFL3pROx8epo3BwcEY35XmmObE3gMRkfZk0KGTj5CK5z73uUW3UKhf/WpXREQc9ZxU98mZW+g1MDg4GH0z9tssOkH/5/NZzBko7vdu6sfWH9ws2olh0FvaGgS9/vWvj3vvvTfOPffcyPM8Vq1a1c6Hf5LBwcHYtS8cH5+osZ/930I/jKf8gejgZtHHDia6NGkw7f/+pCv1D0MHN0r1YQhIxaHHx7/5zW92cliCLrjggkImYg699iL87u2EtgZBM2bMiA996EPtfEiYllL+QOTDUPHGEj41bPfEREREzJkxo+BOijE2MRFHFN0EFGTHznT3CNq95zf71MyZnd4hFTt27o05A0V3UZyiluY0U9TJYb28PAeKkt5vE+CwpLpr/3SR+jTSzt9OpB1x7LEFd1KMI8I1QJpSv+7Hxn/z2jdn4OiCO+m+OQP++wO0myAIoERSnkaLMJEGqfLa57UvVUUtzYmwPAd6WZqz9cCUnHPOOU1rAAAAyqHUE0EpHx+f//YY20qix9jm+3ZFRJonNxW5VjzP8yfV1ooDAACUS2mDoNTXCjdObnpOmmFIxGDy1wAAAABMVmmDIGvFrRVPlbXiAAAATFVpgyAAgG45OIkLAFB2giAAgGcxMTFRdAsAAG3h1DAAgGdwySWXNK0BAMrIRBAAMO0VeWLi1q1bG/XmzZudmAgAlJqJIAAAAIBEmAgCAKY9JyYCALSHIAgAAKaxvXv3Ft0CAD1EEARAaTz66KNFtwAkqMg9qiIiHnvssYiIwvanirBHFUAvsUcQAKWxb9++2LdvX9FtAHTNodNAJoMAaAcTQQCUwsqVK59UX3311QV2A6SkyD2qrrzyysZE0IknnhirV68upA8AeocgCICWTZcjvO+//35HeAMAwBRYGgYAANPUyMhI0xoApspEEAAtc4Q3QHdVq9UYGhpq1ABwuARBJfXEE08U3QIAAF1gEgiAdhIEldTu3buLbgEAgC4wCQSkZMaMGTExMdGoaT//Vkvo+uuvb1oDAABAmQ0MDDStaR8TQVM0XU7Ouf322+OHP/xhIX04OSc9lUol8jxv1AAAAO00NjbWtKZ9TAQBLTv66KOb1gAAAJSDiaApcnIOKRofH29aQzfMmTOnsT/anDlzCu4GAADKyUQQAKVwzTXXNK0BAIDWCYKAlj3nOc9pWkM3VKvVqFQqUalUnKBDVx26J5r90QCgs2bNmtW0pn0EQUDLDl2OY2kO3ZZlWeR5HnmeR5ZlRbdDQubPn9+0Buhl3vdRlMHBwaY17SMIAqAUarVa0xo67T3veU/TGqCXHTwp9qk1dNpjjz3WtKZ9bBYNtOzgRr1PrQF6WbVajQULFjRqgBTs37+/aQ2dNnPmzJiYmGjUtJ+JIKBlTzzxRNMaumFkZKRpDd3wnve8xzQQkJSDH8SfWkOnHXnkkU1r2sdEUAnNmDGj8WI8Y4Ysj+45/vjjY9OmTY0auqlarcbQ0FCjhm5yzQGp6evri3379jVq6BarEDpPilBCL3/5y5vW0GmnnHJK0xq6ZWRkxDQQAHSBDXspiomgzhMEldChp+U4OYdu+td//demNXRLtVo1mQEAXTA+Pt60hk4bGBhoWtM+giCgZXv27GlaAwAAtMPcuXOb1rSPIKiEzjzzzKY1dNqh68OtFQcA6F3Pe97zmtbQaQ4I6TxBUAlt3ry5aQ2dduKJJzatAXpdlmWWYwNJufDCC5vW0GnVajVe+MIXxgtf+EJbAnSIIAhomTcEQKpqtVrUarWi2wDommq1GgsWLIgFCxb4ME7XVSqVqFQqRbfRswRBJWRUDgC6J8uyqNfrUa/XTQUBSRkbG4uxsbGi2yAxWZbFxo0bY+PGjX7vdoggqISq1WoMDAzEwMCAdJ6uuuGGG5rWAL3s0EkgU0FAKrIsawRBPozTTX7vdp4gqISyLIvx8fEYHx/3okxXbd26tWkNAEBv+djHPta0BspPEFRCElKKMm/evKY1QC+zJBtI0aOPPtq0hk7ze7fznP8MtGzOnDlNa4BeVq1WY2hoqFEDpKBSqUSe540ausXv3c4TBJXQ0qVLo16vN2rolsHBwaY1QK9zRxJIzRvf+Ma4/fbbGzV0k9+7nWVpWAmtW7euaQ2ddmjwKIQEUlKtVt2VBJJy8cUXN62hG/ze7SxBENAyISQAQBpGR0eb1kD5CYJKyOZZAABAJ91yyy1Na6D8BEElVK1WY9GiRbFo0SLjcnSVpWEAAGnYt29f0xooP0FQSeV53tjFH7rltttua1oDANBbjjrqqKY1dEOWZZFlWdFt9CxBUAllWRabNm2KTZs2+eGgq7Zu3dq0BgCgtwiCKFKtVotarVZ0Gz1LEFRCh/5A+OGgm/r7+5vWAAD0lsHBwaY1dFqWZVGv16Nerxt86BBBENCy5cuXN60BAOgtCxcubFpDpxl86DxBUAk5NYyiDA8Px+zZs2P27NkxPDxcdDsAAHTI9773vaY1UH59RTfA5FWr1RgaGmrU0E0mgQAAet/ExETTGjptZGQkrrrqqkZN+wmCSsrR3RTFJBAAQO876qijYvfu3Y0a6B2WhpXUunXrYt26dUW3QYIc5QgA0PuOO+64pjV0mj2COk8QVEJ2UadIjnIEAOh99iWF3iUIKiEJKUURQgIApKFarcbAwEAMDAzYl5SuEkJ2niAIaJkQEgAgDVmWxfj4eIyPj7sBSFcdPBxpaGhICNkhgqASkpBSlLGxsaY1AAC9xQ1AijQyMuKzbgc5NayEHB9PUSqVStMaAACgXXzO7SwTQSUlIaUIc+fObVoDANBbrEKA3iUIKqlqtSolpeu8IQAASIN9WihSlmX2puogS8OAllmWCACQDjf+KMrBfalWr15dcCe9SRAETIo3BAAAaXDjjyJkWRb1er1Ruw7bz9IwYFIsSwRSZEQdSJHXPorgxLrOEwQBADyLWq3mzSiQHK990JsEQcCkjI6OxujoaNFtAHTNwRH1er3uzjiQDK99FMUBNZ3XtiAoz/N49atfHcuXL4/ly5fHmjVr2vXQwDTizhCQGiPqQIq89lEUJ9Z1Xts2i968eXMsXrw4Pv3pT7frIYFpZnR0NMbHxxv18PBwwR0BANAJO3fubFpDN5gE6qy2TQRt2LAhtmzZEsuXL48LL7wwHnnkkXY9NDBNuDMEpMiIOpCiPM+b1tANDqjprClNBK1duzZuvvnmJ33tmmuuiYsuuije+MY3xg9/+MNYsWJFfOUrX2lLkwAARTk4on6wBkjB4OBg0xoov0repnh3165dMXPmzJg1a1ZERJx++ulx9913R6VSedrv2bBhQ+zevbsdTw90wX333Rff+ta3IiLirLPOile96lUFdwTQHRs3boyIiEWLFhXcCUB3bNy4sXHz/13vepfXPyiZJUuWPO3ftW2PoE9+8pNx9NFHx4UXXhg/+clP4nnPe94zhkAREYsXL27X0wNdsGTJkrj77rsjIuLSSy8tuBuA7nmmN1MAvWjJkiXxwAMPRETE2972toK7AdqpbRNBjz/+eKxYsSLGx8dj5syZcc0118RJJ53UjocGppGDR8fbKBoAoLcdPDbesljoLW0LggAAAACY3tp2ahgAAAAA05sgCAAAACARgiBgUrIsa6wXBwAAoFwEQcCk1Gq1qNVqRbcBAECHuQEIvUkQBLQsy7Ko1+tRr9e9KQAA6HFuAEJvEgQBLTv0jYA3BQAAvcsNQOhdgiAAAACexA1A6F2CIKBlS5cubVoDAABQDoIgoGXr1q1rWgMA0FtGRkaa1kD59RXdAAAAANNLtVqNoaGhRg3dNDo6GhERw8PDBXfSm0wEAS1zZwgAIB0jIyPe81EIJ9Z1lokgoGXVajUWLVrUqAEA6F3e71GE0dHRGB8fb9SmgtrPRBAwKXmeR57nRbcBAAD0ICfWdZ4gCGhZlmWxadOm2LRpU2RZVnQ7AAAATJIgCGiZdB4AAOgk+5J2niAIaNnY2FjTGgAAoB2Gh4djYGAgBgYG7A/UITaLBlpWqVSa1gAAAO1iEqizBEFAy+bOndu0BgAAaBeTQJ1laRjQsqVLlzatAQAAKAdBENCyO++8s2kNAABAOQiCgJZt3bq1aQ0AAEA5CIKAls2fP79pDQAAQDkIgoCWXXjhhU1rAAAAysGpYUDLqtVqLFq0qFEDAABQLpU8z/OimwDKI8uyiBAEAQAAlJEgCAAAgP/FDUDoTfYIAgAA4H+p1WpRq9WKbgNoM0EQMCmjo6MxOjpadBsAAHRQlmVRr9ejXq83JoOA3iAIAibFnSEAgN536Ps97/2gtwiCgJaNjo7G+Ph4jI+PmwoCAAAoIUEQ0DJ3hoBUZVlmaQSQlJGRkaY1UH59RTcAADDdHQy/V69eXXAnAN1RrVZjaGioUQO9w0QQ0DJ3hoAU2TAVSNXIyIj3fNCDBEFAy4aHh2NgYCAGBgZieHi46HYAusKyWCBV1WrVNBD0IEvDgElxVwgAAKC8Knme50U3AQAwXWVZFldddVVERKxatcrdcQCg1EwEAQA8AxumAgC9RBAEAPAsLIsFAHqFpWEAAAAAiXBqGAAAAEAiBEEAAAAAiRAEAQAAACRCEAQAAACQCEEQAAAAQCIEQQAAAMC0kWVZZFlWdBs9SxAEAAAATBu1Wi1qtVrRbfQsQRAAAAAwLWRZFvV6Per1uqmgDhEEAQAAANPCoZNApoI6QxAEAAAAkAhBEAAAADAtjIyMNK1pn76iGwAAAACIiKhWqzE0NNSoaT9BEAAAADBtmATqrEqe53nRTTB5l1xySUREXHfddQV3AgAAAJSFiaCS2rx5c9EtAAAAACVjs+gSOjgN9NQaAAAA4JkIgkro0Gkgk0EAAABAqwRBAAAAAIkQBJXQwoULm9bQDVmWRZZlRbcBAADAFAiCSujQk8KcGka31Wq1qNVqRbcBAADAFDg1rKRMAlGELMuiXq836mq1WnBHAAAATEYlz/O86CaAcrjyyisbQdDQ0FCsXr264I4AAACYDEvDAAAAABIhCAJaNjIy0rQGAACgHOwRBLSsWq3G0NBQowYAAKBcBEHApJgEAgAAKC+bRQMAAAAkwh5BAAAAAIkQBAEAAAAkQhAEAAAAkIjDCoK+853vxPvf//7Gn9evXx/Lli2Lc889Nz75yU8ednMAAAAAtM+Ug6CVK1fGmjVrYmJiovG1a6+9NtasWRNf+MIX4kc/+lFs2LChLU0CAAAAcPimHASdeuqp8cEPfrDx57Gxsdi7d28sXLgwKpVKnH766XHfffe1o0cAAAAA2qDv2f6BtWvXxs033/ykr61atSrOPvvsuP/++xtfGxsbi8HBwcaf586dG7/4xS/a2CoAAAAAh+NZg6Bly5bFsmXLnvWBBgcHY+fOnY0/79y5M+bNm/eM37Nhw4bYvXt3C20CAAAA0IolS5Y87d89axDUqsHBwejv74/NmzfH7/zO78Q999wTl1566TN+z+LFi9v19AAAAAA8i7YFQRERf/u3fxuXX355HDhwIE4//fT4vd/7vXY+PAAAAACHoZLneV50EwAAAAB03pRPDQMAAACgXARBAAAAAIkQBAEAAAAkQhAEAAAAkAhBEAAAAEAiBEEAAAAAiRAEAQAAACRCEAQAAACQCEEQAAAAQCIEQQAAAACJEAQBAAAAJEIQBAAAAJAIQRAAAABAIgRBAAAAAIkQBAEAAAAkQhAEAAAAkAhBEAAAAEAiBEEAAAAAiRAEAQAAACRCEAQAAACQCEEQAAAAQCJKeIaLAAASuUlEQVQEQQAAAACJEAQBAAAAJEIQBAAAAJAIQRAAAABAIgRBAAAAAIkQBAEAAAAkQhAEAAAAkAhBEDApWZZFlmVFtwEAAMAUCIKASanValGr1YpuAwAAgCkQBAEty7Is6vV61Ot1U0EAAAAlJAgCWnboJJCpIAAAgPIRBAEAAAAkQhAEtGxkZKRpDQAAQDn0Fd0AUB7VajWGhoYaNQAAAOUiCAImxSQQAABAeVXyPM+LbgIAAACAzrNHEAAAAEAiBEEAAAAAiRAEAQAAACRCEAQAAACQCEEQAAAAQCIEQQAAAACJEAQBAAAAJEIQBAAAAJAIQRAAAABAIgRBAAAAAIkQBAEAAAAkQhAEAAAAkAhBEAAAAEAiBEEAAAAAiRAEAQAAACRCEAQAAACQCEEQAAAAQCIEQQAAAACJEAQBAAAAJEIQBAAAAJAIQRAAAABAIgRBAAAAAIkQBAEAAAAkQhAEAAAAkAhBEAAAAEAiBEEAAAAAiRAEAQAAACRCEAQAAACQCEEQAAAAQCIEQQAAAACJEAQBAAAAJEIQBAAAAJCIwwqCvvOd78T73//+xp+//e1vx+te97pYvnx5LF++PP7t3/7tsBsEAAAAoD36pvqNK1eujHvuuSdOPvnkxtc2bNgQK1asiLPOOqstzQEAAADQPlOeCDr11FPjgx/84JO+tmHDhvjKV74SIyMj8eEPfzj2799/uP0BAAAA0CbPGgStXbs2/uiP/uhJ//vxj38cZ599dlQqlSf9s6eddlr8zd/8TXz+85+P8fHx+OIXv9ixxgEAAACYnGddGrZs2bJYtmxZSw/21re+NebNmxcREa997WvjW9/61jP+8xs2bIjdu3e39NgAAAAAPLslS5Y87d9NeY+gp8rzPM4555z44he/GAsWLIj77rsvFi9e/Izf82x/DwAAAED7tC0IqlQqsXLlyrj00ktjzpw5cdJJJ8Xb3/72dj08AAAAAIepkud5XnQTAAAAAHTelE8NAwAAAKBcBEEAAAAAiRAEAQAAACRCEAQAAACQCEEQAAAAQCIEQQAAAACJEAQBAAAAJEIQBAAAAJAIQRAAAABAIgRBAAAAAIkQBAEAAAAkQhAEAAAAkAhBEAAAAEAiBEEAAAAAiRAEAQAAACRCEAQAAACQCEEQAAAAQCIEQQAAAACJEAQBAAAAJEIQBAAAAJAIQRAAAABAIgRBAAAAAIkQBAEAAAAkQhAEAAAAkAhBEAAAAEAiBEEAAAAAiRAEAQAAACRCEAQAAACQCEEQAAAAQCIEQQAAAACJEAQBAAAAJEIQBAAAAJAIQRAAAABAIgRBAAAAAIkQBAEAAAAkQhAEAAAAkAhBEAAAAEAiBEEAAAAAiRAEAQAAACRCEAQAAACQCEEQAAAAQCIEQQAAAACJEAQBAAAAJEIQBAAAAJAIQRAAAABAIgRBAAAAAIkQBAEAAAAkQhAEAAAAkAhBEAAAAEAiBEEAAAAAiRAEAQAAACRCEAQAAACQCEEQAAAAQCIEQQAAAACJEAQBAAAAJEIQBAAAAJAIQRAAAABAIgRBwKRkWRZZlhXdBgAAAFMgCAImpVarRa1WK7oNAAAApkAQBLQsy7Ko1+tRr9dNBQEAAJSQIAho2aGTQKaCAAAAykcQBAAAAJAIQRDQspGRkaY1AAAA5dBXdANAeVSr1RgaGmrUAAAAlIsgCJgUk0AAAADlVcnzPC+6CQAAAAA6zx5BAAAAAIkQBAEAAAAkQhAEAAAAkIgpbRa9Y8eOWLFiRYyNjcW+ffviAx/4QLz0pS+N9evXx9///d/HzJkz4/TTT49LL7203f0CAAAAMEVTmgj653/+51i6dGnceuutsXr16vjQhz4UERHXXnttrFmzJr7whS/Ej370o9iwYUNbmwUAAABg6qY0EXT++efHrFmzIiLiwIEDMXv27BgbG4u9e/fGwoULIyLi9NNPj/vuuy8WL17cvm4BAAAAmLJnDYLWrl0bN99885O+tmrVqnjxi18c27ZtixUrVsRVV10VY2NjMTg42Phn5s6dG7/4xS+e8bE3bNgQu3fvnmLrAAAAADzVkiVLnvbvnjUIWrZsWSxbtux/ff3hhx+Oyy67LK644op4xSteEWNjY7Fz587G3+/cuTPmzZv3jI9tWggAAACge6a0R9DPfvazeO973xtr1qyJM844IyIiBgcHo7+/PzZv3hx5nsc999wTL3vZy9raLAAAAABTV8nzPJ/sN1188cXx8MMPx/Of//yI+E0IdP3118f69etj1apVceDAgTj99NPjfe97X9sbBgAAAGBqphQEAQAAAFA+U1oaBgAAAED5CIIAAAAAEiEIAgAAAEiEIAgAAAAgEYIgAAAAgEQIggAAAAASIQgCAAAASIQgCAAAACARgiAAAACARAiCAAAAABIhCAIAAABIhCAIAAAAIBGCIAAAAIBECIIAAAAAEiEIAgAAAEiEIAgAAAAgEYIgAAAAgEQIggAAAAASIQgCAAAASIQgCAAAACARgiAAAACARAiCAAAAABIhCAIAAABIhCAIAAAAIBGCIAAAAIBECIIAAAAAEiEIAgAAAEiEIAgAAAAgEYIgAAAAgEQIggAAAAASIQgCAAAASIQgCAAAACARgiAAAACARAiCAAAAABIhCAIAAABIhCAIAAAAIBGCIAAAAIBECIIAAAAAEiEIAgAAAEiEIAgAAAAgEYIgAAAAgEQIggAAAAASIQgCAAAASIQgCAAAACARgiAAAACARAiCAAAAABIhCAIAAABIhCAIAAAAIBGCIAAAAIBECIIAAAAAEiEIAgAAAEiEIAgAAAAgEYIgAAAAgEQIggAAAAASIQgCAAAASIQgCAAAACARgiAAAACARAiCAAAAABIhCAIAAABIhCAIAAAAIBGCIAAAAIBECIIAAAAAEiEIAgAAAEiEIAgAAAAgEYIgAAAAgEQIggAAAAASIQgCAAAASIQgCAAAACARgiAAAACARPRN5Zt27NgRK1asiLGxsdi3b1984AMfiJe+9KXx7W9/Oz760Y/GCSecEBERf/mXfxmveMUr2towAAAAAFNTyfM8n+w3ffzjH4958+bF+eefH4888ki8//3vj6997Wvxj//4j3HKKafEWWed1YleAQAAADgMU5oIOv/882PWrFkREXHgwIGYPXt2RERs2LAhHnroobj55pvjxS9+cVx++eXR1zelpwAAAACgzZ41pVm7dm3cfPPNT/raqlWr4sUvfnFs27YtVqxYEVdddVVERJx22mnxute9Lk488cS49tpr44tf/GKcd955T/vYGzZsiN27dx/m/wUAAAAADlqyZMnT/t2UloZFRDz88MNx2WWXxRVXXBFnnHFGREQ88cQTMW/evIiI+P73vx/f+ta3YtWqVVN5eAAAAADabEqnhv3sZz+L9773vbFmzZpGCJTneZxzzjnxy1/+MiIi7rvvvli8eHH7OgUAAADgsExpIujiiy+Ohx9+OJ7//OdHRMTg4GBcf/31cc8998Q//dM/xZw5c+Kkk06Kq6++Ovr7+9veNAAAAACTN+WlYQAAAACUy5SWhgEAAABQPoIgAAAAgEQIggAAAAASIQgCAAAASIQgCAAAACARgiAAAACARAiCAAAAABIhCAIAAABIhCAIAAAAIBGCIAAAAIBECIIAAAAAEiEIAgAAAEiEIAgAAAAgEYIgAAAAgEQIggAAAAASIQgCAAAASIQgCAAAACARgiAAAACARAiCgEnJsiyyLCu6DQAAAKZAEARMSq1Wi1qtVnQbAAAATIEgCGhZlmVRr9ejXq+bCgIAACghQRDQskMngUwFAQAAlI8gCAAAACARgiCgZSMjI01rAAAAyqGv6AaA8qhWqzE0NNSoAQAAKBdBEDApJoEAAADKq5LneV50EwAAAAB0nj2CAAAAABIhCAIAAABIhCAIAAAAIBGCIAAAAIBECIIAAAAAEiEIAgAAAEiEIAgAAAAgEYIgAAAAgEQIggAAAAASIQgCAAAASIQgCAAAACARgiAAAACARAiCAAAAABIhCAIAAABIhCAIAAAAIBGCIAAAAIBECIIAAAAAEiEIAgAAAEiEIAgAAAAgEYIgAAAAgET0FfnkDzzwQJFPDwAAANCTlixZ0vTrlTzP8y73AgAAAEABLA0DAAAASIQgCAAAACARgiAAAACARAiCAAAAABIhCAIAAABIRKHHx/P0/uzP/iwuvfTSeNWrXtX42sqVK+OEE06Iu+66K2bOnBmzZs2Kj3zkI3HsscfG5z73ufjmN78ZERFnnHFGXHrppUW1TslN9tr7/Oc/H1/96lejUqnEJZdcEr//+79fYPeU3WSvv4iIiYmJuOiii+K1r31t/Omf/mlRrVNyk732Vq5cGQ8++GDMnTs3IiI+9alPxZFHHllU+5TcZK+/73//+3HddddFRMQpp5wS1157bVQqlaLap8Qmc+1t27YtVq1a1fjn1q9fH9ddd1285jWvKaJ1esBkX/tuuumm+OY3vxmVSiX+/M//PF7/+tcX2H3J5UxLX//61/O/+qu/avx5z549+R/8wR/kf/Inf5L/53/+Z57nef6FL3whX7VqVb558+b8LW95S75///78wIED+Tve8Y78oYceKqp1Sm4y19727dvzs88+O9+7d2++Y8eO/DWveU0+MTFRVOv0gMlcfwetWbMmf9vb3pbXarWu90vvmOy1d+655+bbt28vpFd6z2Suvx07duRvetObGtffDTfc4FpkyqbyezfP8/z222/PL7vssq72Su+ZzPX3+OOP52eccUa+Z8+e/LHHHsvPPPPMotruCZaGTVNveMMb4v77749du3ZFRMRdd90Vp512Wlx//fVx8sknR0TEgQMHYvbs2bFgwYL4zGc+EzNnzowZM2bE/v37Y/bs2UW2T4lN5to75phjYnR0NPr7++NXv/pVzJs3zx1JDstkrr+IiDvuuCMqlYq7kRy2yVx7ExMT8fOf/zyuueaaOPfcc+PLX/5yka3TAyZz/f3Hf/xHvOhFL4qPfOQjMTIyEscee2wcc8wxRbZPiU32925ExPj4eHziE5+Iv/7rvy6kZ3rHZK6/I444Ip73vOfFrl27YteuXT5zHCZB0DQ1e/bseO1rXxvf+c53IiLiq1/9arzjHe+I448/PiIiHnzwwbj11lvj/PPPj/7+/jjmmGMiz/P4yEc+EqecckosWrSoyPYpsclcexERfX19ceutt8Y73vGOOOuss4pqmx4xmevvpz/9adx2223x3ve+t8iW6RGTufbGx8fjvPPOi4997GPxmc98Jmq1WvzkJz8psn1KbjLX36OPPhr3339/XH755XHjjTfGzTffHBs3biyyfUpssu/7IiK+/OUvxxve8AYBJIdtstffCSecEG9605viLW95S7zzne8squ2eIAiaxpYtWxajo6OxZcuWeOKJJ2Lx4sUREXH77bfHtddeGzfccEPjBXjPnj1x+eWXx86dO+Paa68tsm16wGSuvYiI8847L+6+++7493//91i3bl1RbdMjWr3+vv71r8eWLVviXe96V3zta1+Lz33uc/GDH/yg4O4ps1avvSOOOCLe+c53xhFHHBGDg4OxdOlSQRCHrdXr7+ijj45qtRrHHXdczJ07N172spfFQw89VHD3lNlk3/d94xvfiGXLlhXVLj2m1evvBz/4QWzdujXuuuuu+N73vhd33nln/PjHPy64+/KyWfQ09ru/+7uxc+fO+Jd/+Zd461vfGhERo6Oj8aUvfSluueWWOProoyMiIs/z+Iu/+It45StfGRdddFGRLdMjWr32HnnkkfiHf/iH+MQnPhH9/f0xa9asmDFDvszhafX6u+KKKxrf84lPfCKOPfZYS8Q4LK1ee5s2bYr3ve998bWvfS0mJibiwQcfjLe85S1Ftk4PaPX6Gxoaip/+9Kfx61//OubNmxc/+tGP4u1vf3uRrVNyrV57ERE7duyIvXv3xgknnFBUu/SYVq+/o446KubMmROzZs2KSqUSRx55ZDzxxBNFtl5qlTzP86Kb4OmtXbs2Pvaxj8V3v/vdmDNnTrzqVa+KE044IebNmxcRES9/+cvj5JNPjssuuyxe8pKXNL7vsssui5e+9KVFtU0PaOXae8973hOf/OQn4wc/+EFUKpV49atf7cQ62qLV6++gg0GQU8M4XK1eezfeeGPccccd0d/fH8PDw6492qLV6++b3/xm3HTTTRHxmz023AjkcLV67f34xz+OT3/60/GpT32q4I7pJa1efx//+Mfj7rvvjhkzZsSpp54aV1xxhb2CpkgQBAAAAJAIazgAAAAAEiEIAgAAAEiEIAgAAAAgEYIgAAD4/9qxAwEAAAAAQf7Wg1wYAcCECAIAAACYEEEAAAAAEyIIAAAAYEIEAQAAAEwEPtInVzM4LTEAAAAASUVORK5CYII=\n",
      "text/plain": [
       "<Figure size 1440x720 with 1 Axes>"
      ]
     },
     "metadata": {},
     "output_type": "display_data"
    }
   ],
   "source": [
    "sns.set(rc={'figure.figsize':(20, 10)})\n",
    "sns.set_style(\"whitegrid\")\n",
    "sns.boxplot(data=data_numeric.drop('Amount', axis=1).iloc[:,21:], palette=\"deep\")\n",
    "sns.despine(left=True)"
   ]
  },
  {
   "cell_type": "markdown",
   "metadata": {},
   "source": [
    "<li>Variables Amount</li>"
   ]
  },
  {
   "cell_type": "code",
   "execution_count": 20,
   "metadata": {},
   "outputs": [
    {
     "data": {
      "image/png": "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\n",
      "text/plain": [
       "<Figure size 216x288 with 1 Axes>"
      ]
     },
     "metadata": {},
     "output_type": "display_data"
    }
   ],
   "source": [
    "sns.set(rc={'figure.figsize':(3, 4)})\n",
    "sns.set_style(\"whitegrid\")\n",
    "sns.boxplot(data=data_numeric['Amount'], palette=\"deep\")\n",
    "sns.despine(left=True)"
   ]
  },
  {
   "cell_type": "markdown",
   "metadata": {},
   "source": [
    "#### Relación 1-dim de las variables explicativas con el target"
   ]
  },
  {
   "cell_type": "markdown",
   "metadata": {},
   "source": [
    "Vemos la relación de las explicativas con el target en un scatter plot"
   ]
  },
  {
   "cell_type": "code",
   "execution_count": 21,
   "metadata": {},
   "outputs": [
    {
     "data": {
      "image/png": "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\n",
      "text/plain": [
       "<Figure size 900x180 with 5 Axes>"
      ]
     },
     "metadata": {},
     "output_type": "display_data"
    },
    {
     "data": {
      "image/png": "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\n",
      "text/plain": [
       "<Figure size 900x180 with 5 Axes>"
      ]
     },
     "metadata": {},
     "output_type": "display_data"
    },
    {
     "data": {
      "image/png": "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\n",
      "text/plain": [
       "<Figure size 900x180 with 5 Axes>"
      ]
     },
     "metadata": {},
     "output_type": "display_data"
    },
    {
     "data": {
      "image/png": "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\n",
      "text/plain": [
       "<Figure size 900x180 with 5 Axes>"
      ]
     },
     "metadata": {},
     "output_type": "display_data"
    },
    {
     "data": {
      "image/png": "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\n",
      "text/plain": [
       "<Figure size 900x180 with 5 Axes>"
      ]
     },
     "metadata": {},
     "output_type": "display_data"
    },
    {
     "data": {
      "image/png": "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\n",
      "text/plain": [
       "<Figure size 900x180 with 5 Axes>"
      ]
     },
     "metadata": {},
     "output_type": "display_data"
    }
   ],
   "source": [
    "for i in range(0, len(data.columns), 5):\n",
    "    sns.pairplot(data=data,\n",
    "                x_vars=data.columns[i:i+5],\n",
    "                y_vars=['target'])"
   ]
  },
  {
   "cell_type": "markdown",
   "metadata": {},
   "source": [
    "#### Correlaciones\n",
    "Comprobamos:\n",
    "<li>Correlaciones de las variables explicativa con target</li>\n",
    "<li>Matriz de correlaciones de las variables explicativas</li>"
   ]
  },
  {
   "cell_type": "markdown",
   "metadata": {},
   "source": [
    "<li>Correlaciones de las variables explicativa con target</li>\n",
    "<br>Vemos que variables están más correladas con la target (corr > 0.5).<br>\n",
    "No hay muchas ni tampoco están fuertemente correladas."
   ]
  },
  {
   "cell_type": "code",
   "execution_count": 22,
   "metadata": {},
   "outputs": [
    {
     "name": "stdout",
     "output_type": "stream",
     "text": [
      "There is 9 strongly correlated values with target:\n",
      "V14    0.777546\n",
      "V12    0.720151\n",
      "V17    0.692453\n",
      "V10    0.665723\n",
      "V3     0.640011\n",
      "V16    0.639489\n",
      "V7     0.567711\n",
      "V4    -0.561232\n",
      "V11   -0.589896\n",
      "Name: target, dtype: float64\n"
     ]
    }
   ],
   "source": [
    "data['target']=data['target'].astype('int')\n",
    "data_numeric = data.select_dtypes(exclude = ['category'])\n",
    "matrix_corr = data_numeric.corr()\n",
    "df_num_corr = matrix_corr['target'].loc[data_numeric.columns != 'target']\n",
    "golden_features_list = df_num_corr[abs(df_num_corr) > 0.5].sort_values(ascending=False)\n",
    "print(\"There is {} strongly correlated values with target:\\n{}\".format(len(golden_features_list), golden_features_list))"
   ]
  },
  {
   "cell_type": "markdown",
   "metadata": {},
   "source": [
    "<li>Matriz de correlaciones de las variables explicativas</li><br>\n",
    "No hay correlaciones fuertes."
   ]
  },
  {
   "cell_type": "code",
   "execution_count": 23,
   "metadata": {},
   "outputs": [
    {
     "data": {
      "text/plain": [
       "<matplotlib.axes._subplots.AxesSubplot at 0x25f59bdbba8>"
      ]
     },
     "execution_count": 23,
     "metadata": {},
     "output_type": "execute_result"
    },
    {
     "data": {
      "image/png": "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\n",
      "text/plain": [
       "<Figure size 1440x864 with 1 Axes>"
      ]
     },
     "metadata": {},
     "output_type": "display_data"
    }
   ],
   "source": [
    "matrix_corr_plot= round(data_numeric.drop('target', axis=1).corr(),1)\n",
    "plt.figure(figsize=(20, 12))\n",
    "sns.heatmap(matrix_corr_plot[(matrix_corr_plot >= 0.5) | (matrix_corr_plot <= -0.45)], \n",
    "            cmap='viridis', vmax=1.0, vmin=-1.0, linewidths=0.01, linecolor='black',\n",
    "            cbar=False, annot=True, annot_kws={\"size\": 10}, square=True)"
   ]
  },
  {
   "cell_type": "markdown",
   "metadata": {},
   "source": [
    "## Unsupervised fraud detector"
   ]
  },
  {
   "cell_type": "markdown",
   "metadata": {},
   "source": [
    "Fraudulent activities are usually prosecuted, therefore fraudsters need to be creative and come up constantly with new ways of performing fraud. Furthermore, frauds are scarce (fortunately), and so we have few positive class patterns available for training. Because of these facts, it might make sense to build an unsupervised fraud detector."
   ]
  },
  {
   "cell_type": "markdown",
   "metadata": {},
   "source": [
    "Renombramos el dataset train y lo descomponemos en matriz X e y<br>Además, cargamos el test y le damos el mismo tratmiento."
   ]
  },
  {
   "cell_type": "code",
   "execution_count": 24,
   "metadata": {},
   "outputs": [],
   "source": [
    "import pandas as pd\n",
    "import numpy as np\n",
    "import math\n",
    "import matplotlib.pyplot as plt\n",
    "import seaborn as sns\n",
    "%matplotlib inline\n",
    "import warnings\n",
    "warnings.filterwarnings('ignore')"
   ]
  },
  {
   "cell_type": "code",
   "execution_count": 25,
   "metadata": {},
   "outputs": [],
   "source": [
    "data_train = pd.read_csv('./data/fraud_train.csv',header=0, sep=',')\n",
    "data_test = pd.read_csv('./data/fraud_test.csv',header=0, sep=',')"
   ]
  },
  {
   "cell_type": "code",
   "execution_count": 26,
   "metadata": {},
   "outputs": [],
   "source": [
    "def preprocess_fnc(data, target):\n",
    "    data.replace({target: {1:-1}}, inplace=True)\n",
    "    data.replace({target: {0: 1}}, inplace=True)\n",
    "    #data[target]=data[target].astype('category')\n",
    "\n",
    "preprocess_fnc(data_train,\"Class\")\n",
    "preprocess_fnc(data_test,\"Class\")"
   ]
  },
  {
   "cell_type": "code",
   "execution_count": 27,
   "metadata": {},
   "outputs": [],
   "source": [
    "def create_Xy(dataset, target):\n",
    "    bool= dataset.columns != target\n",
    "    return (dataset.loc[:,bool].values,dataset.loc[:,~bool].values)\n",
    "\n",
    "X_train,y_train = create_Xy(data_train, 'Class')\n",
    "X_test,y_test = create_Xy(data_train, 'Class')"
   ]
  },
  {
   "cell_type": "code",
   "execution_count": 28,
   "metadata": {},
   "outputs": [
    {
     "name": "stdout",
     "output_type": "stream",
     "text": [
      "Dimensiones de X_train:  (5246, 29) \n",
      "Dimensiones de y_train:  (5246, 1) \n",
      "\n",
      "Dimensiones de X_test:  (5246, 29) \n",
      "Dimensiones de y_test:  (5246, 1)\n"
     ]
    }
   ],
   "source": [
    "print('Dimensiones de X_train: ',X_train.shape,'\\nDimensiones de y_train: ',y_train.shape,'\\n\\nDimensiones de X_test: ',X_test.shape,'\\nDimensiones de y_test: ',y_test.shape)"
   ]
  },
  {
   "cell_type": "markdown",
   "metadata": {},
   "source": [
    "Metodología:<br>\n",
    "<ol>\n",
    "    <li>Definición de los modelos.</li>\n",
    "    <li>Predicción de los modelos.</li>\n",
    "    <li>Selección del mejor modelo</li>\n",
    "</ol>\n",
    "\n",
    "<ol>\n",
    "    <li>Definición de los modelos.</li>\n",
    "    Se trabaja en training set para obtener varios modelos con parámetros distintos.<br>\n",
    "    <ol>    \n",
    "        <li>Definición de los parámetros a optimizar en el cross-validation</li>\n",
    "        <li>Definición de las métricas con las que optimizar los parámetros</li>\n",
    "        <li>Definición del cross-validation</li>\n",
    "        <ol>\n",
    "            <li>Dividisión del train set en k folds</li>\n",
    "            <li>Entrenamiento del modelo en k-1 folds y validamos en el sobrante</li>\n",
    "        </ol>\n",
    "        <li>Obteneción de las métricas de performance de cada modelo</li>\n",
    "    </ol>\n",
    "    <br>\n",
    "    <li>Predicción de los modelos.</li>\n",
    "    Ahora pasamos al testing set.\n",
    "    <ol>\n",
    "        <li>Cálculo la predicción de los modelos con el testing set</li>\n",
    "        <li>Cálculo el score de las predicciones</li>\n",
    "    </ol>\n",
    "    <br>\n",
    "    <li>Predicción de los modelos.</li> \n",
    "    <ol>\n",
    "        <li>Comparamos modelos</li>\n",
    "        <li>Matemáticamente</li>\n",
    "        <li>Gráficamente</li>\n",
    "</ol>"
   ]
  },
  {
   "cell_type": "markdown",
   "metadata": {},
   "source": [
    "### 1. Definición de los modelos."
   ]
  },
  {
   "cell_type": "markdown",
   "metadata": {},
   "source": [
    "#### A. Definimos los parámetros a optimizar en el cross-validation"
   ]
  },
  {
   "cell_type": "markdown",
   "metadata": {},
   "source": [
    "Los parámetros a optimizar son:<br>\n",
    "<li>número de arboles del randomForest.</li>\n",
    "<li>número máximo de observaciones por sample.</li>\n",
    "<li>número máximo de variables a analizar a la hora de crecer el árbol.</li>"
   ]
  },
  {
   "cell_type": "code",
   "execution_count": 29,
   "metadata": {},
   "outputs": [],
   "source": [
    "from sklearn.model_selection import ParameterGrid"
   ]
  },
  {
   "cell_type": "code",
   "execution_count": 30,
   "metadata": {},
   "outputs": [
    {
     "name": "stdout",
     "output_type": "stream",
     "text": [
      "Número de modelos:  24\n"
     ]
    }
   ],
   "source": [
    "\"\"\"param_grid = {\n",
    "    \"n_estimators\": [100, 200, 500, 1000],\n",
    "    \"max_samples\": ['auto', 16, 32, 64, 128, 256],\n",
    "    \"max_features\": [0.1, 0.2, 0.5, 1.0]\n",
    "}\n",
    "\"\"\"\n",
    "param_grid = {\n",
    "    \"contamination\":[0.01,0.05,0.1],\n",
    "    \"n_estimators\": [100, 200],\n",
    "    \"max_samples\": ['auto', 16],\n",
    "    \"max_features\": [0.1, 0.2]\n",
    "}\n",
    "paramgrid_model= ParameterGrid(param_grid)\n",
    "print('Número de modelos: ',len(ParameterGrid(param_grid)))"
   ]
  },
  {
   "cell_type": "markdown",
   "metadata": {},
   "source": [
    "#### B. Definidción de las métricas con las que optimizar los parámetros"
   ]
  },
  {
   "cell_type": "markdown",
   "metadata": {},
   "source": [
    "Las métricas que optimizan los parámetros son:<br>\n",
    "<li>ROC-AUC.</li>\n",
    "<li>Accuracy.</li>\n",
    "<li>F1.<br>\n",
    "    <ol>$F1 = \\frac{2·precision·recall}{precision + recall}.$</ol>\n",
    "    <ol>precision: Positive Predictive Value, $\\frac{TP}{TP+FP}$.</ol>\n",
    "    <ol>recall: True Positive Rate, $\\frac{TP}{TP+FN}$. </ol>\n",
    "</li><br>"
   ]
  },
  {
   "cell_type": "code",
   "execution_count": 31,
   "metadata": {},
   "outputs": [],
   "source": [
    "metrics=['f1', 'precision','recall']"
   ]
  },
  {
   "cell_type": "markdown",
   "metadata": {},
   "source": [
    "#### C. Definición del cross-validation"
   ]
  },
  {
   "cell_type": "markdown",
   "metadata": {},
   "source": [
    "#### a. Dividisión del train set en k folds"
   ]
  },
  {
   "cell_type": "markdown",
   "metadata": {},
   "source": [
    "Debido a las pocas observaciones anomalas, 4,7%, dividimos en k=3."
   ]
  },
  {
   "cell_type": "code",
   "execution_count": 32,
   "metadata": {},
   "outputs": [],
   "source": [
    "from sklearn.model_selection import StratifiedKFold\n",
    "skf = StratifiedKFold(n_splits=3, random_state=77, shuffle=False)\n",
    "folds_idx = list(skf.split(X_train,y_train))"
   ]
  },
  {
   "cell_type": "code",
   "execution_count": 33,
   "metadata": {},
   "outputs": [
    {
     "name": "stdout",
     "output_type": "stream",
     "text": [
      "trainFold0:  3497 validationFold0:  1749\n",
      "trainFold1:  3497 validationFold1:  1749\n",
      "trainFold2:  3498 validationFold2:  1748\n"
     ]
    }
   ],
   "source": [
    "for i, fold in enumerate(folds_idx):\n",
    "    print('trainFold'+str(i)+': ', len(fold[0]),'validationFold'+str(i)+': ', len(fold[1]))"
   ]
  },
  {
   "cell_type": "markdown",
   "metadata": {},
   "source": [
    "#### b. Entrenamiento del modelo en k-1 folds y validamos en el sobrante"
   ]
  },
  {
   "cell_type": "code",
   "execution_count": 34,
   "metadata": {},
   "outputs": [],
   "source": [
    "from sklearn.ensemble import IsolationForest\n",
    "from sklearn.metrics import roc_auc_score\n",
    "from sklearn.metrics import accuracy_score, f1_score, precision_score, recall_score, classification_report, confusion_matrix"
   ]
  },
  {
   "cell_type": "code",
   "execution_count": 35,
   "metadata": {},
   "outputs": [],
   "source": [
    "def CV_fnc(folds, dataset, target, IF):\n",
    "    f1,precision,recall = [],[],[]\n",
    "    for i, fold in enumerate(folds):\n",
    "        X_train= dataset.loc[list(fold[0])].drop(target, axis=1)\n",
    "        y_train= dataset.loc[list(fold[0])].loc[:,target]\n",
    "        X_validation= dataset.loc[list(fold[1])].drop(target, axis=1)\n",
    "        y_validation= dataset.loc[list(fold[1])].loc[:,target]\n",
    "        IF.fit(X_train)\n",
    "        y_validation_pred= IF.predict(X_validation)\n",
    "        f1.append(f1_score(y_validation, y_validation_pred, pos_label=-1, average=\"binary\"))\n",
    "        precision.append(precision_score(y_validation, y_validation_pred, pos_label=-1, average=\"binary\"))\n",
    "        recall.append(recall_score(y_validation, y_validation_pred, pos_label=-1, average=\"binary\"))\n",
    "        \n",
    "    f1= np.mean(f1)\n",
    "    precision= np.mean(precision)\n",
    "    recall= np.mean(recall)\n",
    "    return (f1,precision,recall)"
   ]
  },
  {
   "cell_type": "markdown",
   "metadata": {},
   "source": [
    "#### Obteneción de las métricas de performance de cada modelo"
   ]
  },
  {
   "cell_type": "code",
   "execution_count": 36,
   "metadata": {
    "scrolled": true
   },
   "outputs": [],
   "source": [
    "folds= folds_idx\n",
    "dataset= data_train\n",
    "target= 'Class'\n",
    "for i in range(len(paramgrid_model)):\n",
    "    # Iteramos sobre la i para poder pasar los parametros al modelo Isolation.\n",
    "    # Isoltaion no lee objetos de paramgrid de golpe así que se los pasamos uno a uno.\n",
    "    IF = IsolationForest(n_estimators=ParameterGrid(param_grid)[i]['n_estimators'],\n",
    "                         max_samples=ParameterGrid(param_grid)[i]['max_samples'],\n",
    "                         contamination=ParameterGrid(param_grid)[i]['contamination'],\n",
    "                         max_features=ParameterGrid(param_grid)[i]['max_features'])\n",
    "    IFmetrics=CV_fnc(folds, dataset, target, IF)\n",
    "    try:\n",
    "        performance.loc[i]= [IFmetrics[0],IFmetrics[1],IFmetrics[2]]\n",
    "    except:\n",
    "        performance= pd.DataFrame([[IFmetrics[0],IFmetrics[1],IFmetrics[2]]],\n",
    "                                  columns=['f1','precision','recall'],\n",
    "                                  index=[i]\n",
    "                                  )"
   ]
  },
  {
   "cell_type": "markdown",
   "metadata": {},
   "source": [
    "Comprobamos qué métrica nos arroja una mejor confusion matrix.<br>\n",
    "Una confussion matrix adecuada es tal que el número de False Positive (FP) sea el menor posible sin descuidar el False Negative (FN) que sería el lado conservador.<br>\n",
    "Tiene que ser un trade-off entre FP (prioritario) y FN.<br>\n",
    "Por tanto, comprobamos los modelos que mejor métrica han obtenido en el data train para cada una de ellas y calculamos su mariz de confusión.<br> Si ninguna de ellas nos satifaciera, podríamos creamos una métrica que combinara ambas.<br>\n"
   ]
  },
  {
   "cell_type": "markdown",
   "metadata": {},
   "source": [
    "<strong>precision</strong>: Positive Predictive Value, $\\frac{TP}{TP+FP}$.<br>\n",
    "Si $TP >> FP \\to precision = 1$<br>\n",
    "Si $FP >> TP \\to precision = 0$<br>\n",
    "\n",
    "<strong>recall</strong>: True Positive Rate, $\\frac{TP}{TP+FN}$.<br>\n",
    "Si $TP >> FN \\to recall = 1$<br>\n",
    "Si $FN >> TP \\to recall = 0$<br>\n",
    "\n",
    "<strong>F1</strong>: True Positive Rate, $\\frac{2·precision·recall}{precision + recall}$<br>\n",
    "Si alguna de las 2 métricas se hiciera 0 (peor caso) F1 sería 0 $\\to$ Cuanto mayor F1, mejor.\n"
   ]
  },
  {
   "cell_type": "code",
   "execution_count": 37,
   "metadata": {},
   "outputs": [
    {
     "data": {
      "text/plain": [
       "11"
      ]
     },
     "execution_count": 37,
     "metadata": {},
     "output_type": "execute_result"
    }
   ],
   "source": [
    "IF_F1_selected = performance['f1'].idxmax()\n",
    "IF_F1_selected"
   ]
  },
  {
   "cell_type": "code",
   "execution_count": 38,
   "metadata": {},
   "outputs": [
    {
     "data": {
      "text/plain": [
       "f1           0.715114\n",
       "precision    0.681197\n",
       "recall       0.756098\n",
       "Name: 11, dtype: float64"
      ]
     },
     "execution_count": 38,
     "metadata": {},
     "output_type": "execute_result"
    }
   ],
   "source": [
    "performance.loc[performance['f1'].idxmax()]"
   ]
  },
  {
   "cell_type": "code",
   "execution_count": 39,
   "metadata": {
    "scrolled": true
   },
   "outputs": [
    {
     "data": {
      "text/plain": [
       "11"
      ]
     },
     "execution_count": 39,
     "metadata": {},
     "output_type": "execute_result"
    }
   ],
   "source": [
    "IF_precission_selected = performance['precision'].idxmax()\n",
    "IF_precission_selected"
   ]
  },
  {
   "cell_type": "code",
   "execution_count": 40,
   "metadata": {},
   "outputs": [
    {
     "data": {
      "text/plain": [
       "f1           0.715114\n",
       "precision    0.681197\n",
       "recall       0.756098\n",
       "Name: 11, dtype: float64"
      ]
     },
     "execution_count": 40,
     "metadata": {},
     "output_type": "execute_result"
    }
   ],
   "source": [
    "performance.loc[performance['precision'].idxmax()]"
   ]
  },
  {
   "cell_type": "code",
   "execution_count": 41,
   "metadata": {},
   "outputs": [
    {
     "data": {
      "text/plain": [
       "17"
      ]
     },
     "execution_count": 41,
     "metadata": {},
     "output_type": "execute_result"
    }
   ],
   "source": [
    "IF_recall_selected = performance['recall'].idxmax()\n",
    "IF_recall_selected"
   ]
  },
  {
   "cell_type": "code",
   "execution_count": 42,
   "metadata": {},
   "outputs": [
    {
     "data": {
      "text/plain": [
       "f1           0.559216\n",
       "precision    0.414383\n",
       "recall       0.861789\n",
       "Name: 17, dtype: float64"
      ]
     },
     "execution_count": 42,
     "metadata": {},
     "output_type": "execute_result"
    }
   ],
   "source": [
    "performance.loc[performance['recall'].idxmax()]"
   ]
  },
  {
   "cell_type": "code",
   "execution_count": 43,
   "metadata": {},
   "outputs": [],
   "source": [
    "from sklearn.metrics import confusion_matrix"
   ]
  },
  {
   "cell_type": "code",
   "execution_count": 44,
   "metadata": {},
   "outputs": [],
   "source": [
    "def performance_metric_fnc(model_selected, metric):\n",
    "    IF = IsolationForest(n_estimators=ParameterGrid(param_grid)[model_selected]['n_estimators'],\n",
    "                         max_samples=ParameterGrid(param_grid)[model_selected]['max_samples'],\n",
    "                         contamination=ParameterGrid(param_grid)[model_selected]['contamination'],\n",
    "                         max_features=ParameterGrid(param_grid)[model_selected]['max_features'])\n",
    "    IF.fit(X_train)\n",
    "    y_test_pred= IF.predict(X_test)\n",
    "    if metric == 'f1':\n",
    "        performance_metric= f1_score(y_test, y_test_pred, average=\"binary\")\n",
    "    elif metric == 'precision':\n",
    "        performance_metric= precision_score(y_test, y_test_pred, average=\"binary\")\n",
    "    elif metric == 'recall':\n",
    "        performance_metric= recall_score(y_test, y_test_pred, average=\"binary\")\n",
    "    CM= confusion_matrix(y_test, y_test_pred, labels=[-1,1], sample_weight=None)\n",
    "    tn, fn, fp, tp = CM.ravel()\n",
    "    \n",
    "    return pd.DataFrame([[model_selected,performance_metric,tn, fn, fp, tp]],columns=['model','performance_test','TP','FP','FN','TN'],index=[metric])"
   ]
  },
  {
   "cell_type": "code",
   "execution_count": 45,
   "metadata": {},
   "outputs": [],
   "source": [
    "from sklearn.metrics import confusion_matrix\n",
    "performance_test= None\n",
    "for metric in metrics:\n",
    "    model_selected = performance[metric].idxmax()\n",
    "    try:\n",
    "        performance_test= performance_test.append(performance_metric_fnc(model_selected, metric))\n",
    "    except:\n",
    "        performance_test= performance_metric_fnc(model_selected, metric)"
   ]
  },
  {
   "cell_type": "code",
   "execution_count": 46,
   "metadata": {},
   "outputs": [
    {
     "data": {
      "text/html": [
       "<div>\n",
       "<style scoped>\n",
       "    .dataframe tbody tr th:only-of-type {\n",
       "        vertical-align: middle;\n",
       "    }\n",
       "\n",
       "    .dataframe tbody tr th {\n",
       "        vertical-align: top;\n",
       "    }\n",
       "\n",
       "    .dataframe thead th {\n",
       "        text-align: right;\n",
       "    }\n",
       "</style>\n",
       "<table border=\"1\" class=\"dataframe\">\n",
       "  <thead>\n",
       "    <tr style=\"text-align: right;\">\n",
       "      <th></th>\n",
       "      <th>model</th>\n",
       "      <th>performance_test</th>\n",
       "      <th>TP</th>\n",
       "      <th>FP</th>\n",
       "      <th>FN</th>\n",
       "      <th>TN</th>\n",
       "    </tr>\n",
       "  </thead>\n",
       "  <tbody>\n",
       "    <tr>\n",
       "      <th>f1</th>\n",
       "      <td>11</td>\n",
       "      <td>0.987679</td>\n",
       "      <td>193</td>\n",
       "      <td>53</td>\n",
       "      <td>70</td>\n",
       "      <td>4930</td>\n",
       "    </tr>\n",
       "    <tr>\n",
       "      <th>precision</th>\n",
       "      <td>11</td>\n",
       "      <td>0.986554</td>\n",
       "      <td>179</td>\n",
       "      <td>67</td>\n",
       "      <td>84</td>\n",
       "      <td>4916</td>\n",
       "    </tr>\n",
       "    <tr>\n",
       "      <th>recall</th>\n",
       "      <td>17</td>\n",
       "      <td>0.937400</td>\n",
       "      <td>212</td>\n",
       "      <td>34</td>\n",
       "      <td>313</td>\n",
       "      <td>4687</td>\n",
       "    </tr>\n",
       "  </tbody>\n",
       "</table>\n",
       "</div>"
      ],
      "text/plain": [
       "           model  performance_test   TP  FP   FN    TN\n",
       "f1            11          0.987679  193  53   70  4930\n",
       "precision     11          0.986554  179  67   84  4916\n",
       "recall        17          0.937400  212  34  313  4687"
      ]
     },
     "execution_count": 46,
     "metadata": {},
     "output_type": "execute_result"
    }
   ],
   "source": [
    "performance_test"
   ]
  },
  {
   "cell_type": "code",
   "execution_count": 47,
   "metadata": {},
   "outputs": [],
   "source": [
    "def print_CM(data, metric):\n",
    "    print(\"Matriz de confusión para la métrica:\",metric,\"\\n\")\n",
    "    return pd.DataFrame(np.array(data.loc[metric][2:]).reshape(2,2), columns=['Pred_anomalia','Pred_regular'], index=['Real_anomalia','Real_regular'])"
   ]
  },
  {
   "cell_type": "code",
   "execution_count": 48,
   "metadata": {},
   "outputs": [
    {
     "name": "stdout",
     "output_type": "stream",
     "text": [
      "Matriz de confusión para la métrica: f1 \n",
      "\n"
     ]
    },
    {
     "data": {
      "text/html": [
       "<div>\n",
       "<style scoped>\n",
       "    .dataframe tbody tr th:only-of-type {\n",
       "        vertical-align: middle;\n",
       "    }\n",
       "\n",
       "    .dataframe tbody tr th {\n",
       "        vertical-align: top;\n",
       "    }\n",
       "\n",
       "    .dataframe thead th {\n",
       "        text-align: right;\n",
       "    }\n",
       "</style>\n",
       "<table border=\"1\" class=\"dataframe\">\n",
       "  <thead>\n",
       "    <tr style=\"text-align: right;\">\n",
       "      <th></th>\n",
       "      <th>Pred_anomalia</th>\n",
       "      <th>Pred_regular</th>\n",
       "    </tr>\n",
       "  </thead>\n",
       "  <tbody>\n",
       "    <tr>\n",
       "      <th>Real_anomalia</th>\n",
       "      <td>193.0</td>\n",
       "      <td>53.0</td>\n",
       "    </tr>\n",
       "    <tr>\n",
       "      <th>Real_regular</th>\n",
       "      <td>70.0</td>\n",
       "      <td>4930.0</td>\n",
       "    </tr>\n",
       "  </tbody>\n",
       "</table>\n",
       "</div>"
      ],
      "text/plain": [
       "               Pred_anomalia  Pred_regular\n",
       "Real_anomalia          193.0          53.0\n",
       "Real_regular            70.0        4930.0"
      ]
     },
     "execution_count": 48,
     "metadata": {},
     "output_type": "execute_result"
    }
   ],
   "source": [
    "metric= metrics[0]\n",
    "print_CM(performance_test, metric)"
   ]
  },
  {
   "cell_type": "code",
   "execution_count": 49,
   "metadata": {},
   "outputs": [
    {
     "name": "stdout",
     "output_type": "stream",
     "text": [
      "Matriz de confusión para la métrica: precision \n",
      "\n"
     ]
    },
    {
     "data": {
      "text/html": [
       "<div>\n",
       "<style scoped>\n",
       "    .dataframe tbody tr th:only-of-type {\n",
       "        vertical-align: middle;\n",
       "    }\n",
       "\n",
       "    .dataframe tbody tr th {\n",
       "        vertical-align: top;\n",
       "    }\n",
       "\n",
       "    .dataframe thead th {\n",
       "        text-align: right;\n",
       "    }\n",
       "</style>\n",
       "<table border=\"1\" class=\"dataframe\">\n",
       "  <thead>\n",
       "    <tr style=\"text-align: right;\">\n",
       "      <th></th>\n",
       "      <th>Pred_anomalia</th>\n",
       "      <th>Pred_regular</th>\n",
       "    </tr>\n",
       "  </thead>\n",
       "  <tbody>\n",
       "    <tr>\n",
       "      <th>Real_anomalia</th>\n",
       "      <td>179.0</td>\n",
       "      <td>67.0</td>\n",
       "    </tr>\n",
       "    <tr>\n",
       "      <th>Real_regular</th>\n",
       "      <td>84.0</td>\n",
       "      <td>4916.0</td>\n",
       "    </tr>\n",
       "  </tbody>\n",
       "</table>\n",
       "</div>"
      ],
      "text/plain": [
       "               Pred_anomalia  Pred_regular\n",
       "Real_anomalia          179.0          67.0\n",
       "Real_regular            84.0        4916.0"
      ]
     },
     "execution_count": 49,
     "metadata": {},
     "output_type": "execute_result"
    }
   ],
   "source": [
    "metric= metrics[1]\n",
    "print_CM(performance_test, metric)"
   ]
  },
  {
   "cell_type": "code",
   "execution_count": 50,
   "metadata": {},
   "outputs": [
    {
     "name": "stdout",
     "output_type": "stream",
     "text": [
      "Matriz de confusión para la métrica: recall \n",
      "\n"
     ]
    },
    {
     "data": {
      "text/html": [
       "<div>\n",
       "<style scoped>\n",
       "    .dataframe tbody tr th:only-of-type {\n",
       "        vertical-align: middle;\n",
       "    }\n",
       "\n",
       "    .dataframe tbody tr th {\n",
       "        vertical-align: top;\n",
       "    }\n",
       "\n",
       "    .dataframe thead th {\n",
       "        text-align: right;\n",
       "    }\n",
       "</style>\n",
       "<table border=\"1\" class=\"dataframe\">\n",
       "  <thead>\n",
       "    <tr style=\"text-align: right;\">\n",
       "      <th></th>\n",
       "      <th>Pred_anomalia</th>\n",
       "      <th>Pred_regular</th>\n",
       "    </tr>\n",
       "  </thead>\n",
       "  <tbody>\n",
       "    <tr>\n",
       "      <th>Real_anomalia</th>\n",
       "      <td>212.0</td>\n",
       "      <td>34.0</td>\n",
       "    </tr>\n",
       "    <tr>\n",
       "      <th>Real_regular</th>\n",
       "      <td>313.0</td>\n",
       "      <td>4687.0</td>\n",
       "    </tr>\n",
       "  </tbody>\n",
       "</table>\n",
       "</div>"
      ],
      "text/plain": [
       "               Pred_anomalia  Pred_regular\n",
       "Real_anomalia          212.0          34.0\n",
       "Real_regular           313.0        4687.0"
      ]
     },
     "execution_count": 50,
     "metadata": {},
     "output_type": "execute_result"
    }
   ],
   "source": [
    "metric= metrics[2]\n",
    "print_CM(performance_test, metric)"
   ]
  },
  {
   "cell_type": "markdown",
   "metadata": {},
   "source": [
    "## <strong>Conclusión</strong><br>\n",
    "El objetivo es detectar los fraudes (TP) y que no haya fraudes que se clasifiquen mal (FP), como un dato normal no-fraude.<br>\n",
    "Por tanto, la métrica que minimiza el FP es la que nos arroja el mejor modelo. En este caso, dicha métrica es <i>recall</i> con solo 35 fraudes no detectados.<br>\n",
    "La cuestión es si se puede minimar el FP a cualquier precio. Los FN de la métrica <i>recall</i> son 326 muy por encima de las otras dos métricas. Más del 300% en <i>f1</i> y más del 1.000% para <i>precission</i>.<br>\n",
    "La métrica <i>precission</i> es el polo opuesto a <i>recall</i>. Optimiza el FN sin prestar atención al FP, obtiendo un FP inaceptable y muy mejorable.<br>\n",
    "Una idea más apropiada podría ser pensar en un trade-off entre FP y FN dando prioridad obviamente al FP del tal manera que no perjudicáramos a clientes que por error se les considerara fraude sin serlo (FN).<br>\n",
    "En esta línea se encuentra la métrica <i>f1</i>, que es un equilibrio entre FP y FN priorizando FP.<br>"
   ]
  },
  {
   "cell_type": "markdown",
   "metadata": {},
   "source": [
    "Por tanto, el <strong>modelo Isolation Forest seleccionado</strong> es:"
   ]
  },
  {
   "cell_type": "code",
   "execution_count": 51,
   "metadata": {},
   "outputs": [
    {
     "data": {
      "text/plain": [
       "{'n_estimators': 200,\n",
       " 'max_samples': 16,\n",
       " 'max_features': 0.1,\n",
       " 'contamination': 0.05}"
      ]
     },
     "execution_count": 51,
     "metadata": {},
     "output_type": "execute_result"
    }
   ],
   "source": [
    "paramgrid_model[int(performance_test.loc['f1'][0])]"
   ]
  },
  {
   "cell_type": "markdown",
   "metadata": {},
   "source": [
    "<table>\n",
    " <tr><td width=\"80\"><img src=\"img/question.png\" style=\"width:auto;height:auto\"></td><td style=\"text-align:left\">\n",
    "Create a visualization showing the performance of this model over the test data.\n",
    " </td></tr>\n",
    "</table>"
   ]
  },
  {
   "cell_type": "code",
   "execution_count": 52,
   "metadata": {},
   "outputs": [],
   "source": [
    "performance_test.sort_values(by=['performance_test'], ascending=0, inplace=True)"
   ]
  },
  {
   "cell_type": "code",
   "execution_count": 53,
   "metadata": {},
   "outputs": [
    {
     "data": {
      "text/plain": [
       "<matplotlib.axes._subplots.AxesSubplot at 0x25f5bc334a8>"
      ]
     },
     "execution_count": 53,
     "metadata": {},
     "output_type": "execute_result"
    },
    {
     "data": {
      "image/png": "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\n",
      "text/plain": [
       "<Figure size 1080x360 with 1 Axes>"
      ]
     },
     "metadata": {},
     "output_type": "display_data"
    }
   ],
   "source": [
    "plt.figure(figsize=(15,5))\n",
    "sns.barplot(y=performance_test.index, x=\"performance_test\", data=performance_test)"
   ]
  },
  {
   "cell_type": "markdown",
   "metadata": {},
   "source": [
    "## Supervised model"
   ]
  },
  {
   "cell_type": "markdown",
   "metadata": {},
   "source": [
    "Se probarán las siguientes estrategías:<br>\n",
    "<ol>\n",
    "<li>Naïve</li>\n",
    "<li>Esemble de árboles:</li>\n",
    "    <ol>\n",
    "        <li>AdaBoostClassifier</li>\n",
    "        <li>RandomForestClassifier</li>\n",
    "        <li>GradientBoostingClassifier</li>\n",
    "    </ol>\n",
    "    <li>Stacking:</li>\n",
    "        <ol>\n",
    "            <li>RandomForestClassifier</li>\n",
    "            <li>KNN, Neighboors</li>\n",
    "    </ol>\n",
    "    <li>Enssemble:</li>\n",
    "        <ol>\n",
    "            <li>Majority Class Labels (Majority/Hard Voting)</li>\n",
    "            <li>Weighted Average Probabilities (Soft Voting)</li>\n",
    "    </ol>\n",
    "    <li>Threshold:</li>\n",
    "</ol>"
   ]
  },
  {
   "cell_type": "markdown",
   "metadata": {},
   "source": [
    "### _1. Naïve"
   ]
  },
  {
   "cell_type": "markdown",
   "metadata": {},
   "source": [
    "Establecemos como benchmark el modelo Naïve ya que es el modelo más laxo.<br>"
   ]
  },
  {
   "cell_type": "code",
   "execution_count": 54,
   "metadata": {},
   "outputs": [],
   "source": [
    "from sklearn.naive_bayes import GaussianNB\n",
    "gnb = GaussianNB()\n",
    "y_test_pred = gnb.fit(X_train, y_train).predict(X_test)\n",
    "from sklearn.metrics import f1_score, recall_score\n",
    "f1_score_gnb= f1_score(y_test, y_test_pred,pos_label=-1, average='binary')"
   ]
  },
  {
   "cell_type": "code",
   "execution_count": 55,
   "metadata": {},
   "outputs": [
    {
     "data": {
      "text/html": [
       "<div>\n",
       "<style scoped>\n",
       "    .dataframe tbody tr th:only-of-type {\n",
       "        vertical-align: middle;\n",
       "    }\n",
       "\n",
       "    .dataframe tbody tr th {\n",
       "        vertical-align: top;\n",
       "    }\n",
       "\n",
       "    .dataframe thead th {\n",
       "        text-align: right;\n",
       "    }\n",
       "</style>\n",
       "<table border=\"1\" class=\"dataframe\">\n",
       "  <thead>\n",
       "    <tr style=\"text-align: right;\">\n",
       "      <th></th>\n",
       "      <th>model</th>\n",
       "      <th>performance</th>\n",
       "    </tr>\n",
       "  </thead>\n",
       "  <tbody>\n",
       "    <tr>\n",
       "      <th>0</th>\n",
       "      <td>Naive</td>\n",
       "      <td>0.716007</td>\n",
       "    </tr>\n",
       "  </tbody>\n",
       "</table>\n",
       "</div>"
      ],
      "text/plain": [
       "   model  performance\n",
       "0  Naive     0.716007"
      ]
     },
     "execution_count": 55,
     "metadata": {},
     "output_type": "execute_result"
    }
   ],
   "source": [
    "res_df_Aux= pd.DataFrame.from_dict({\"model\": [\"Naive\"],\n",
    "                                    \"performance\": f1_score_gnb\n",
    "                                    })\n",
    "try:\n",
    "    res_df= pd.concat([res_df,res_df_Aux], axis=0)   \n",
    "except:\n",
    "    res_df= res_df_Aux\n",
    "res_df"
   ]
  },
  {
   "cell_type": "markdown",
   "metadata": {},
   "source": [
    "### _2. Esemble de árboles"
   ]
  },
  {
   "cell_type": "markdown",
   "metadata": {},
   "source": [
    "Calculamos el performance de los esembles básicos RandomForest, Adaboost y GradientBoosting<br>\n",
    "Mediante <i>GridSearchCV()</i> realizamos un cross-validation de los distintos modelos propuestos<br>\n",
    "Los modelos son:\n",
    "<ol>\n",
    "    <li>randomForest\n",
    "        <ol>\n",
    "            <li>n_estimators: 50\n",
    "            <li>max_depth: 3, 5, 10, 15, 20, 25, 30, None\n",
    "            <li>max_features: raíz cuadrada del númerod e explicativas, log2 del num_explicativas y ninguna\n",
    "            <li>min_samples_split: 1, 2, 4, 8, 16, 32 y 64\n",
    "            <li>min_samples_leaf: 1, 2, 4, 8, 16, 32 y 64\n",
    "            <li>bootstrap: con y sin boostrap\n",
    "            <li>criterion: gini y entropy\n",
    "        </ol>\n",
    "    </li>\n",
    "    <br>\n",
    "    <li>boosting\n",
    "        <ol>\n",
    "            <li>n_estimators: 50\n",
    "            <li>learning_rate: equispaciado desde 0.00001 hasta 1.\n",
    "        </ol>\n",
    "    </li>\n",
    "    <br>\n",
    "    <li>gradientBoosting\n",
    "        <ol>\n",
    "            <li>n_estimators: 50\n",
    "            <li>loss: deviance y expnential.\n",
    "            <li>learning_rate: raíz cuadrada del númerod e explicativas, log2 del num_explicativas y ninguna\n",
    "            <li>max_depth: 3, 5, 15,25, None\n",
    "            <li>min_samples_split: 1, 2, 4, 8, 16 y 32\n",
    "            <li>min_samples_leaf: 1, 2, 4, 8, 16 y 32\n",
    "            <li>subsample: 0.1, 0.2, 0.5, 0.9 y 1\n",
    "            <li>max_features: raíz cuadrada del númerod e explicativas, log2 del num_explicativas y ninguna\n",
    "        </ol>\n",
    "    </li>   \n",
    "</ol>\n",
    "<br>\n",
    "La métrica de performance para optimizar los parámetros usada es f1 por las mismas razones que para el modelo no-supervisado, minimizar los fraudes no detectados (FP) sin penalizar a los clientes buenos considerándolos fraude (FN).<br>"
   ]
  },
  {
   "cell_type": "code",
   "execution_count": 56,
   "metadata": {},
   "outputs": [],
   "source": [
    "from sklearn.ensemble import AdaBoostClassifier, RandomForestClassifier, GradientBoostingClassifier\n",
    "from sklearn.model_selection import RandomizedSearchCV, GridSearchCV, ParameterGrid\n",
    "from sklearn.metrics import make_scorer, f1_score\n",
    "from sklearn.linear_model import LogisticRegression\n",
    "from sklearn.neighbors import KNeighborsClassifier\n",
    "from sklearn.naive_bayes import GaussianNB \n",
    "from mlxtend.classifier import StackingCVClassifier"
   ]
  },
  {
   "cell_type": "code",
   "execution_count": 57,
   "metadata": {
    "scrolled": true
   },
   "outputs": [],
   "source": [
    "def trainscore(Xtrain, ytrain, Xtest, ytest, estimator):\n",
    "    \"\"\"Trains an estimator and returns score over a test set\"\"\"\n",
    "    estimator.fit(Xtrain, ytrain)\n",
    "    return (estimator.score(Xtest, ytest) * 100, estimator.best_estimator_, estimator.cv_results_, estimator.best_params_)\n",
    "\n",
    "def tune(Xtrain, ytrain, Xtest, ytest, estimator, param_dist, n_iter_search, n_jobs):\n",
    "    \"\"\"Performs hyperparameter tuning over an estimator\"\"\"\n",
    "    try:\n",
    "        search = RandomizedSearchCV(estimator, param_distributions=param_dist, n_iter=n_iter_search, n_jobs=n_jobs, scoring= make_scorer(f1_score, greater_is_better = True, average='binary'))\n",
    "        return trainscore(Xtrain, ytrain, Xtest, ytest, search)\n",
    "    except ValueError:\n",
    "        search = GridSearchCV(estimator, param_grid=param_dist, n_jobs=n_jobs, scoring= make_scorer(f1_score, greater_is_better = True, average='binary'))\n",
    "        return trainscore(Xtrain, ytrain, Xtest, ytest, search)\n",
    "\n",
    "ntrees = 50\n",
    "\n",
    "models = {\n",
    "    \"randomForest\": {\n",
    "        \"class\" : RandomForestClassifier(),\n",
    "        \"param_dist\" : {\n",
    "            \"n_estimators\" : [ntrees],\n",
    "            \"max_depth\": [3, 5, 15, 25, None],\n",
    "            \"max_features\": [\"sqrt\", \"log2\", None],\n",
    "            \"min_samples_split\": [2, 4, 8, 16, 32],\n",
    "            \"min_samples_leaf\": [1, 2, 4, 8, 16, 32],\n",
    "            \"bootstrap\": [True, False],\n",
    "            \"criterion\": [\"gini\", \"entropy\"]\n",
    "        }\n",
    "    },    \n",
    "    \"boosting\": {\n",
    "        \"class\" : AdaBoostClassifier(),\n",
    "        \"param_dist\" : {\n",
    "            \"n_estimators\" : [ntrees],\n",
    "            \"learning_rate\": np.logspace(-5,0,12)\n",
    "        }\n",
    "    },  \n",
    "    \"gradientBoosting\": {\n",
    "        \"class\" : GradientBoostingClassifier(),\n",
    "        \"param_dist\" : {\n",
    "            \"n_estimators\" : [ntrees],\n",
    "            \"loss\": [\"deviance\", \"exponential\"],\n",
    "            \"learning_rate\": np.logspace(-5,0,12),\n",
    "            \"max_depth\": [3, 5, 15, 25, None],\n",
    "            \"min_samples_split\": [2, 4, 8, 16, 32],\n",
    "            \"min_samples_leaf\": [1, 2, 4, 8, 16, 32],\n",
    "            \"subsample\" : [0.1, 0.2, 0.5, 0.9, 1],\n",
    "            \"max_features\": [\"sqrt\", \"log2\", None],\n",
    "        }\n",
    "    }\n",
    "}\n",
    "\n",
    "n_jobs = 7\n",
    "n_iter_search = 50\n",
    "\n",
    "\n",
    "aux = {\n",
    "    modelname : tune(\n",
    "        X_train, y_train, X_test, y_test, \n",
    "        models[modelname][\"class\"], \n",
    "        param_dist=models[modelname][\"param_dist\"], \n",
    "        n_iter_search=n_iter_search, \n",
    "        n_jobs=n_jobs\n",
    "    )\n",
    "    for modelname in models\n",
    "    }"
   ]
  },
  {
   "cell_type": "code",
   "execution_count": 58,
   "metadata": {},
   "outputs": [],
   "source": [
    "acc_score = {modelname: {\"performance\":aux[modelname][0],\n",
    "                         \"best_model\":aux[modelname][1],\n",
    "                         \"best_model_params\":aux[modelname][3],\n",
    "                         \"CV_results\":aux[modelname][2]\n",
    "                        }\n",
    "             for modelname in models\n",
    "            }"
   ]
  },
  {
   "cell_type": "code",
   "execution_count": 59,
   "metadata": {},
   "outputs": [
    {
     "data": {
      "text/html": [
       "<div>\n",
       "<style scoped>\n",
       "    .dataframe tbody tr th:only-of-type {\n",
       "        vertical-align: middle;\n",
       "    }\n",
       "\n",
       "    .dataframe tbody tr th {\n",
       "        vertical-align: top;\n",
       "    }\n",
       "\n",
       "    .dataframe thead th {\n",
       "        text-align: right;\n",
       "    }\n",
       "</style>\n",
       "<table border=\"1\" class=\"dataframe\">\n",
       "  <thead>\n",
       "    <tr style=\"text-align: right;\">\n",
       "      <th></th>\n",
       "      <th>model</th>\n",
       "      <th>performance</th>\n",
       "    </tr>\n",
       "  </thead>\n",
       "  <tbody>\n",
       "    <tr>\n",
       "      <th>0</th>\n",
       "      <td>Naive</td>\n",
       "      <td>0.716007</td>\n",
       "    </tr>\n",
       "    <tr>\n",
       "      <th>0</th>\n",
       "      <td>randomForest</td>\n",
       "      <td>99.651221</td>\n",
       "    </tr>\n",
       "    <tr>\n",
       "      <th>0</th>\n",
       "      <td>boosting</td>\n",
       "      <td>99.651012</td>\n",
       "    </tr>\n",
       "    <tr>\n",
       "      <th>0</th>\n",
       "      <td>gradientBoosting</td>\n",
       "      <td>99.890121</td>\n",
       "    </tr>\n",
       "  </tbody>\n",
       "</table>\n",
       "</div>"
      ],
      "text/plain": [
       "              model  performance\n",
       "0             Naive     0.716007\n",
       "0      randomForest    99.651221\n",
       "0          boosting    99.651012\n",
       "0  gradientBoosting    99.890121"
      ]
     },
     "execution_count": 59,
     "metadata": {},
     "output_type": "execute_result"
    }
   ],
   "source": [
    "for modelName in list(acc_score.keys()):\n",
    "    res_df_Aux= pd.DataFrame.from_dict({\"model\": [modelName],\n",
    "                                        \"performance\": acc_score[modelName][\"performance\"]\n",
    "                                       })\n",
    "    try:\n",
    "        res_df= pd.concat([res_df,res_df_Aux], axis=0)   \n",
    "    except:\n",
    "        res_df= res_df_Aux\n",
    "res_df"
   ]
  },
  {
   "cell_type": "markdown",
   "metadata": {},
   "source": [
    "## Stacking"
   ]
  },
  {
   "cell_type": "markdown",
   "metadata": {},
   "source": [
    "Consiste en agrandar el dataset añadiendo variables explicativas.<br>\n",
    "Estas variables explicativas provienen de la predicción de modelos entrenados sobre el propio dataset.<br>\n",
    "Para evitar el overfitting se utiliza la metodología cross-validation para entrenar el modelo (k-1 folds) y predecir (1fold).<br>\n",
    "Esta predicción pasa a formar parte del dataset como una nueva variable explicativa.<br>\n",
    "Posteriormente, se entrena un modelo nuevo (meta-modelo) con el dataset resultante.<br>\n",
    "Para poder la métrica de performance del modelo es necesario que el testing dataset también tenga las nuevas variables añadidas así que se predicen variables con el X_test para añadirlas.<br>"
   ]
  },
  {
   "cell_type": "code",
   "execution_count": 60,
   "metadata": {},
   "outputs": [],
   "source": [
    "clf1 = RandomForestClassifier().set_params(**acc_score['randomForest']['best_model_params'])\n",
    "clf2 = AdaBoostClassifier().set_params(**acc_score['boosting']['best_model_params'])\n",
    "clf3 = GradientBoostingClassifier().set_params(**acc_score['gradientBoosting']['best_model_params'])\n",
    "lr = LogisticRegression()\n",
    "clasifier_list=[clf1, clf2, clf3]\n",
    "sclf = StackingCVClassifier(classifiers=clasifier_list, meta_classifier=lr)"
   ]
  },
  {
   "cell_type": "code",
   "execution_count": 61,
   "metadata": {},
   "outputs": [],
   "source": [
    "params = {'randomforestclassifier__n_estimators': [50],\n",
    "          'adaboostclassifier__n_estimators': [50],\n",
    "          'gradientboostingclassifier__n_estimators': [50],\n",
    "          'meta-logisticregression__C': [0.1, 10.0]}"
   ]
  },
  {
   "cell_type": "code",
   "execution_count": 62,
   "metadata": {},
   "outputs": [],
   "source": [
    "search = GridSearchCV(estimator=sclf, \n",
    "                      param_grid=params, \n",
    "                      cv=3,\n",
    "                      scoring= make_scorer(f1_score, greater_is_better = True, average='binary'),\n",
    "                      refit=True)"
   ]
  },
  {
   "cell_type": "code",
   "execution_count": 63,
   "metadata": {},
   "outputs": [
    {
     "data": {
      "text/plain": [
       "2"
      ]
     },
     "execution_count": 63,
     "metadata": {},
     "output_type": "execute_result"
    }
   ],
   "source": [
    "X_train.ndim"
   ]
  },
  {
   "cell_type": "code",
   "execution_count": 64,
   "metadata": {},
   "outputs": [
    {
     "data": {
      "text/plain": [
       "2"
      ]
     },
     "execution_count": 64,
     "metadata": {},
     "output_type": "execute_result"
    }
   ],
   "source": [
    "y_train.ndim"
   ]
  },
  {
   "cell_type": "code",
   "execution_count": 65,
   "metadata": {},
   "outputs": [
    {
     "name": "stdout",
     "output_type": "stream",
     "text": [
      "error\n"
     ]
    }
   ],
   "source": [
    "try:\n",
    "    search.fit(X_train,y_train)\n",
    "except:\n",
    "    print(\"error\")"
   ]
  },
  {
   "cell_type": "code",
   "execution_count": 66,
   "metadata": {},
   "outputs": [
    {
     "name": "stdout",
     "output_type": "stream",
     "text": [
      "error\n"
     ]
    }
   ],
   "source": [
    "try:\n",
    "    cv_keys = ('mean_test_score', 'std_test_score', 'params')\n",
    "    for r, _ in enumerate(search.cv_results_['mean_test_score']):\n",
    "        print(\"%0.3f +/- %0.2f %r\"\n",
    "              % (search.cv_results_[cv_keys[0]][r],\n",
    "                 search.cv_results_[cv_keys[1]][r] / 2.0,\n",
    "                 search.cv_results_[cv_keys[2]][r]))\n",
    "except:\n",
    "    print(\"error\")\n"
   ]
  },
  {
   "cell_type": "code",
   "execution_count": 67,
   "metadata": {},
   "outputs": [
    {
     "name": "stdout",
     "output_type": "stream",
     "text": [
      "error\n"
     ]
    }
   ],
   "source": [
    "try:\n",
    "    print('Best parameters: %s' % search.best_params_)\n",
    "    print('performance: %.2f' % search.best_score_)\n",
    "except:\n",
    "    print(\"error\")\n"
   ]
  },
  {
   "cell_type": "code",
   "execution_count": 68,
   "metadata": {},
   "outputs": [
    {
     "name": "stdout",
     "output_type": "stream",
     "text": [
      "error\n"
     ]
    }
   ],
   "source": [
    "try:\n",
    "    res_df_Aux= pd.DataFrame.from_dict({\"model\": [\"stacking\"],\n",
    "                                        \"performance\": search.best_score_\n",
    "                                        })\n",
    "    try:\n",
    "        res_df= pd.concat([res_df,res_df_Aux], axis=0)   \n",
    "    except:\n",
    "        res_df= res_df_Aux\n",
    "    res_df\n",
    "except:\n",
    "    print(\"error\")"
   ]
  },
  {
   "cell_type": "markdown",
   "metadata": {},
   "source": [
    "## Enssemble"
   ]
  },
  {
   "cell_type": "markdown",
   "metadata": {},
   "source": [
    "Se realizan dos essembles en paralelo para comprobar si mejora el resultado de los modelos básicos:<br/>\n",
    "<li>Majority Class Labels (Majority/Hard Voting)</li>\n",
    "<li>Weighted Average Probabilities (Soft Voting)</li>\n",
    "<br>"
   ]
  },
  {
   "cell_type": "markdown",
   "metadata": {},
   "source": [
    "<li>Majority Class Labels (Majority/Hard Voting)</li><br>\n",
    "Los modelos trabajan en paralelo clasificando.<br>\n",
    "El resultado final se obtiene por votación mayoritaria.<br>\n",
    "Para cada observación, el label que más sale es el resultado."
   ]
  },
  {
   "cell_type": "code",
   "execution_count": 69,
   "metadata": {},
   "outputs": [],
   "source": [
    "from sklearn.model_selection import cross_val_score, cross_validate\n",
    "from sklearn.linear_model import LogisticRegression\n",
    "from sklearn.naive_bayes import GaussianNB\n",
    "from sklearn.ensemble import RandomForestClassifier\n",
    "from sklearn.ensemble import VotingClassifier\n",
    "\n",
    "clf1 = RandomForestClassifier().set_params(**acc_score['randomForest']['best_model_params'])\n",
    "clf2 = AdaBoostClassifier().set_params(**acc_score['boosting']['best_model_params'])\n",
    "clf3 = GradientBoostingClassifier().set_params(**acc_score['gradientBoosting']['best_model_params'])\n",
    "clasifier_list=[clf1, clf2, clf3]\n",
    "\n",
    "vclf = VotingClassifier(estimators=[('rf', clf1), ('ab', clf2), ('gb', clf3)], voting='hard')\n",
    "model_list= zip([clf1, clf2, clf3, vclf], ['RandomForest', 'AdaBoost', 'GradientBoosting', 'Ensemble'])"
   ]
  },
  {
   "cell_type": "code",
   "execution_count": 70,
   "metadata": {},
   "outputs": [
    {
     "data": {
      "text/plain": [
       "VotingClassifier(estimators=[('rf', RandomForestClassifier(bootstrap=False, class_weight=None, criterion='gini',\n",
       "            max_depth=5, max_features='sqrt', max_leaf_nodes=None,\n",
       "            min_impurity_decrease=0.0, min_impurity_split=None,\n",
       "            min_samples_leaf=1, min_samples_split=8,\n",
       "            min_weig...      presort='auto', random_state=None, subsample=0.5, verbose=0,\n",
       "              warm_start=False))],\n",
       "         flatten_transform=None, n_jobs=1, voting='hard', weights=None)"
      ]
     },
     "execution_count": 70,
     "metadata": {},
     "output_type": "execute_result"
    }
   ],
   "source": [
    "vclf.fit(X_train, y_train)"
   ]
  },
  {
   "cell_type": "code",
   "execution_count": 71,
   "metadata": {},
   "outputs": [
    {
     "name": "stdout",
     "output_type": "stream",
     "text": [
      "performance: 99.61 (+/- 0.0009) [RandomForest]\n",
      "performance: 99.61 (+/- 0.0006) [AdaBoost]\n",
      "performance: 99.60 (+/- 0.0008) [GradientBoosting]\n",
      "performance: 99.62 (+/- 0.0008) [Ensemble]\n"
     ]
    }
   ],
   "source": [
    "import warnings\n",
    "warnings.filterwarnings('ignore')\n",
    "for clf, label in model_list:\n",
    "    scores  = cross_val_score(clf, X_train, y_train, cv=3, scoring=make_scorer(f1_score, greater_is_better = True, average='binary'))\n",
    "    print(\"performance: %0.2f (+/- %0.4f) [%s]\" % (scores.mean()*100, scores.std()/2, label))"
   ]
  },
  {
   "cell_type": "code",
   "execution_count": 72,
   "metadata": {},
   "outputs": [],
   "source": [
    "scores= cross_val_score(vclf, X_train, y_train, cv=3, scoring=make_scorer(f1_score, greater_is_better = True, average='binary'))"
   ]
  },
  {
   "cell_type": "code",
   "execution_count": 73,
   "metadata": {},
   "outputs": [
    {
     "data": {
      "text/html": [
       "<div>\n",
       "<style scoped>\n",
       "    .dataframe tbody tr th:only-of-type {\n",
       "        vertical-align: middle;\n",
       "    }\n",
       "\n",
       "    .dataframe tbody tr th {\n",
       "        vertical-align: top;\n",
       "    }\n",
       "\n",
       "    .dataframe thead th {\n",
       "        text-align: right;\n",
       "    }\n",
       "</style>\n",
       "<table border=\"1\" class=\"dataframe\">\n",
       "  <thead>\n",
       "    <tr style=\"text-align: right;\">\n",
       "      <th></th>\n",
       "      <th>model</th>\n",
       "      <th>performance</th>\n",
       "    </tr>\n",
       "  </thead>\n",
       "  <tbody>\n",
       "    <tr>\n",
       "      <th>0</th>\n",
       "      <td>Naive</td>\n",
       "      <td>0.716007</td>\n",
       "    </tr>\n",
       "    <tr>\n",
       "      <th>0</th>\n",
       "      <td>randomForest</td>\n",
       "      <td>99.651221</td>\n",
       "    </tr>\n",
       "    <tr>\n",
       "      <th>0</th>\n",
       "      <td>boosting</td>\n",
       "      <td>99.651012</td>\n",
       "    </tr>\n",
       "    <tr>\n",
       "      <th>0</th>\n",
       "      <td>gradientBoosting</td>\n",
       "      <td>99.890121</td>\n",
       "    </tr>\n",
       "    <tr>\n",
       "      <th>0</th>\n",
       "      <td>Enssemble Majority Class</td>\n",
       "      <td>99.611509</td>\n",
       "    </tr>\n",
       "  </tbody>\n",
       "</table>\n",
       "</div>"
      ],
      "text/plain": [
       "                      model  performance\n",
       "0                     Naive     0.716007\n",
       "0              randomForest    99.651221\n",
       "0                  boosting    99.651012\n",
       "0          gradientBoosting    99.890121\n",
       "0  Enssemble Majority Class    99.611509"
      ]
     },
     "execution_count": 73,
     "metadata": {},
     "output_type": "execute_result"
    }
   ],
   "source": [
    "res_df_Aux= pd.DataFrame.from_dict({\"model\": [\"Enssemble Majority Class\"],\n",
    "                                    \"performance\": scores.mean()*100\n",
    "                                    })\n",
    "try:\n",
    "    res_df= pd.concat([res_df,res_df_Aux], axis=0)   \n",
    "except:\n",
    "    res_df= res_df_Aux\n",
    "res_df"
   ]
  },
  {
   "cell_type": "markdown",
   "metadata": {},
   "source": [
    "<li>Weighted Average Probabilities (Soft Voting)</li>"
   ]
  },
  {
   "cell_type": "code",
   "execution_count": 74,
   "metadata": {},
   "outputs": [
    {
     "name": "stdout",
     "output_type": "stream",
     "text": [
      "performance: 99.28 (+/- 0.0027) [RandomForest]\n",
      "performance: 99.22 (+/- 0.0022) [AdaBoost]\n",
      "performance: 99.33 (+/- 0.0023) [GradientBoosting]\n",
      "performance: 99.24 (+/- 0.0024) [Ensemble]\n"
     ]
    }
   ],
   "source": [
    "from sklearn import datasets\n",
    "from sklearn.ensemble import RandomForestClassifier\n",
    "from sklearn.neighbors import KNeighborsClassifier\n",
    "from sklearn.svm import SVC\n",
    "from itertools import product\n",
    "from sklearn.ensemble import VotingClassifier\n",
    "\n",
    "clf1 = RandomForestClassifier().set_params(**acc_score['randomForest']['best_model_params'])\n",
    "clf2 = AdaBoostClassifier().set_params(**acc_score['boosting']['best_model_params'])\n",
    "clf3 = GradientBoostingClassifier().set_params(**acc_score['gradientBoosting']['best_model_params'])\n",
    "clasifier_list=[clf1, clf2, clf3]\n",
    "\n",
    "vclf = VotingClassifier(estimators=[('rf', clf1), ('ab', clf2), ('gb', clf3)], voting='soft', weights=[1, 1, 2])\n",
    "model_list= zip([clf1, clf2, clf3, vclf], ['RandomForest', 'AdaBoost', 'GradientBoosting', 'Ensemble'])\n",
    "\n",
    "for clf, label in model_list:\n",
    "    scores = cross_val_score(clf, X_train, y_train, cv=10, scoring='accuracy')\n",
    "    print(\"performance: %0.2f (+/- %0.4f) [%s]\" % (scores.mean()*100, scores.std()/2, label))"
   ]
  },
  {
   "cell_type": "code",
   "execution_count": 75,
   "metadata": {},
   "outputs": [
    {
     "data": {
      "text/html": [
       "<div>\n",
       "<style scoped>\n",
       "    .dataframe tbody tr th:only-of-type {\n",
       "        vertical-align: middle;\n",
       "    }\n",
       "\n",
       "    .dataframe tbody tr th {\n",
       "        vertical-align: top;\n",
       "    }\n",
       "\n",
       "    .dataframe thead th {\n",
       "        text-align: right;\n",
       "    }\n",
       "</style>\n",
       "<table border=\"1\" class=\"dataframe\">\n",
       "  <thead>\n",
       "    <tr style=\"text-align: right;\">\n",
       "      <th></th>\n",
       "      <th>model</th>\n",
       "      <th>performance</th>\n",
       "    </tr>\n",
       "  </thead>\n",
       "  <tbody>\n",
       "    <tr>\n",
       "      <th>0</th>\n",
       "      <td>Naive</td>\n",
       "      <td>0.716007</td>\n",
       "    </tr>\n",
       "    <tr>\n",
       "      <th>0</th>\n",
       "      <td>randomForest</td>\n",
       "      <td>99.651221</td>\n",
       "    </tr>\n",
       "    <tr>\n",
       "      <th>0</th>\n",
       "      <td>boosting</td>\n",
       "      <td>99.651012</td>\n",
       "    </tr>\n",
       "    <tr>\n",
       "      <th>0</th>\n",
       "      <td>gradientBoosting</td>\n",
       "      <td>99.890121</td>\n",
       "    </tr>\n",
       "    <tr>\n",
       "      <th>0</th>\n",
       "      <td>Enssemble Majority Class</td>\n",
       "      <td>99.611509</td>\n",
       "    </tr>\n",
       "    <tr>\n",
       "      <th>0</th>\n",
       "      <td>Enssemble Weighted Average Probabilities</td>\n",
       "      <td>99.591441</td>\n",
       "    </tr>\n",
       "  </tbody>\n",
       "</table>\n",
       "</div>"
      ],
      "text/plain": [
       "                                      model  performance\n",
       "0                                     Naive     0.716007\n",
       "0                              randomForest    99.651221\n",
       "0                                  boosting    99.651012\n",
       "0                          gradientBoosting    99.890121\n",
       "0                  Enssemble Majority Class    99.611509\n",
       "0  Enssemble Weighted Average Probabilities    99.591441"
      ]
     },
     "execution_count": 75,
     "metadata": {},
     "output_type": "execute_result"
    }
   ],
   "source": [
    "scores= cross_val_score(vclf, X_train, y_train, cv=3, scoring=make_scorer(f1_score, greater_is_better = True, average='binary'))\n",
    "res_df_Aux= pd.DataFrame.from_dict({\"model\": [\"Enssemble Weighted Average Probabilities\"],\n",
    "                                    \"performance\": scores.mean()*100\n",
    "                                    })\n",
    "try:\n",
    "    res_df= pd.concat([res_df,res_df_Aux], axis=0)   \n",
    "except:\n",
    "    res_df= res_df_Aux\n",
    "res_df"
   ]
  },
  {
   "cell_type": "markdown",
   "metadata": {},
   "source": [
    "### Threshold"
   ]
  },
  {
   "cell_type": "markdown",
   "metadata": {},
   "source": [
    "Uno de los factores más relevantes a la hora de clasificar es el establecimiento del threshold.<br>\n",
    "La última metodología será intentar optmizar el threshold<br>\n",
    "Para ello se calculan las probabilidades de cada observación de pertencer a una u otra clase<br>\n",
    "Una vez que se tienen las clases se optimiza el threshold con la métrica de performance."
   ]
  },
  {
   "cell_type": "code",
   "execution_count": 76,
   "metadata": {},
   "outputs": [],
   "source": [
    "clf1 = RandomForestClassifier().set_params(**acc_score['randomForest']['best_model_params'])\n",
    "clf2 = AdaBoostClassifier().set_params(**acc_score['boosting']['best_model_params'])\n",
    "clf3 = GradientBoostingClassifier().set_params(**acc_score['gradientBoosting']['best_model_params'])\n",
    "vclf = VotingClassifier(estimators=[('rf', clf1), ('ab', clf2), ('gb', clf3)], voting='hard')\n",
    "clasifier_list=[clf1, clf2, clf3, vclf]\n",
    "modelName_list=['randomForest', 'adaBoost', 'gradientBoosting', 'ensemble']\n",
    "model_list= zip(clasifier_list, modelName_list)\n",
    "threshold_list=np.linspace(0.4,0.9,10)"
   ]
  },
  {
   "cell_type": "code",
   "execution_count": 77,
   "metadata": {},
   "outputs": [],
   "source": [
    "def threshold_fnc(x, threshold):\n",
    "    if x>threshold:\n",
    "        return -1\n",
    "    else:\n",
    "        return 1\n",
    "\n",
    "def model_fit_CV_fnc(folds, dataset, target, model, threshold):\n",
    "    for i, fold in enumerate(folds):\n",
    "        X_train= dataset.loc[list(fold[0])].drop(target, axis=1).values\n",
    "        y_train= dataset.loc[list(fold[0])].loc[:,target].values\n",
    "        X_validation= dataset.loc[list(fold[1])].drop(target, axis=1).values\n",
    "        y_validation= dataset.loc[list(fold[1])].loc[:,target].values\n",
    "        model.fit(X_train,y_train)\n",
    "        y_validation_pred_prob= list(map(lambda x: threshold_fnc(x,threshold), model.predict_proba(X_validation)[:,0]))\n",
    "        try:\n",
    "            score.append(f1_score(y_validation, y_validation_pred_prob, pos_label=-1, average=\"binary\"))\n",
    "        except:\n",
    "            score = f1_score(y_validation, y_validation_pred_prob, pos_label=-1, average=\"binary\")\n",
    "    return np.mean(score)"
   ]
  },
  {
   "cell_type": "markdown",
   "metadata": {},
   "source": [
    "Para cada una de las iteraciones se muestrea. Realmente debería ser más de 2 pero por temas de computación lo se deja ahí."
   ]
  },
  {
   "cell_type": "code",
   "execution_count": 78,
   "metadata": {},
   "outputs": [],
   "source": [
    "try:\n",
    "    modelName_list.remove('ensemble')\n",
    "except:\n",
    "    modelName_list\n",
    "threshold_dict={}\n",
    "for i,modelName in enumerate(modelName_list):\n",
    "    threshold_df={}\n",
    "    for threshold in threshold_list:\n",
    "        score=[]\n",
    "        for j in range(2):\n",
    "            skf = StratifiedKFold(n_splits=3, shuffle=True)\n",
    "            folds_idx = list(skf.split(X_train,y_train))\n",
    "            folds= folds_idx\n",
    "            dataset= data_train\n",
    "            target='Class'\n",
    "            model= list(clasifier_list)[i]\n",
    "            modelName= list(modelName_list)[i]\n",
    "            threshold= threshold\n",
    "            model_fit_CV_fnc(folds, dataset, target, model, threshold)\n",
    "            score.append(model_fit_CV_fnc(folds, dataset, target, model, threshold))   \n",
    "        score_accum= np.mean(score)\n",
    "        try:\n",
    "            threshold_df= pd.concat([threshold_df, pd.DataFrame.from_dict({\"threshold\": [threshold],\n",
    "                                                                           \"performance\": score_accum*100\n",
    "                                                                          })],\n",
    "                                    axis=0)   \n",
    "        except:\n",
    "            threshold_df= pd.DataFrame.from_dict({\"threshold\": [threshold],\n",
    "                                                  \"performance\": score_accum*100\n",
    "                                                 })\n",
    "\n",
    "    try:\n",
    "        threshold_dict[modelName +'_threshold']= {\"threshold\": list(threshold_df.loc[threshold_df['performance']==threshold_df['performance'].max()]['threshold']),\n",
    "                                 \"performance\": threshold_df.loc[threshold_df['performance']==threshold_df['performance'].max()]['performance']\n",
    "                                 }  \n",
    "    except:\n",
    "        threshold_dict= {modelName +'_threshold':{\"threshold\": list(threshold_df.loc[threshold_df['performance']==threshold_df['performance'].max()]['threshold']),\n",
    "                                 \"performance\": threshold_df.loc[threshold_df['performance']==threshold_df['performance'].max()]['performance']\n",
    "                                 }\n",
    "                        }"
   ]
  },
  {
   "cell_type": "code",
   "execution_count": 79,
   "metadata": {},
   "outputs": [],
   "source": [
    "try:\n",
    "    modelName_list.remove('ensemble')\n",
    "except:\n",
    "    modelName_list\n",
    "modelName_list_res_df= [modelName+'_threshold' for modelName in modelName_list]\n",
    "for modelName in modelName_list_res_df:\n",
    "    res_df_Aux= pd.DataFrame.from_dict({\"model\": [modelName],\n",
    "                                        \"performance\": threshold_dict[modelName]['performance']\n",
    "                                       })\n",
    "    try:\n",
    "        res_df= pd.concat([res_df,res_df_Aux], axis=0)   \n",
    "    except:\n",
    "        res_df= res_df_Aux"
   ]
  },
  {
   "cell_type": "code",
   "execution_count": 80,
   "metadata": {},
   "outputs": [
    {
     "data": {
      "text/html": [
       "<div>\n",
       "<style scoped>\n",
       "    .dataframe tbody tr th:only-of-type {\n",
       "        vertical-align: middle;\n",
       "    }\n",
       "\n",
       "    .dataframe tbody tr th {\n",
       "        vertical-align: top;\n",
       "    }\n",
       "\n",
       "    .dataframe thead th {\n",
       "        text-align: right;\n",
       "    }\n",
       "</style>\n",
       "<table border=\"1\" class=\"dataframe\">\n",
       "  <thead>\n",
       "    <tr style=\"text-align: right;\">\n",
       "      <th></th>\n",
       "      <th>model</th>\n",
       "      <th>performance</th>\n",
       "    </tr>\n",
       "  </thead>\n",
       "  <tbody>\n",
       "    <tr>\n",
       "      <th>0</th>\n",
       "      <td>Naive</td>\n",
       "      <td>0.716007</td>\n",
       "    </tr>\n",
       "    <tr>\n",
       "      <th>0</th>\n",
       "      <td>randomForest</td>\n",
       "      <td>99.651221</td>\n",
       "    </tr>\n",
       "    <tr>\n",
       "      <th>0</th>\n",
       "      <td>boosting</td>\n",
       "      <td>99.651012</td>\n",
       "    </tr>\n",
       "    <tr>\n",
       "      <th>0</th>\n",
       "      <td>gradientBoosting</td>\n",
       "      <td>99.890121</td>\n",
       "    </tr>\n",
       "    <tr>\n",
       "      <th>0</th>\n",
       "      <td>Enssemble Majority Class</td>\n",
       "      <td>99.611509</td>\n",
       "    </tr>\n",
       "    <tr>\n",
       "      <th>0</th>\n",
       "      <td>Enssemble Weighted Average Probabilities</td>\n",
       "      <td>99.591441</td>\n",
       "    </tr>\n",
       "    <tr>\n",
       "      <th>0</th>\n",
       "      <td>randomForest_threshold</td>\n",
       "      <td>93.502003</td>\n",
       "    </tr>\n",
       "    <tr>\n",
       "      <th>0</th>\n",
       "      <td>adaBoost_threshold</td>\n",
       "      <td>90.647226</td>\n",
       "    </tr>\n",
       "    <tr>\n",
       "      <th>0</th>\n",
       "      <td>gradientBoosting_threshold</td>\n",
       "      <td>93.572251</td>\n",
       "    </tr>\n",
       "  </tbody>\n",
       "</table>\n",
       "</div>"
      ],
      "text/plain": [
       "                                      model  performance\n",
       "0                                     Naive     0.716007\n",
       "0                              randomForest    99.651221\n",
       "0                                  boosting    99.651012\n",
       "0                          gradientBoosting    99.890121\n",
       "0                  Enssemble Majority Class    99.611509\n",
       "0  Enssemble Weighted Average Probabilities    99.591441\n",
       "0                    randomForest_threshold    93.502003\n",
       "0                        adaBoost_threshold    90.647226\n",
       "0                gradientBoosting_threshold    93.572251"
      ]
     },
     "execution_count": 80,
     "metadata": {},
     "output_type": "execute_result"
    }
   ],
   "source": [
    "res_df"
   ]
  },
  {
   "cell_type": "markdown",
   "metadata": {},
   "source": [
    "<table>\n",
    " <tr><td width=\"80\"><img src=\"img/question.png\" style=\"width:auto;height:auto\"></td><td style=\"text-align:left\">\n",
    "Now create a visualization showing the performance of this supervised model on the test set, together with the unsupervised model. Has the performance improved after making use of the Class data?\n",
    " </td></tr>\n",
    "</table>"
   ]
  },
  {
   "cell_type": "code",
   "execution_count": 81,
   "metadata": {},
   "outputs": [],
   "source": [
    "res_df.sort_values(by=['performance'], ascending=0, inplace=True)"
   ]
  },
  {
   "cell_type": "code",
   "execution_count": 82,
   "metadata": {},
   "outputs": [
    {
     "data": {
      "text/plain": [
       "<matplotlib.axes._subplots.AxesSubplot at 0x25f5be8a198>"
      ]
     },
     "execution_count": 82,
     "metadata": {},
     "output_type": "execute_result"
    },
    {
     "data": {
      "image/png": "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\n",
      "text/plain": [
       "<Figure size 1080x360 with 1 Axes>"
      ]
     },
     "metadata": {},
     "output_type": "display_data"
    }
   ],
   "source": [
    "plt.figure(figsize=(15,5))\n",
    "sns.barplot(y=\"model\", x=\"performance\", data=res_df)"
   ]
  },
  {
   "cell_type": "code",
   "execution_count": null,
   "metadata": {},
   "outputs": [],
   "source": []
  }
 ],
 "metadata": {
  "anaconda-cloud": {},
  "kernelspec": {
   "display_name": "Python 3",
   "language": "python",
   "name": "python3"
  },
  "language_info": {
   "codemirror_mode": {
    "name": "ipython",
    "version": 3
   },
   "file_extension": ".py",
   "mimetype": "text/x-python",
   "name": "python",
   "nbconvert_exporter": "python",
   "pygments_lexer": "ipython3",
   "version": "3.6.5"
  },
  "varInspector": {
   "cols": {
    "lenName": 16,
    "lenType": 16,
    "lenVar": 40
   },
   "kernels_config": {
    "python": {
     "delete_cmd_postfix": "",
     "delete_cmd_prefix": "del ",
     "library": "var_list.py",
     "varRefreshCmd": "print(var_dic_list())"
    },
    "r": {
     "delete_cmd_postfix": ") ",
     "delete_cmd_prefix": "rm(",
     "library": "var_list.r",
     "varRefreshCmd": "cat(var_dic_list()) "
    }
   },
   "types_to_exclude": [
    "module",
    "function",
    "builtin_function_or_method",
    "instance",
    "_Feature"
   ],
   "window_display": false
  }
 },
 "nbformat": 4,
 "nbformat_minor": 1
}
